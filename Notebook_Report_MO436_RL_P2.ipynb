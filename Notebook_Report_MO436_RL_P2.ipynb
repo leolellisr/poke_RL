{
 "cells": [
  {
   "cell_type": "markdown",
   "id": "716721cf",
   "metadata": {},
   "source": [
    "# **MO436 - Project 2 - Pokémon RL**\n",
    "\n",
    "## **Group:**\n",
    "\n",
    "* Bruno César de Oliveira Souza - 234837\n",
    "\n",
    "* Henrique Lima Cará de Oliveira - 091518\n",
    "\n",
    "* Leonardo de Lellis Rossi - 261900\n",
    "\n",
    "* Maurício Pereira Lopes - 225242\n",
    "\n",
    "[Git Repository](https://github.com/leolellisr/poke_RL)\n",
    "\n",
    "Python files of implemented methods available [here](https://github.com/leolellisr/poke_RL/tree/master/py)\n",
    "\n",
    "Trained models available [here]()\n",
    "\n",
    "[Graphs ](https://app.neptune.ai/leolellisr/rl-pokeenv)\n",
    "\n",
    "[Presentation video]()\n",
    "\n",
    "Images and results are showed with IFrame from IPython.display, but it needs the images stored in the [/images/report](https://github.com/leolellisr/poke_RL/tree/master/images/report) folder, available in our [git repository](https://github.com/leolellisr/poke_RL). \n",
    "\n",
    "Images and Results also are presented with links from imgur."
   ]
  },
  {
   "cell_type": "code",
   "execution_count": 1,
   "id": "1740d352",
   "metadata": {},
   "outputs": [],
   "source": [
    "from IPython.display import IFrame"
   ]
  },
  {
   "cell_type": "markdown",
   "id": "cc4d8aa2",
   "metadata": {},
   "source": [
    "# Goal and Motivation\n",
    "\n",
    "* This project aims to employ different deep reinforcement learning agents in a Pokémon battle simulator;\n",
    "\n",
    "* Our motivation is that the deep reinforcement learning trainers show better results than tabular methods from Project 1 and, also, automatically learn, by making decisions through the analysis of states and rewards related to their performance, how to win battles throughout the episodes, noticing:\n",
    "  * the different types between Pokémon;\n",
    "  * which moves cause more damage to the opponent's Pokémon;\n",
    "  * what are the possible strategies using no-damage moves;\n",
    "  * and the best times to switch Pokémon. "
   ]
  },
  {
   "cell_type": "markdown",
   "id": "4fa37e9a",
   "metadata": {},
   "source": [
    "## **The  problem addressed**\n",
    "* [Pokémon](https://www.pokemon.com) is a popular Japanese RPG (Role Playing Game) which stands a world championship every year; \n",
    "* One single [battle](https://bulbapedia.bulbagarden.net/wiki/Pokémon_battle) of Pokémon has two players. Each player has a 6-Pokémon team; \n",
    "* Each Pokémon has:\n",
    " * 6 [stats](https://bulbapedia.bulbagarden.net/wiki/Stat) (Health Points, Attack, Defense, Special Attack, Special Defense, Speed). The first 5 are used in the damage calculation. The speed defined which Pokémon moves first in the turn.\n",
    "  * The Health Points goes from 100% (healthy) to 0% (fainted);\n",
    " * 4 possible moves (each with a limited number of uses). Each move has an accuracy, a percentage of success or fail;\n",
    " * one [ability](https://bulbapedia.bulbagarden.net/wiki/Ability) that has special effects in the field;\n",
    " * one [nature](https://bulbapedia.bulbagarden.net/wiki/Nature) that specifies which stats are higher and which are lower;\n",
    " * one [item](https://bulbapedia.bulbagarden.net/wiki/Item), that can  restore Health Points or increase the Power of an Attack.\n",
    "* The winner of the battle is the player that makes all Pokémon of the oposing team to faint (all oposing Pokémon with health points equals zero, \"last man standing\" criteria);\n",
    "* Only one Pokémon of each team can be at the battle field at the same time;\n",
    "* Every turn, each players select one action: one of the 4 moves of their active Pokémon or [switching](https://bulbapedia.bulbagarden.net/wiki/Recall) for one of other non-fainted Pokémon of their team;\n",
    "\n",
    "* Pokémon can be summarized as an analyze state (turn) -> take action sequence game. "
   ]
  },
  {
   "cell_type": "markdown",
   "id": "fbc19019",
   "metadata": {},
   "source": [
    "* By standard, Pokémon is a stochastic game:\n",
    " * One move can have an accuracy value less than 100%, then this move has a probability to be missed;\n",
    " * The damage moves (attacks) have the following [damage calculation](https://bulbapedia.bulbagarden.net/wiki/Damage):\n",
    "  ![Damage](https://wikimedia.org/api/rest_v1/media/math/render/svg/b8c51fed93bb9a80ae8febc13700a40b8a5da402)\n",
    "  \n",
    " where:\n",
    "  * **[Level](https://bulbapedia.bulbagarden.net/wiki/Level)** (the level of the attacking Pokémon);\n",
    "  * **A** is the effective Attack stat of the attacking Pokémon if the used move is a physical move, or the effective Special Attack stat of the attacking Pokémon if the used move is a special move;\n",
    "  * **D** is the effective Defense stat of the target if the used move is a physical move or a special move that uses the target's Defense stat, or the effective Special Defense of the target if the used move is an other special move;\n",
    "  * **[Power](https://bulbapedia.bulbagarden.net/wiki/Power)** is the effective power of the used move;\n",
    "  * **Weather** is 1.5 if a Water-type move is being used during rain or a Fire-type move during harsh sunlight, and 0.5 if a Water-type move is used during harsh sunlight or a Fire-type move during rain, and 1 otherwise.\n",
    "  * **[Critical](https://bulbapedia.bulbagarden.net/wiki/Critical_hit)** has 6.25% chance of occurs and multiplies the damage by 1.5;\n",
    "  * **random** is a random factor between 0.85 and 1.00 (inclusive):\n",
    "  * **[STAB](https://bulbapedia.bulbagarden.net/wiki/Same-type_attack_bonus)** is the same-type attack bonus. This is equal to 1.5 if the move's type matches any of the user's types, 2 if the user of the move additionally has the ability Adaptability, and 1 if otherwise;\n",
    "  * **[Type](https://bulbapedia.bulbagarden.net/wiki/Type)** is the type effectiveness. This can be 0 (ineffective); 0.25, 0.5 (not very effective); 1 (normally effective); 2, or 4 (super effective), depending on both the move's and target's types;\n",
    "  * **[Burn](https://bulbapedia.bulbagarden.net/wiki/Burn_(status_condition))** is 0.5 (from Generation III onward) if the attacker is burned, its Ability is not Guts, and the used move is a physical move (other than Facade from Generation VI onward), and 1 otherwise.\n",
    "  * **other** is 1 in most cases, and a different multiplier when specific interactions of moves, Abilities, or items take effect. In this work, this is applied just to Pokémon that has the item **Life Orb**, which multiplies the damage by 1.3.\n",
    "  \n",
    "  * **Not** used in this work (equals 1):\n",
    "   * Targets (for Battles with more than two active Pokémon in the field);\n",
    "   * Badge ( just applied in Generation II);\n",
    "   \n",
    "   "
   ]
  },
  {
   "cell_type": "markdown",
   "id": "37935f59",
   "metadata": {},
   "source": [
    "# **MDP formulation and discretization model** \n",
    "\n",
    "## Original (stochastic)\n",
    "\n",
    "We considered our original (stochastic) MDP as a tuple $M = (S, A, \\phi, R)$, where:\n",
    "* **S** is the whole set of possible states. One state **s $\\in$ S**  is defined at each turn with 12 battle elements concatenated, that correspond to:\n",
    " * [0] Our Active Pokémon index (0: Venusaur,  1: Pikachu, 2: Tauros, 3: Sirfetch'd, 4: Blastoise, 5: Charizard);\n",
    " * [1] Opponent Active Pokémon index (0: Eevee,  1: Vaporeon, 2: Leafeon, 3: Sylveon, 4: Jolteon, 5: Umbreon);\n",
    " * [2-5] Active Pokémon moves base power (if a move doesn't have base power, default to -1);\n",
    " * [6-9] Active Pokémon moves damage multipliers;\n",
    " * [10] Our remaining Pokémon;\n",
    " * [11] Opponent remaining Pokémon.\n",
    " \n",
    "* **A** is the whole set of possible actions. Our action space is a range [0, 8]. One action **a $\\in$ A** is one of the possible choices:\n",
    " * [0] 1st Active Pokémon move;\n",
    " * [1] 2nd Active Pokémon move;\n",
    " * [2] 3rd Active Pokémon move;\n",
    " * [3] 4th Active Pokémon move;\n",
    " * [4] Switch to 1st next Pokémon;\n",
    " * [5] Switch to 2nd next Pokémon;\n",
    " * [6] Switch to 3rd next Pokémon;\n",
    " * [7] Switch to 4th next Pokémon;\n",
    " * [8] Switch to 5th next Pokémon.\n",
    "\n",
    "When a selected action cannot be executed, we random select another possible action.\n",
    "\n",
    "* **$\\phi$** is a stochastic transition function that occurs from state **s** to state **s'**, by taking an action **a**. The following parameters are part of our  stochastic transition function:\n",
    " * Move's accuracy (chance of the move successfully occurs or fail);\n",
    " * Damage calculation: The **[Critical](https://bulbapedia.bulbagarden.net/wiki/Critical_hit)** parameter (6.25% chance of occurs) and the **random** parameter, ranging from 0.85 and 1.00 (inclusive).\n",
    " * Move's effects: Some moves have [additional effects](https://bulbapedia.bulbagarden.net/wiki/Additional_effect). e.g.: Iron Head have 30% chance of flinching the target (target cannot move in the turn).\n",
    "\n",
    "* **R** is a set of rewards. A reward **r $\\in$ R** is acquired in state **s** by taking the action **a**. The rewards are calculated at the end of the turn. The value of reward **r** is defined by the sum of elements:\n",
    " * +Our Active Pokémon current Health Points;\n",
    " * -2 if our Active Pokémon fainted;\n",
    " * -1 if our Active Pokémon have a [negative status condition](https://bulbapedia.bulbagarden.net/wiki/Status_condition);\n",
    " * +Number of remaining Pokémon in our team;\n",
    " * -Opponent Active Pokémon current Health Points;\n",
    " * +2 if opponent Active Pokémon fainted;\n",
    " * +1 if opponent Active Pokémon have a [negative status condition](https://bulbapedia.bulbagarden.net/wiki/Status_condition);\n",
    " * -Number of remaining Pokémon in opponent team;\n",
    " * +15 if we won the battle;\n",
    " * -15 if we lost the battle.\n",
    " \n",
    "### Stochastic Team\n",
    "\n",
    "Our stochastic team, with each Pokémon, their abilities, natures, items, moves (base power and accuracy) and possible switches are shown in [Team](https://imgur.com/KSXvlmO).\n",
    "\n",
    "The stochastic opponent team, with each Pokémon, their abilities, natures, items, moves (base power and accuracy) and possible switches are shown in [Opponent Team](https://imgur.com/rLF5Cli)."
   ]
  },
  {
   "cell_type": "code",
   "execution_count": 2,
   "id": "07c41841",
   "metadata": {},
   "outputs": [
    {
     "data": {
      "text/html": [
       "\n",
       "        <iframe\n",
       "            width=\"1000\"\n",
       "            height=\"600\"\n",
       "            src=\"images/report/Team stochastic.png\"\n",
       "            frameborder=\"0\"\n",
       "            allowfullscreen\n",
       "        ></iframe>\n",
       "        "
      ],
      "text/plain": [
       "<IPython.lib.display.IFrame at 0x1c45d909d68>"
      ]
     },
     "execution_count": 2,
     "metadata": {},
     "output_type": "execute_result"
    }
   ],
   "source": [
    "IFrame(\"images/report/Team stochastic.png\", width=1000, height=600)"
   ]
  },
  {
   "cell_type": "code",
   "execution_count": 3,
   "id": "50441bfa",
   "metadata": {},
   "outputs": [
    {
     "data": {
      "text/html": [
       "\n",
       "        <iframe\n",
       "            width=\"1000\"\n",
       "            height=\"600\"\n",
       "            src=\"images/report/Opponent stochastic.png\"\n",
       "            frameborder=\"0\"\n",
       "            allowfullscreen\n",
       "        ></iframe>\n",
       "        "
      ],
      "text/plain": [
       "<IPython.lib.display.IFrame at 0x1c45d92a358>"
      ]
     },
     "execution_count": 3,
     "metadata": {},
     "output_type": "execute_result"
    }
   ],
   "source": [
    "IFrame(\"images/report/Opponent stochastic.png\", width=1000, height=600)"
   ]
  },
  {
   "cell_type": "markdown",
   "id": "ef9be4a3",
   "metadata": {},
   "source": [
    "## Deterministic\n",
    "\n",
    "To adapt Pokémon to a deterministic environment, we use Pokémon that cannot receive a critical hit, moves with only 100% accuracy and no side effects, and edit the server code to ignore the random parameter in damage calculation, removing the stochastic transition function $\\phi$ from our MDP. Therefore, now our MDP is a tuple $M = (S, A, R)$, where:\n",
    "* **S** is the whole set of possible states. One state **s $\\in$ S**  is defined at each turn with 12 battle elements concatenated, that correspond to:\n",
    " * [0] Our Active Pokémon index ;\n",
    " * [1] Opponent Active Pokémon index ;\n",
    " * [2-5] Active Pokémon moves base power (if a move doesn't have base power, default to -1);\n",
    " * [6-9] Active Pokémon moves damage multipliers;\n",
    " * [10] Our remaining Pokémon;\n",
    " * [11] Opponent remaining Pokémon.\n",
    " \n",
    "* **A** is the whole set of possible actions. Our action space is a range [0, 8] (len: 9). One action **a $\\in$ A** is one of the possible choices:\n",
    " * [0] 1st Active Pokémon move;\n",
    " * [1] 2nd Active Pokémon move;\n",
    " * [2] 3rd Active Pokémon move;\n",
    " * [3] 4th Active Pokémon move;\n",
    " * [4] Switch to 1st next Pokémon;\n",
    " * [5] Switch to 2nd next Pokémon;\n",
    " * [6] Switch to 3rd next Pokémon;\n",
    " * [7] Switch to 4th next Pokémon;\n",
    " * [8] Switch to 5th next Pokémon.\n",
    "\n",
    "When a selected action cannot be executed, we random select another possible action.\n",
    "\n",
    "* **R** is a set of rewards. A reward **r $\\in$ R** is acquired in state **s** by taking the action **a**. The rewards are calculated at the end of each turn. The value of reward **r** is defined by the sum of elements:\n",
    " * +Our Active Pokémon current Health Points;\n",
    " * -2 if our Active Pokémon fainted;\n",
    " * -1 if our Active Pokémon have a [negative status condition](https://bulbapedia.bulbagarden.net/wiki/Status_condition);\n",
    " * +Number of remaining Pokémon in our team;\n",
    " * -Opponent Active Pokémon current Health Points;\n",
    " * +2 if opponent Active Pokémon fainted;\n",
    " * +1 if opponent Active Pokémon have a [negative status condition](https://bulbapedia.bulbagarden.net/wiki/Status_condition);\n",
    " * -Number of remaining Pokémon in opponent team;\n",
    " * +15 if we won the battle;\n",
    " * -15 if we lost the battle.\n",
    " \n",
    "### Deterministic Team\n",
    "\n",
    "Our deterministic team, with each Pokémon, their abilities, natures, items, moves (base power and accuracy) and possible switches are shown in [Team](https://imgur.com/DeRAEQb).\n",
    "\n",
    "The deterministic opponent team, with each Pokémon, their abilities, natures, items, moves (base power and accuracy) and possible switches are shown in [Opponent Team](https://imgur.com/Hltn5OO).\n",
    "\n",
    "We use on both teams only Pokémon with [Battle Armor](https://bulbapedia.bulbagarden.net/wiki/Battle_Armor_(Ability)) or [Shell Armor](https://bulbapedia.bulbagarden.net/wiki/Shell_Armor_(Ability)) abilities, which prevent critical hits from being performed. Also, we use in both teams only moves with 100% accuracy, with no chance of getting it missed, and the moves haven't additional effects."
   ]
  },
  {
   "cell_type": "code",
   "execution_count": 4,
   "id": "42180e07",
   "metadata": {},
   "outputs": [
    {
     "data": {
      "text/html": [
       "\n",
       "        <iframe\n",
       "            width=\"1000\"\n",
       "            height=\"600\"\n",
       "            src=\"images/report/Team deterministic.png\"\n",
       "            frameborder=\"0\"\n",
       "            allowfullscreen\n",
       "        ></iframe>\n",
       "        "
      ],
      "text/plain": [
       "<IPython.lib.display.IFrame at 0x1c45d92a320>"
      ]
     },
     "execution_count": 4,
     "metadata": {},
     "output_type": "execute_result"
    }
   ],
   "source": [
    "IFrame(\"images/report/Team deterministic.png\", width=1000, height=600)"
   ]
  },
  {
   "cell_type": "code",
   "execution_count": 5,
   "id": "15ef5a66",
   "metadata": {},
   "outputs": [
    {
     "data": {
      "text/html": [
       "\n",
       "        <iframe\n",
       "            width=\"1000\"\n",
       "            height=\"600\"\n",
       "            src=\"images/report/Opponent deterministic.png\"\n",
       "            frameborder=\"0\"\n",
       "            allowfullscreen\n",
       "        ></iframe>\n",
       "        "
      ],
      "text/plain": [
       "<IPython.lib.display.IFrame at 0x1c45d92a438>"
      ]
     },
     "execution_count": 5,
     "metadata": {},
     "output_type": "execute_result"
    }
   ],
   "source": [
    "IFrame(\"images/report/Opponent deterministic.png\", width=1000, height=600)"
   ]
  },
  {
   "cell_type": "markdown",
   "id": "815db287",
   "metadata": {},
   "source": [
    "## Search space\n",
    "\n",
    "The features that integrate our states are shown in [this figure](https://imgur.com/tREjWCG) and below. For a single battle between two players with 6 Pokémon each, we have $1.016.064$ possible states.\n",
    "\n",
    "Since we have 9 possible actions, we total $9.144.576$ possibilities for each battle."
   ]
  },
  {
   "cell_type": "code",
   "execution_count": 4,
   "id": "b0f10697",
   "metadata": {},
   "outputs": [
    {
     "data": {
      "text/html": [
       "\n",
       "        <iframe\n",
       "            width=\"920\"\n",
       "            height=\"600\"\n",
       "            src=\"images/report/possible_states.png\"\n",
       "            frameborder=\"0\"\n",
       "            allowfullscreen\n",
       "        ></iframe>\n",
       "        "
      ],
      "text/plain": [
       "<IPython.lib.display.IFrame at 0x23ad7c0b5f8>"
      ]
     },
     "execution_count": 4,
     "metadata": {},
     "output_type": "execute_result"
    }
   ],
   "source": [
    "IFrame(\"images/report/possible_states.png\", width=920, height=600)"
   ]
  },
  {
   "cell_type": "markdown",
   "id": "2a7a0b44",
   "metadata": {},
   "source": [
    "# **The environments built**\n",
    "\n",
    "The environment used is [Pokémon Showdown](https://play.pokemonshowdown.com), an [open-source](https://github.com/smogon/pokemon-showdown.git) Pokémon battle simulator.\n",
    "\n",
    "[Example](https://imgur.com/hjHikuc) of one battle in Pokémon Showdown.\n"
   ]
  },
  {
   "cell_type": "code",
   "execution_count": 5,
   "id": "5501b072",
   "metadata": {},
   "outputs": [
    {
     "data": {
      "text/html": [
       "\n",
       "        <iframe\n",
       "            width=\"1000\"\n",
       "            height=\"1000\"\n",
       "            src=\"images/report/showdownEx.jpg\"\n",
       "            frameborder=\"0\"\n",
       "            allowfullscreen\n",
       "        ></iframe>\n",
       "        "
      ],
      "text/plain": [
       "<IPython.lib.display.IFrame at 0x23ad7c0b208>"
      ]
     },
     "execution_count": 5,
     "metadata": {},
     "output_type": "execute_result"
    }
   ],
   "source": [
    "IFrame(\"images/report/showdownEx.jpg\", width=1000, height=1000)"
   ]
  },
  {
   "cell_type": "markdown",
   "id": "146584d8",
   "metadata": {},
   "source": [
    "To communicate our agents with Pokémon Showdown we used [poke-env](https://poke-env.readthedocs.io/en/latest/) a Python environment for interacting in Pokémon Showdown battles.\n",
    "\n",
    "We used separated Python classes (available in our [git repository](https://github.com/leolellisr/poke_RL/tree/master/src)) for define the Players that are trained with each method. These classes communicates with Pokémon Showdown and implements the poke-env methods to:\n",
    "* Create battles;\n",
    "* Accept battles;\n",
    "* Send orders (actions) to Pokémon Showdown.\n",
    "\n",
    "## Original (stochastic)\n",
    "\n",
    "To speed up the battles, we hosted our own server of Pokemon Showdown in localhost. It requires Node.js v10+."
   ]
  },
  {
   "cell_type": "code",
   "execution_count": null,
   "id": "cb5d884d",
   "metadata": {},
   "outputs": [],
   "source": [
    "git clone https://github.com/smogon/pokemon-showdown.git"
   ]
  },
  {
   "cell_type": "markdown",
   "id": "6bda0687",
   "metadata": {},
   "source": [
    "After clone the repository, it's needed to create a logs folder in root.\n",
    "\n",
    "To configure the server, we used the following code:"
   ]
  },
  {
   "cell_type": "code",
   "execution_count": null,
   "id": "bb86e046",
   "metadata": {},
   "outputs": [],
   "source": [
    "cd pokemon-showdown\n",
    "npm install\n",
    "cp config/config-example.js config/config.js"
   ]
  },
  {
   "cell_type": "markdown",
   "id": "9b2e655b",
   "metadata": {},
   "source": [
    "To start the server, we use:"
   ]
  },
  {
   "cell_type": "code",
   "execution_count": null,
   "id": "423947b8",
   "metadata": {},
   "outputs": [],
   "source": [
    "node pokemon-showdown start --no-security"
   ]
  },
  {
   "cell_type": "markdown",
   "id": "f62469ce",
   "metadata": {},
   "source": [
    "## Deterministic environment\n",
    "\n",
    "To adapt our environment to a deterministic setup, we had to establish the following parameters:\n",
    "\n",
    "* We removed the random component of sim/battle.ts from the Pokémon Showdown simulator;\n",
    "\n",
    "* We use on both teams only Pokémon with Battle Armor or Shell Armor abilities, which prevent critical hits from being performed;\n",
    "\n",
    "* We used in both teams only moves with 100% accuracy, with no chance of getting it missed;\n",
    "\n",
    "* We didn't use any move with additional effect. "
   ]
  },
  {
   "cell_type": "markdown",
   "id": "e5020d90",
   "metadata": {},
   "source": [
    "# **Characteristics of  the problem**\n",
    "\n",
    "* Both of our environments (stochastic and deterministic) are episodic. One state occurs after another;\n",
    "\n",
    "* Our terminal states are:\n",
    " * When all our Pokémon are fainted (we lose);\n",
    " * When all opponent Pokémon are fainted (we won).\n",
    "\n",
    "* As specified before, a reward **r** is calculated at the end of a turn (beginning of next turn). The value of reward **r** is defined by the sum of:\n",
    " * +Our Active Pokémon current Health Points;\n",
    " * -2 if our Active Pokémon fainted;\n",
    " * -1 if our Active Pokémon have a [negative status condition](https://bulbapedia.bulbagarden.net/wiki/Status_condition);\n",
    " * +Number of remaining Pokémon in our team;\n",
    " * -Opponent Active Pokémon current Health Points;\n",
    " * +2 if opponent Active Pokémon fainted;\n",
    " * +1 if opponent Active Pokémon have a [negative status condition](https://bulbapedia.bulbagarden.net/wiki/Status_condition);\n",
    " * -Number of remaining Pokémon in opponent team;\n",
    " * +15 if we won the battle;\n",
    " * -15 if we lost the battle."
   ]
  },
  {
   "cell_type": "markdown",
   "id": "6c223993",
   "metadata": {},
   "source": [
    "# gym wrapper\n",
    "\n",
    "To implement Deep Reinforcement Learning methods in our project, we used poke_env's [env_player class](https://github.com/hsahovic/poke-env/blob/master/src/poke_env/player/env_player.py) as base class. \n",
    "\n",
    "The Deep Reinforcement Learning method can be used with the poke_env class by defining our agent as a gym environment to be used in the DeepRL method. \n",
    "\n",
    "The class defines an env_algorithm_wrapper for communication between a Pokémon Showdown environment in gym, a Deep Reinforcement Learning method and our agent, that will be used as an environment for the Deep Reinforcement Learning method to states/rewards analysis and decision making.\n",
    "\n"
   ]
  },
  {
   "cell_type": "markdown",
   "id": "b4cbec2c",
   "metadata": {},
   "source": [
    "# **Deep Q-Learning - Keras (2018)**\n",
    "\n",
    "The first method we have implemented was a **value-based** method: [Deep Q-Learning (DQN), from Keras-RL Agents (2018)](github.com/keras-rl/keras-rl/blob/master/rl/agents/dqn.py).\n",
    "\n",
    "* Agent performs actions in the environment to learn how to map the observed states to certain actions;\n",
    "* The agent chooses an action in a given state based on a \"Q value\" (weighted reward based on the highest expected long-term reward); \n",
    "* DQN agent learns to perform its task in such a way that the recommended action maximizes potential future rewards;\n",
    "* The method is considered an \"Off-Policy\" method because its Q values are updated assuming the best action was chosen, even if the best action was not chosen.\n",
    "*  Q-value is calculated with the reward added to the next state maximum Q-value. Every time the Q-value calculates a high number for a certain state, the value that is obtained from the output of the neural network for that specific state, will become higher every time. Each output neuron value will get higher and higher until the difference between each output value is high;\n",
    "* If action a in state s is a higher value than action b, then action a will get chosen every time for state s. If for some memory experience action b becomes the better action for state s, it is difficult to train the network to learn that action b is the better action in some conditions.\n",
    "\n",
    "* We used an [linear annealing $\\epsilon$-greedy exploration strategy,  from Keras-RL (2018)](https://github.com/keras-rl/keras-rl/blob/master/rl/policy.py), with $\\epsilon = 0,1$;\n",
    "\n",
    "* We used the following $\\epsilon$-greedy policy:"
   ]
  },
  {
   "cell_type": "code",
   "execution_count": null,
   "id": "bab84a74",
   "metadata": {},
   "outputs": [],
   "source": [
    "policy = LinearAnnealedPolicy(\n",
    "            EpsGreedyQPolicy(),\n",
    "            attr=\"eps\",\n",
    "            eps = 0.1,\n",
    "            value_max=1.0,\n",
    "            value_min=0.05,\n",
    "            value_test=0,\n",
    "            nb_steps=10.000 * epochs/10,\n",
    "        )"
   ]
  },
  {
   "cell_type": "markdown",
   "id": "0ec846b5",
   "metadata": {},
   "source": [
    "We have applied the follow configurations and hyperparameters to the training of this method:\n",
    "* Optimizer: Adam (Learning Rate: $2.5e-4$)\n",
    "* Number of the steps in warmup: $10.000 * epochs/10$\n",
    "* Metric (training): Mean Absolute Error\n",
    "* gamma = $0.75$\n",
    "* target_model_update=$1$\n",
    "* delta_clip=$0.01$\n",
    "* epsilon (epsilon-greedy policy)=$0.1$  \n",
    "\n",
    "\n",
    "\n",
    "The internal model of our DQN agent is shown above:"
   ]
  },
  {
   "cell_type": "code",
   "execution_count": null,
   "id": "1ac39e3c",
   "metadata": {},
   "outputs": [],
   "source": [
    "N_HIDDEN = 128\n",
    "N_STATE_COMPONENTS = 12\n",
    "n_action = 9\n",
    "model = Sequential()\n",
    "model.add(Dense(N_HIDDEN, activation=\"elu\", input_shape=(1, N_STATE_COMPONENTS)))\n",
    "# Our embedding have shape (1, 12), which affects our hidden layer dimension and output dimension\n",
    "# Flattening resolve potential issues that would arise otherwise\n",
    "model.add(Flatten())\n",
    "model.add(Dense(int(N_HIDDEN/2), activation=\"elu\"))\n",
    "model.add(Dense(n_action, activation=\"linear\"))"
   ]
  },
  {
   "cell_type": "markdown",
   "id": "4b3b382e",
   "metadata": {},
   "source": [
    "* Since DQN trains by step and one battle has usually 30 steps, we defined $10.000$ steps per epoch (~$333$ battles per epoch) and defined the total number of battles with the number of epochs. We trained our agent against a MaxDamagePlayer, that always selects the move with the greatest base power. We trained for $300.000$ steps ($30$ epochs and ~$10.000$ battles) and  $900.000$ steps ($90$ epochs and ~$30.000$ battles). At the end of the $900.000$ steps training, we saved the Keras model for future use;\n",
    "\n",
    "* We defined one SequentialMemory with limit of the max number of steps ($10.000$ * epochs) and a window length of 1;"
   ]
  },
  {
   "cell_type": "code",
   "execution_count": null,
   "id": "73edb96b",
   "metadata": {},
   "outputs": [],
   "source": [
    "memory = SequentialMemory(limit=10.000 * epochs, window_length=1)"
   ]
  },
  {
   "cell_type": "markdown",
   "id": "2e7810ce",
   "metadata": {},
   "source": [
    "* We defined and compiled our DQN as follows:"
   ]
  },
  {
   "cell_type": "code",
   "execution_count": null,
   "id": "b78b4d44",
   "metadata": {},
   "outputs": [],
   "source": [
    "dqn = DQNAgent(\n",
    "        model=model,\n",
    "        nb_actions=len(env_player.action_space),\n",
    "        policy=policy,\n",
    "        memory=memory,\n",
    "        nb_steps_warmup=int(10.000 * epochs/10),\n",
    "        gamma=0.75,\n",
    "        target_model_update=1,\n",
    "        delta_clip=0.01,\n",
    "        enable_double_dqn=False\n",
    "    )\n",
    "dqn.compile(Adam(lr=2.5e-4), metrics=[\"mae\"])"
   ]
  },
  {
   "cell_type": "markdown",
   "id": "ab4bc466",
   "metadata": {},
   "source": [
    "* We defined the following algorithms to train and validate our DQN."
   ]
  },
  {
   "cell_type": "code",
   "execution_count": null,
   "id": "bd96d13d",
   "metadata": {},
   "outputs": [],
   "source": [
    "def dqn_training(player, dqn, nb_steps):\n",
    "    dqn.fit(player, nb_steps=nb_steps)\n",
    "    player.complete_current_battle()\n",
    "\n",
    "def dqn_evaluation(player, dqn, nb_episodes):\n",
    "    # Reset battle statistics\n",
    "    player.reset_battles()\n",
    "    dqn.test(player, nb_episodes=nb_episodes, visualize=False)"
   ]
  },
  {
   "cell_type": "markdown",
   "id": "93881421",
   "metadata": {},
   "source": [
    "Finally, we call the following functions to train and test our agent:"
   ]
  },
  {
   "cell_type": "code",
   "execution_count": null,
   "id": "bf891141",
   "metadata": {},
   "outputs": [],
   "source": [
    "# Training\n",
    "env_player.play_against(\n",
    "    env_algorithm=dqn_training,\n",
    "    opponent=opponent_player,\n",
    "    env_algorithm_kwargs={\"dqn\": dqn, \"nb_steps\": int(10.000 * epochs/10)},\n",
    ")\n",
    "model.save(\"model_%d\" % int(10.000 * epochs/10))\n",
    "\n",
    "# Evaluation\n",
    "env_player.num_battles=0\n",
    "env_player.play_against(\n",
    "    env_algorithm=dqn_evaluation,\n",
    "    opponent=opponent,\n",
    "    env_algorithm_kwargs={\"dqn\": dqn, \"nb_episodes\": int(number_of_battles/3)})"
   ]
  },
  {
   "cell_type": "markdown",
   "id": "ffb3229d",
   "metadata": {},
   "source": [
    "* We validate our solution in both cases against a MaxDamagePlayer and against a RandomPlayer, that selects random actions at each turn. We validated for $3.333$ battles against each Player.  "
   ]
  },
  {
   "cell_type": "markdown",
   "id": "a3640365",
   "metadata": {},
   "source": [
    "## **Deep Q-Learning - Keras (2018)** 300k steps - Stochastic - Results \n",
    "\n",
    "The instant values of the graphs of \"Rewards in Training\", \"Wins in Training\" and \"Memory/CPU usage in Traning\" can be seen at https://app.neptune.ai/leolellisr/rl-pokeenv/e/RLPOK-184/charts. \n",
    "\n",
    "The agent trained for $300k$ steps and $10.077$ battles, resulting in ~$29,77$ steps per battle.\n",
    " \n",
    "### **Deep Q-Learning - Keras (2018)** 300k steps - Stochastic - Rewards (per step) - Training \n",
    "\n",
    "[**Deep Q-Learning - Keras (2018)** 300k steps - Stochastic - Rewards (per step) - Training](https://imgur.com/ixM6ErF)"
   ]
  },
  {
   "cell_type": "code",
   "execution_count": 6,
   "id": "bf08d96b",
   "metadata": {},
   "outputs": [
    {
     "data": {
      "text/html": [
       "\n",
       "        <iframe\n",
       "            width=\"800\"\n",
       "            height=\"600\"\n",
       "            src=\"images/report/reward_computed_MC_Control.png\"\n",
       "            frameborder=\"0\"\n",
       "            allowfullscreen\n",
       "        ></iframe>\n",
       "        "
      ],
      "text/plain": [
       "<IPython.lib.display.IFrame at 0x23ad7c0bac8>"
      ]
     },
     "execution_count": 6,
     "metadata": {},
     "output_type": "execute_result"
    }
   ],
   "source": [
    "IFrame(\"images/report/reward_computed_dqn_sto.png\", width=800, height=600)"
   ]
  },
  {
   "cell_type": "markdown",
   "id": "da71814b",
   "metadata": {},
   "source": [
    "### **Deep Q-Learning - Keras (2018)** 300k steps - Stochastic - Win percentages (per battle) - Training\n",
    "[ **Deep Q-Learning - Keras (2018)** 300k steps - Stochastic - Win percentages (per step) - Training](https://imgur.com/IASqmaj)"
   ]
  },
  {
   "cell_type": "code",
   "execution_count": 7,
   "id": "036a206e",
   "metadata": {},
   "outputs": [
    {
     "data": {
      "text/html": [
       "\n",
       "        <iframe\n",
       "            width=\"1000\"\n",
       "            height=\"600\"\n",
       "            src=\"images/report/win_acc_MC_Control.png\"\n",
       "            frameborder=\"0\"\n",
       "            allowfullscreen\n",
       "        ></iframe>\n",
       "        "
      ],
      "text/plain": [
       "<IPython.lib.display.IFrame at 0x23ad7c0bc18>"
      ]
     },
     "execution_count": 7,
     "metadata": {},
     "output_type": "execute_result"
    }
   ],
   "source": [
    "IFrame(\"images/report/win_acc_dqn_sto.png\", width=1000, height=600)"
   ]
  },
  {
   "cell_type": "markdown",
   "id": "8ff436a7",
   "metadata": {},
   "source": [
    "### **Deep Q-Learning - Keras (2018)** 300k steps - Stochastic - Win percentages - Validation\n",
    "\n",
    "### Versus MaxPlayer\n",
    "* Player won $2319/3286$ battles [this is $69,57\\%$ and took $12.699$ seconds]\n",
    "\n",
    "### Versus RandomPlayer\n",
    "* Player won $3286/3333$ battles [this is $98,59\\%$ and took $12.459$ seconds]\n"
   ]
  },
  {
   "cell_type": "markdown",
   "id": "80535c77",
   "metadata": {},
   "source": [
    "\n",
    "### **Deep Q-Learning - Keras (2018)** 300k steps - Stochastic - Memory and CPU usage (absolute time) - Training\n",
    "\n",
    "[**Deep Q-Learning - Keras (2018)** 300k steps - Stochastic - Memory and CPU usage (absolute time) - Training](https://imgur.com/WicjMaW)"
   ]
  },
  {
   "cell_type": "code",
   "execution_count": 8,
   "id": "8c056ca4",
   "metadata": {},
   "outputs": [
    {
     "data": {
      "text/html": [
       "\n",
       "        <iframe\n",
       "            width=\"1000\"\n",
       "            height=\"600\"\n",
       "            src=\"images/report/cpu and memory MC_Control.png\"\n",
       "            frameborder=\"0\"\n",
       "            allowfullscreen\n",
       "        ></iframe>\n",
       "        "
      ],
      "text/plain": [
       "<IPython.lib.display.IFrame at 0x23ad7c0b438>"
      ]
     },
     "execution_count": 8,
     "metadata": {},
     "output_type": "execute_result"
    }
   ],
   "source": [
    "IFrame(\"images/report/cpu and memory dqn keras sto.png\", width=1000, height=600)"
   ]
  },
  {
   "cell_type": "code",
   "execution_count": null,
   "id": "a0278688",
   "metadata": {},
   "outputs": [],
   "source": []
  },
  {
   "cell_type": "markdown",
   "id": "9bd76f50",
   "metadata": {},
   "source": [
    "## **Deep Q-Learning - Keras (2018)** 300k steps - Deterministic - Results \n",
    "\n",
    "The instant values of the graphs of \"Rewards in Training\", \"Wins in Training\" and \"Memory/CPU usage in Traning\" can be seen at  https://app.neptune.ai/leolellisr/rl-pokeenv/e/RLPOK-189/charts.\n",
    "\n",
    "The agent trained for $300k$ steps and $13.021$ battles, resulting in ~$23,04$ steps per battle.\n",
    "\n",
    "### **Deep Q-Learning - Keras (2018)** 300k steps - Deterministic - Rewards (per step) - Training \n",
    "\n",
    "[**Deep Q-Learning - Keras (2018)** 300k steps - Deterministic - Rewards (per step) - Training](https://imgur.com/AqsupVL)"
   ]
  },
  {
   "cell_type": "code",
   "execution_count": 15,
   "id": "ed8e7fab",
   "metadata": {},
   "outputs": [
    {
     "data": {
      "text/html": [
       "\n",
       "        <iframe\n",
       "            width=\"800\"\n",
       "            height=\"600\"\n",
       "            src=\"images/report/reward_computed_MC_Control_deterministic.png\"\n",
       "            frameborder=\"0\"\n",
       "            allowfullscreen\n",
       "        ></iframe>\n",
       "        "
      ],
      "text/plain": [
       "<IPython.lib.display.IFrame at 0x23ad7be9a90>"
      ]
     },
     "execution_count": 15,
     "metadata": {},
     "output_type": "execute_result"
    }
   ],
   "source": [
    "IFrame(\"images/report/reward_computed_dqn_det.png\", width=800, height=600)"
   ]
  },
  {
   "cell_type": "markdown",
   "id": "c3c97920",
   "metadata": {},
   "source": [
    "### **Deep Q-Learning - Keras (2018)** 300k steps - Deterministic - Win percentages (per battle) - Training\n",
    "[ **Deep Q-Learning - Keras (2018)** 300k steps - Deterministic - Win percentages (per step) - Training](https://imgur.com/rYU76ax)"
   ]
  },
  {
   "cell_type": "code",
   "execution_count": 16,
   "id": "2d648623",
   "metadata": {},
   "outputs": [
    {
     "data": {
      "text/html": [
       "\n",
       "        <iframe\n",
       "            width=\"1000\"\n",
       "            height=\"600\"\n",
       "            src=\"images/report/win_acc_MC_Control_deterministic.png\"\n",
       "            frameborder=\"0\"\n",
       "            allowfullscreen\n",
       "        ></iframe>\n",
       "        "
      ],
      "text/plain": [
       "<IPython.lib.display.IFrame at 0x23ad7c4d080>"
      ]
     },
     "execution_count": 16,
     "metadata": {},
     "output_type": "execute_result"
    }
   ],
   "source": [
    "IFrame(\"images/report/win_acc_dqn_det.png\", width=1000, height=600)"
   ]
  },
  {
   "cell_type": "markdown",
   "id": "6a33ac70",
   "metadata": {},
   "source": [
    "### **Deep Q-Learning - Keras (2018)** 300k steps - Deterministic - Win percentages - Validation\n",
    "\n",
    "### Versus MaxPlayer\n",
    "* Player won $2390/3333$ battles [this is $71,71\\%$ and took $11.016$ seconds]\n",
    "\n",
    "### Versus RandomPlayer\n",
    "* Player won $3283/3333$ battles [this is $98,50\\%$ and took $12.889$ seconds]"
   ]
  },
  {
   "cell_type": "markdown",
   "id": "94c26b30",
   "metadata": {},
   "source": [
    "### **Deep Q-Learning - Keras (2018)** 300k steps - Deterministic - Memory and CPU usage  (absolute time) - Training\n",
    "\n",
    "[**Deep Q-Learning - Keras (2018)** 300k steps - Deterministic - Memory and CPU usage (absolute time) - Training](https://imgur.com/yJflda0)"
   ]
  },
  {
   "cell_type": "code",
   "execution_count": 17,
   "id": "6d32315a",
   "metadata": {},
   "outputs": [
    {
     "data": {
      "text/html": [
       "\n",
       "        <iframe\n",
       "            width=\"1000\"\n",
       "            height=\"600\"\n",
       "            src=\"images/report/cpu and memory MC_Control_deterministic.png\"\n",
       "            frameborder=\"0\"\n",
       "            allowfullscreen\n",
       "        ></iframe>\n",
       "        "
      ],
      "text/plain": [
       "<IPython.lib.display.IFrame at 0x23ad7c4d1d0>"
      ]
     },
     "execution_count": 17,
     "metadata": {},
     "output_type": "execute_result"
    }
   ],
   "source": [
    "IFrame(\"images/report/cpu and memory dqn keras det.png\", width=1000, height=600)"
   ]
  },
  {
   "cell_type": "markdown",
   "id": "2d801ff5",
   "metadata": {},
   "source": [
    "## **Deep Q-Learning - Keras (2018)** 900k steps - Stochastic - Results \n",
    "\n",
    "The instant values of the graphs of \"Rewards in Training\", \"Wins in Training\" and \"Memory/CPU usage in Traning\" can be seen at https://app.neptune.ai/leolellisr/rl-pokeenv/e/RLPOK-185/charts. \n",
    "\n",
    "The agent trained for $900k$ steps and $29.979$ battles, resulting in ~$30,02$ steps per battle.\n",
    "\n",
    "### **Deep Q-Learning - Keras (2018)** 900k steps - Stochastic - Rewards (per step) - Training \n",
    "\n",
    "[**Deep Q-Learning - Keras (2018)** 900k steps - Stochastic - Rewards (per step) - Training](https://imgur.com/bhxDe1S)"
   ]
  },
  {
   "cell_type": "code",
   "execution_count": null,
   "id": "e7d33c96",
   "metadata": {},
   "outputs": [],
   "source": [
    "IFrame(\"images/report/reward_computed_dqn_sto90.png\", width=800, height=600)"
   ]
  },
  {
   "cell_type": "markdown",
   "id": "141a2282",
   "metadata": {},
   "source": [
    "### **Deep Q-Learning - Keras (2018)** 900k steps - Stochastic - Win percentages (per battle) - Training\n",
    "[ **Deep Q-Learning - Keras (2018)** 900k steps - Stochastic - Win percentages (per step) - Training](https://imgur.com/NaWa56r)"
   ]
  },
  {
   "cell_type": "code",
   "execution_count": null,
   "id": "c7fcfc60",
   "metadata": {},
   "outputs": [],
   "source": [
    "IFrame(\"images/report/win_acc_dqn_sto90.png\", width=1000, height=600)"
   ]
  },
  {
   "cell_type": "markdown",
   "id": "c866c458",
   "metadata": {},
   "source": [
    "### **Deep Q-Learning - Keras (2018)** 900k steps - Stochastic - Win percentages - Validation\n",
    "\n",
    "### Versus MaxPlayer\n",
    "* Player won $2032/3333$ battles [this is $60,57\\%$ and took $36.988$ seconds]\n",
    "\n",
    "### Versus RandomPlayer\n",
    "* Player won $3309/3333$ battles [this is $99,28\\%$ and took $39.774$ seconds]\n",
    "\n",
    "\n",
    "### **Deep Q-Learning - Keras (2018)** 900k steps - Stochastic - Memory and CPU usage (absolute time) - Training\n",
    "\n",
    "[**Deep Q-Learning - Keras (2018)** 900k steps - Stochastic - Memory and CPU usage (absolute time) - Training](https://imgur.com/8kG2OlA)\n"
   ]
  },
  {
   "cell_type": "code",
   "execution_count": null,
   "id": "11e1283b",
   "metadata": {},
   "outputs": [],
   "source": [
    "IFrame(\"images/report/cpu and memory dqn keras sto90.png\", width=1000, height=600)"
   ]
  },
  {
   "cell_type": "markdown",
   "id": "ed128d96",
   "metadata": {},
   "source": [
    "## **Deep Q-Learning - Keras (2018)** 900k steps - Deterministic - Results \n",
    "\n",
    "The instant values of the graphs of \"Rewards in Training\", \"Wins in Training\" and \"Memory/CPU usage in Traning\" can be seen at https://app.neptune.ai/leolellisr/rl-pokeenv/e/RLPOK-190/charts. \n",
    "\n",
    "The agent trained for $900k$ steps and $38.922$ battles, resulting in ~$23,12$ steps per battle.\n",
    "\n",
    "### **Deep Q-Learning - Keras (2018)** 900k steps - Deterministic - Rewards (per step) - Training \n",
    "\n",
    "[**Deep Q-Learning - Keras (2018)** 900k steps - Deterministic - Rewards (per step) - Training](https://imgur.com/f1sQsub)"
   ]
  },
  {
   "cell_type": "code",
   "execution_count": null,
   "id": "478bb90e",
   "metadata": {},
   "outputs": [],
   "source": [
    "IFrame(\"images/report/reward_computed_dqn_det90.png\", width=800, height=600)"
   ]
  },
  {
   "cell_type": "markdown",
   "id": "61c4f027",
   "metadata": {},
   "source": [
    "### **Deep Q-Learning - Keras (2018)** 900k steps - Deterministic - Win percentages (per battle) - Training\n",
    "[ **Deep Q-Learning - Keras (2018)** 900k steps - Deterministic - Win percentages (per step) - Training](https://imgur.com/Ulx7nYp)"
   ]
  },
  {
   "cell_type": "code",
   "execution_count": null,
   "id": "c11d6a28",
   "metadata": {},
   "outputs": [],
   "source": [
    "IFrame(\"images/report/win_acc_dqn_det90.png\", width=1000, height=600)"
   ]
  },
  {
   "cell_type": "markdown",
   "id": "483aac32",
   "metadata": {},
   "source": [
    "### **Deep Q-Learning - Keras (2018)** 900k steps - Deterministic - Win percentages - Validation\n",
    "\n",
    "### Versus MaxPlayer\n",
    "* Player won $2487/3333$ battles [this is $74,62\\%$ and took $41.872$ seconds]\n",
    "\n",
    "### Versus RandomPlayer\n",
    "* Player won $3296/3333$ battles [this is $98,89\\%$ and took $45.381$ seconds]\n",
    "\n",
    "### **Deep Q-Learning - Keras (2018)** 900k steps - Deterministic - Memory and CPU usage (absolute time) - Training\n",
    "\n",
    "[**Deep Q-Learning - Keras (2018)** 900k steps - Deterministic - Memory and CPU usage (absolute time) - Training](https://imgur.com/WPaX7kJ)\n"
   ]
  },
  {
   "cell_type": "code",
   "execution_count": null,
   "id": "a4a74032",
   "metadata": {},
   "outputs": [],
   "source": [
    "IFrame(\"images/report/cpu and memory dqn keras det90.png\", width=1000, height=600)"
   ]
  },
  {
   "cell_type": "markdown",
   "id": "d062cf5f",
   "metadata": {},
   "source": [
    "# **Double Deep Q-Learning - Keras (2018)**\n",
    "\n",
    "The second method we have implemented also is a **value-based** method: [Double Deep Q-Learning (DQN), from Keras-RL Agents (2018)](github.com/keras-rl/keras-rl/blob/master/rl/agents/dqn.py). We used the same code from DQN.\n",
    "\n",
    "* Double DQN uses two identical neural network models. One learns during the experience replay, just like DQN does, and the other one is a copy of the last episode of the first model. The Q-value is actually computed with this second model;\n",
    "* As DQN, agent performs actions in the environment to learn how to map the observed states to certain actions, chooses an action in a given state based on a \"Q value\" (weighted reward based on the highest expected long-term reward) and learns to perform its task in such a way that the recommended action maximizes potential future rewards;\n",
    "* Differently from DQN, if action a in state s is a higher value than action b, we use a secondary model that is the copy of the main model from the last episode and, since the difference between values of the second model are lower than the main model, we use this second model to attain the Q-value;\n",
    "* Double DQN calculates Q-value finding the index of the highest Q-value from the main model and then using that index to obtain the action from the second model;\n",
    "* The method is considered an \"Off-Policy\" method because its Q values are updated assuming the best action was chosen, even if the best action was not chosen.\n",
    "\n",
    "*  As DQN, we used an [linear annealing $\\epsilon$-greedy exploration strategy,  from Keras-RL (2018)](https://github.com/keras-rl/keras-rl/blob/master/rl/policy.py), with $\\epsilon = 0,1$;\n",
    "\n",
    "* We also used the following $\\epsilon$-greedy policy:"
   ]
  },
  {
   "cell_type": "code",
   "execution_count": null,
   "id": "8575e5f1",
   "metadata": {},
   "outputs": [],
   "source": [
    "policy = LinearAnnealedPolicy(\n",
    "            EpsGreedyQPolicy(),\n",
    "            attr=\"eps\",\n",
    "            eps = 0.1,\n",
    "            value_max=1.0,\n",
    "            value_min=0.05,\n",
    "            value_test=0,\n",
    "            nb_steps=10.000 * epochs/10,\n",
    "        )"
   ]
  },
  {
   "cell_type": "markdown",
   "id": "3d760985",
   "metadata": {},
   "source": [
    "We have applied the follow configurations and hyperparameters to the training of this method:\n",
    "* Optimizer: Adam (Learning Rate: $2.5e-4$)\n",
    "* Number of the steps in warmup: $10.000 * epochs/10$\n",
    "* Metric (training): Mean Absolute Error\n",
    "* gamma = $0.75$\n",
    "* target_model_update=$1$\n",
    "* delta_clip=$0.01$\n",
    "* epsilon (epsilon-greedy policy)=$0.1$  \n",
    "\n",
    "\n",
    "\n",
    "The internal model of our Double DQN agent is shown above:"
   ]
  },
  {
   "cell_type": "code",
   "execution_count": null,
   "id": "39dbae7d",
   "metadata": {},
   "outputs": [],
   "source": [
    "N_HIDDEN = 128\n",
    "N_STATE_COMPONENTS = 12\n",
    "n_action = 9\n",
    "model = Sequential()\n",
    "model.add(Dense(N_HIDDEN, activation=\"elu\", input_shape=(1, N_STATE_COMPONENTS)))\n",
    "# Our embedding have shape (1, 12), which affects our hidden layer dimension and output dimension\n",
    "# Flattening resolve potential issues that would arise otherwise\n",
    "model.add(Flatten())\n",
    "model.add(Dense(int(N_HIDDEN/2), activation=\"elu\"))\n",
    "model.add(Dense(n_action, activation=\"linear\"))"
   ]
  },
  {
   "cell_type": "markdown",
   "id": "89ceaf4d",
   "metadata": {},
   "source": [
    "* Since Double DQN trains by step and one battle has usually 30 steps, we defined $10.000$ steps per epoch (~$333$ battles per epoch) and defined the total number of battles with the number of epochs. We trained our agent against a MaxDamagePlayer, that always selects the move with the greatest base power. We trained for $300.000$ steps ($30$ epochs and ~$10.000$ battles) and $900.000$ steps ($90$ epochs and ~$30.000$ battles). At the end of the $900.000$ steps training, we saved the Keras model for future use;\n",
    "\n",
    "* We defined one SequentialMemory with limit of the max number of steps ($10.000$ * epochs) and a window length of 1;\n"
   ]
  },
  {
   "cell_type": "code",
   "execution_count": null,
   "id": "26505616",
   "metadata": {},
   "outputs": [],
   "source": [
    "memory = SequentialMemory(limit=10.000 * epochs, window_length=1)"
   ]
  },
  {
   "cell_type": "markdown",
   "id": "b75c0a19",
   "metadata": {},
   "source": [
    "* We defined and compiled our Double DQN as follows:"
   ]
  },
  {
   "cell_type": "code",
   "execution_count": null,
   "id": "e1b6453c",
   "metadata": {},
   "outputs": [],
   "source": [
    "dqn = DQNAgent(\n",
    "        model=model,\n",
    "        nb_actions=len(env_player.action_space),\n",
    "        policy=policy,\n",
    "        memory=memory,\n",
    "        nb_steps_warmup=int(10.000 * epochs/10),\n",
    "        gamma=0.75,\n",
    "        target_model_update=1,\n",
    "        delta_clip=0.01,\n",
    "        enable_double_dqn=True\n",
    "    )\n",
    "dqn.compile(Adam(lr=2.5e-4), metrics=[\"mae\"])"
   ]
  },
  {
   "cell_type": "markdown",
   "id": "dc8da39f",
   "metadata": {},
   "source": [
    "* We defined the following algorithms to train and validate our Double DQN."
   ]
  },
  {
   "cell_type": "code",
   "execution_count": null,
   "id": "61b12f35",
   "metadata": {},
   "outputs": [],
   "source": [
    "def dqn_training(player, dqn, nb_steps):\n",
    "    dqn.fit(player, nb_steps=nb_steps)\n",
    "    player.complete_current_battle()\n",
    "\n",
    "def dqn_evaluation(player, dqn, nb_episodes):\n",
    "    # Reset battle statistics\n",
    "    player.reset_battles()\n",
    "    dqn.test(player, nb_episodes=nb_episodes, visualize=False)\n"
   ]
  },
  {
   "cell_type": "markdown",
   "id": "76a1413d",
   "metadata": {},
   "source": [
    "Finally, we call the following functions to train and test our agent:"
   ]
  },
  {
   "cell_type": "code",
   "execution_count": null,
   "id": "7f13e88a",
   "metadata": {},
   "outputs": [],
   "source": [
    "# Training\n",
    "env_player.play_against(\n",
    "    env_algorithm=dqn_training,\n",
    "    opponent=opponent_player,\n",
    "    env_algorithm_kwargs={\"dqn\": dqn, \"nb_steps\": int(10.000 * epochs/10)},\n",
    ")\n",
    "model.save(\"model_%d\" % int(10.000 * epochs/10))\n",
    "\n",
    "# Evaluation\n",
    "env_player.num_battles=0\n",
    "env_player.play_against(\n",
    "    env_algorithm=dqn_evaluation,\n",
    "    opponent=opponent,\n",
    "    env_algorithm_kwargs={\"dqn\": dqn, \"nb_episodes\": int(number_of_battles/3)})"
   ]
  },
  {
   "cell_type": "markdown",
   "id": "7216a5d4",
   "metadata": {},
   "source": [
    "* We validate our solution in both cases against a MaxDamagePlayer and against a RandomPlayer, that selects random actions at each turn. We validated for $3.333$ battles against each Player.  \n",
    "\n",
    "## **Double Deep Q-Learning - Keras (2018)** 300k steps - Stochastic - Results \n",
    "\n",
    "The instant values of the graphs of \"Rewards in Training\", \"Wins in Training\" and \"Memory/CPU usage in Traning\" can be seen at https://app.neptune.ai/leolellisr/rl-pokeenv/e/RLPOK-152/charts. \n",
    "\n",
    "The agent trained for $300k$ steps and $10.053$ battles, resulting in ~$29,84$ steps per battle.\n",
    "\n",
    "\n",
    "### **Double Deep Q-Learning - Keras (2018)** 300k steps - Stochastic - Rewards (per step) - Training \n",
    "\n",
    "[**Double Deep Q-Learning - Keras (2018)** 300k steps - Stochastic - Rewards (per step) - Training](https://imgur.com/uyBq9GJ)"
   ]
  },
  {
   "cell_type": "code",
   "execution_count": null,
   "id": "b2ae1c9f",
   "metadata": {},
   "outputs": [],
   "source": [
    "IFrame(\"images/report/reward_computed_double_dqn_sto.png\", width=800, height=600)"
   ]
  },
  {
   "cell_type": "markdown",
   "id": "65b3d5f6",
   "metadata": {},
   "source": [
    "### **Double Deep Q-Learning - Keras (2018)** 300k steps - Stochastic - Win percentages (per battle) - Training\n",
    "[ **Double Deep Q-Learning - Keras (2018)** 300k steps - Stochastic - Win percentages (per step) - Training](https://imgur.com/gxOglQv)"
   ]
  },
  {
   "cell_type": "code",
   "execution_count": null,
   "id": "0c47b77d",
   "metadata": {},
   "outputs": [],
   "source": [
    "IFrame(\"images/report/win_acc_double_dqn_sto.png\", width=1000, height=600)"
   ]
  },
  {
   "cell_type": "markdown",
   "id": "dd7d01b1",
   "metadata": {},
   "source": [
    "### **Double Deep Q-Learning - Keras (2018)** 300k steps - Stochastic - Win percentages - Validation\n",
    "\n",
    "### Versus MaxPlayer\n",
    "* Player won $2233/3333$ battles [this is $67\\%$ and took $9.750$ seconds]\n",
    "\n",
    "### Versus RandomPlayer\n",
    "* Player won $3266/3333$ battles [this is $98\\%$ and took $14.001$ seconds]\n",
    "\n",
    "### **Double Deep Q-Learning - Keras (2018)** 300k steps - Stochastic - Memory and CPU usage (absolute time) - Training\n",
    "\n",
    "[**Double Deep Q-Learning - Keras (2018)** 300k steps - Stochastic - Memory and CPU usage (absolute time) - Training](https://imgur.com/rKdi5DW)"
   ]
  },
  {
   "cell_type": "code",
   "execution_count": null,
   "id": "bd422e44",
   "metadata": {},
   "outputs": [],
   "source": [
    "IFrame(\"images/report/cpu and memory double dqn keras sto.png\", width=1000, height=600)"
   ]
  },
  {
   "cell_type": "markdown",
   "id": "c0a66cbb",
   "metadata": {},
   "source": [
    "## **Double Deep Q-Learning - Keras (2018)** 300k steps - Deterministic - Results \n",
    "\n",
    "The instant values of the graphs of \"Rewards in Training\", \"Wins in Training\" and \"Memory/CPU usage in Traning\" can be seen at  https://app.neptune.ai/leolellisr/rl-pokeenv/e/RLPOK-192/charts.\n",
    "\n",
    "The agent trained for $300k$ steps and $13.006$ battles, resulting in ~$23,07$ steps per battle.\n",
    "\n",
    "### **Double Deep Q-Learning - Keras (2018)** 300k steps - Deterministic - Rewards (per step) - Training \n",
    "\n",
    "[**Double Deep Q-Learning - Keras (2018)** 300k steps - Deterministic - Rewards (per step) - Training](https://imgur.com/cviU2k5)\n"
   ]
  },
  {
   "cell_type": "code",
   "execution_count": null,
   "id": "7c8330f4",
   "metadata": {},
   "outputs": [],
   "source": [
    "\n",
    "IFrame(\"images/report/reward_computed_double_dqn_det.png\", width=800, height=600)"
   ]
  },
  {
   "cell_type": "markdown",
   "id": "99551059",
   "metadata": {},
   "source": [
    "\n",
    "### **Double Deep Q-Learning - Keras (2018)** 300k steps - Deterministic - Win percentages (per battle) - Training\n",
    "[**Double Deep Q-Learning - Keras (2018)** 300k steps - Deterministic - Win percentages (per step) - Training](https://imgur.com/g1UqVF4)"
   ]
  },
  {
   "cell_type": "code",
   "execution_count": null,
   "id": "e3a88568",
   "metadata": {},
   "outputs": [],
   "source": [
    "IFrame(\"images/report/win_acc_double_dqn_det.png\", width=1000, height=600)"
   ]
  },
  {
   "cell_type": "markdown",
   "id": "3096f80e",
   "metadata": {},
   "source": [
    "### **Double Deep Q-Learning - Keras (2018)** 300k steps - Deterministic - Win percentages - Validation\n",
    "\n",
    "### Versus MaxPlayer\n",
    "* Player won $2569/3333$ battles [this is $77,08\\%$ and took $11.508$ seconds]\n",
    "\n",
    "### Versus RandomPlayer\n",
    "* Player won $3312/3333$ battles [this is $99,37\\%$ and took $13.261$ seconds]\n",
    "\n",
    "### **Double Deep Q-Learning - Keras (2018)** 300k steps - Deterministic - Memory and CPU usage  (absolute time) - Training\n",
    "\n",
    "[**Double Deep Q-Learning - Keras (2018)** 300k steps - Deterministic - Memory and CPU usage (absolute time) - Training](https://imgur.com/wtXIKni)"
   ]
  },
  {
   "cell_type": "code",
   "execution_count": null,
   "id": "e5ca1876",
   "metadata": {},
   "outputs": [],
   "source": [
    "IFrame(\"images/report/cpu and memory double dqn keras det.png\", width=1000, height=600)"
   ]
  },
  {
   "cell_type": "markdown",
   "id": "7d5d8e8c",
   "metadata": {},
   "source": []
  },
  {
   "cell_type": "markdown",
   "id": "6023e552",
   "metadata": {},
   "source": [
    "## **Double Deep Q-Learning - Keras (2018)** 900k steps - Stochastic - Results \n",
    "\n",
    "The instant values of the graphs of \"Rewards in Training\", \"Wins in Training\" and \"Memory/CPU usage in Traning\" can be seen at https://app.neptune.ai/leolellisr/rl-pokeenv/e/RLPOK-168/charts. \n",
    "\n",
    "The agent trained for $300k$ steps and $30.049$ battles, resulting in ~$29,95$ steps per battle.\n",
    "\n",
    "\n",
    "### **Double Deep Q-Learning - Keras (2018)** 900k steps  - Stochastic - Rewards (per step) - Training \n",
    "\n",
    "[**Double Deep Q-Learning - Keras (2018)** 900k steps - Stochastic - Rewards (per step) - Training](https://imgur.com/sD2rnhb)"
   ]
  },
  {
   "cell_type": "code",
   "execution_count": null,
   "id": "2cbaa685",
   "metadata": {},
   "outputs": [],
   "source": [
    "IFrame(\"images/report/reward_computed_double_dqn_sto90.png\", width=800, height=600)"
   ]
  },
  {
   "cell_type": "markdown",
   "id": "5caca9b5",
   "metadata": {},
   "source": [
    "\n",
    "### **Double Deep Q-Learning - Keras (2018)** 900k steps - Stochastic - Win percentages (per battle) - Training\n",
    "[ **Double Deep Q-Learning - Keras (2018)** 900k steps - Stochastic - Win percentages (per step) - Training](https://imgur.com/1HEDLLU)"
   ]
  },
  {
   "cell_type": "code",
   "execution_count": null,
   "id": "cb2e4a35",
   "metadata": {},
   "outputs": [],
   "source": [
    "\n",
    "IFrame(\"images/report/win_acc_double_dqn_sto90.png\", width=1000, height=600)"
   ]
  },
  {
   "cell_type": "markdown",
   "id": "8d8f2d8e",
   "metadata": {},
   "source": [
    "### **Double Deep Q-Learning - Keras (2018)** 900k steps - Stochastic - Win percentages - Validation\n",
    "\n",
    "### Versus MaxPlayer\n",
    "* Player won $2798/3333$ battles [this is $83,94\\%$ and took $26.557$ seconds]\n",
    "\n",
    "### Versus RandomPlayer\n",
    "* Player won $3308/3333$ battles [this is $99,24\\%$ and took $28.491$ seconds]\n",
    "\n",
    "\n",
    "\n",
    "### **Double Deep Q-Learning - Keras (2018)** 900k steps - Stochastic - Memory and CPU usage (absolute time) - Training\n",
    "\n",
    "[**Double Deep Q-Learning - Keras (2018)** 900k steps - Stochastic - Memory and CPU usage (absolute time) - Training](https://imgur.com/cUSo9hB)"
   ]
  },
  {
   "cell_type": "code",
   "execution_count": null,
   "id": "f19d44e8",
   "metadata": {},
   "outputs": [],
   "source": [
    "IFrame(\"images/report/cpu and memory double dqn keras sto90.png\", width=1000, height=600)"
   ]
  },
  {
   "cell_type": "markdown",
   "id": "0cfb945b",
   "metadata": {},
   "source": [
    "## **Double Deep Q-Learning - Keras (2018)** 900k steps - Deterministic - Results \n",
    "\n",
    "The instant values of the graphs of \"Rewards in Training\", \"Wins in Training\" and \"Memory/CPU usage in Traning\" can be seen at  https://app.neptune.ai/leolellisr/rl-pokeenv/e/RLPOK-191/charts.\n",
    "\n",
    "The agent trained for $900k$ steps and $38.932$ battles, resulting in ~$23,12$ steps per battle.\n",
    "\n",
    "### **Double Deep Q-Learning - Keras (2018)** 900k steps - Deterministic - Rewards (per step) - Training \n",
    "\n",
    "[**Double Deep Q-Learning - Keras (2018)** 900k steps - Deterministic - Rewards (per step) - Training](https://imgur.com/IWHPKKl)"
   ]
  },
  {
   "cell_type": "code",
   "execution_count": null,
   "id": "8f62aeae",
   "metadata": {},
   "outputs": [],
   "source": [
    "IFrame(\"images/report/reward_computed_double_dqn_det90.png\", width=800, height=600)"
   ]
  },
  {
   "cell_type": "markdown",
   "id": "7a480b5f",
   "metadata": {},
   "source": [
    "### **Double Deep Q-Learning - Keras (2018)** 900k steps - Deterministic - Win percentages (per battle) - Training\n",
    "[**Double Deep Q-Learning - Keras (2018)** 900k steps - Deterministic - Win percentages (per step) - Training](https://imgur.com/Nd1m6aw)"
   ]
  },
  {
   "cell_type": "code",
   "execution_count": null,
   "id": "99eaef7c",
   "metadata": {},
   "outputs": [],
   "source": [
    "IFrame(\"images/report/win_acc_double_dqn_det90.png\", width=1000, height=600)"
   ]
  },
  {
   "cell_type": "markdown",
   "id": "fbcd9cd1",
   "metadata": {},
   "source": [
    "### **Double Deep Q-Learning - Keras (2018)** 900k steps - Deterministic - Win percentages - Validation\n",
    "\n",
    "### Versus MaxPlayer\n",
    "* Player won $2597/3333$ battles [this is $77,92\\%$ and took $46.701$ seconds]\n",
    "\n",
    "### Versus RandomPlayer\n",
    "* Player won $3299/3333$ battles [this is $98,98\\%$ and took $61.444$ seconds]\n",
    "\n",
    "### **Deep Q-Learning - Keras (2018)** 900k steps - Deterministic - Memory and CPU usage  (absolute time) - Training\n",
    "\n",
    "[**Deep Q-Learning - Keras (2018)** 900k steps - Deterministic - Memory and CPU usage (absolute time) - Training](https://imgur.com/EzSWLC9)"
   ]
  },
  {
   "cell_type": "code",
   "execution_count": null,
   "id": "3072f851",
   "metadata": {},
   "outputs": [],
   "source": [
    "IFrame(\"images/report/cpu and memory double dqn keras det90.png\", width=1000, height=600)"
   ]
  },
  {
   "cell_type": "code",
   "execution_count": null,
   "id": "85a8e86e",
   "metadata": {},
   "outputs": [],
   "source": []
  },
  {
   "cell_type": "markdown",
   "id": "a95ba936",
   "metadata": {},
   "source": [
    "# ** Proximal Policy Optimization (PPO2) - Stable Baselines (2021)**\n",
    "\n",
    "The last method we have implemented was a **policy-based** method: [Proximal Policy Optimization (PPO2), from Stable Baselines (2021)](github.com/Stable-Baselines-Team/stable-baselines/blob/master/stable_baselines/ppo2/ppo2.py).\n",
    "\n",
    "* The Proximal Policy Optimization algorithm combines ideas from A2C (having multiple workers) and TRPO (it uses a trust region to improve the actor).\n",
    "* The main idea is that after an update, the new policy should be not too far from the old policy. For that, PPO uses clipping to avoid too large update;\n",
    "* Proximal Policy Optimization (PPO) is an Actor-Critic method. As the name suggests, the Actor-Critic system has two models: the Actor and the Critic. The Actor corresponds to the policy and is used to choose the action for the agent and update the policy network. The Critic corresponds to the value function. The Critic updates the parameters of the network for the value function used during the Actor update. The actor network receives observation (state) as the input and outputs a list of probabilities, with one probability per action. These probabilities form a distribution, and the action can then be chosen by sampling from this distribution. To represent the state value function, the critic network also receives the state as the input and outputs a single number representing the estimated state value of that state.\n",
    "\n",
    "* We used an [MlpPolicy,  Stable Baselines (2021)](https://github.com/Stable-Baselines-Team/stable-baselines/blob/master/stable_baselines/deepq/policies.py), a policy object that implements DQN policy, using a MLP (2 layers of 64).\n",
    "\n",
    "We have applied the follow configurations and hyperparameters to the training of this method:\n",
    "* Optimizer: Adam (Learning Rate: $2.5e-4$)\n",
    "* gamma = $0.75$\n",
    "* clip_range=$0.2$\n",
    "\n",
    "Since PPO also trains by step and one battle has usually 30 steps, we defined $10.000$ steps per epoch (~$333$ battles per epoch) and defined the total number of battles with the number of epochs. We trained our agent against a MaxDamagePlayer, that always selects the move with the greatest base power. We trained for $10.000$ battles ($30$ epochs) and $30.000$ battles ($90$ epochs. At the end of the $30.000$ battles training, we saved the PPO model for future use;\n",
    "\n",
    "* We defined our PPO as follows:"
   ]
  },
  {
   "cell_type": "code",
   "execution_count": null,
   "id": "2d3c1fa2",
   "metadata": {},
   "outputs": [],
   "source": [
    "model = PPO2(\"MlpPolicy\", env_player, gamma=0.75, verbose=0)"
   ]
  },
  {
   "cell_type": "markdown",
   "id": "93386d61",
   "metadata": {},
   "source": [
    "* We defined the following algorithms to train and validate our PPO."
   ]
  },
  {
   "cell_type": "code",
   "execution_count": null,
   "id": "ecbfb974",
   "metadata": {},
   "outputs": [],
   "source": [
    "NB_TRAINING_STEPS = args.epochs*10000\n",
    "NB_EVALUATION_EPISODES = int(10000/3)\n",
    "def ppo_training(player):\n",
    "        print (\"Training...\")\n",
    "        model.learn(total_timesteps=NB_TRAINING_STEPS)\n",
    "        print(\"Training complete.\")\n",
    "        \n",
    "def ppo_evaluating(player):\n",
    "        player.reset_battles()\n",
    "        for _ in range(NB_EVALUATION_EPISODES):\n",
    "            done = False\n",
    "            obs = player.reset()\n",
    "            while not done:\n",
    "                action = model.predict(obs)[0]\n",
    "                obs, _, done, _ = player.step(action)\n",
    "                # print (\"done:\" + str(done))\n",
    "        player.complete_current_battle()\n",
    "\n",
    "        print(\n",
    "            \"PPO Evaluation: %d victories out of %d episodes\"\n",
    "            % (player.n_won_battles, NB_EVALUATION_EPISODES)\n",
    "        )\n"
   ]
  },
  {
   "cell_type": "markdown",
   "id": "fa8eb2bb",
   "metadata": {},
   "source": [
    "Finally, we call the following functions to train and test our agent:"
   ]
  },
  {
   "cell_type": "code",
   "execution_count": null,
   "id": "1b345ff2",
   "metadata": {},
   "outputs": [],
   "source": [
    "# Training\n",
    "env_player.play_against(\n",
    "    env_algorithm=ppo_training,\n",
    "    opponent=opponent\n",
    ")\n",
    "model.save(\"model_%d\" % NB_TRAINING_STEPS)\n",
    "\n",
    "# Evaluation\n",
    "env_player.mode = \"val_max\"\n",
    "print(\"Results against max player:\")\n",
    "env_player.num_battles=0\n",
    "env_player.play_against(\n",
    "    env_algorithm=ppo_evaluating,\n",
    "    opponent=opponent)\n",
    "env_player.mode = \"val_rand\"\n",
    "\n",
    "print(\"\\nResults against random player:\")\n",
    "env_player.num_battles=0\n",
    "env_player.play_against(\n",
    "    env_algorithm=ppo_evaluating,\n",
    "    opponent=second_opponent)"
   ]
  },
  {
   "cell_type": "markdown",
   "id": "4af7282c",
   "metadata": {},
   "source": [
    "* We validate our solution in both cases against a MaxDamagePlayer and against a RandomPlayer, that selects random actions at each turn. We validated for $3.333$ battles against each Player.  \n",
    "\n",
    "## **Proximal Policy Optimization (PPO2) - Stable Baselines (2021)** 300k steps - Stochastic - Results \n",
    "\n",
    "The graphs of \"Rewards in Training\" and \"Wins in Training\" can be seen at . \n",
    "\n",
    "\n",
    "The agent trained for $300k$ steps and $10.077$ battles, resulting in ~$29,77$ steps per battle.\n",
    "\n",
    "\n",
    "### **Proximal Policy Optimization (PPO2) - Stable Baselines (2021)** 300k steps - Stochastic - Rewards (per step) - Training \n",
    "\n",
    "[**Proximal Policy Optimization (PPO2) - Stable Baselines (2021)** 300k steps - Stochastic - Rewards (per step) - Training](https://imgur.com/NzIOSBP)\n"
   ]
  },
  {
   "cell_type": "code",
   "execution_count": null,
   "id": "de672721",
   "metadata": {},
   "outputs": [],
   "source": [
    "IFrame(\"images/report/reward_computed_MC_Control.png\", width=800, height=600)\n"
   ]
  },
  {
   "cell_type": "markdown",
   "id": "796ffdc2",
   "metadata": {},
   "source": [
    "### **Proximal Policy Optimization (PPO2) - Stable Baselines (2021)** 300k steps - Stochastic - Win percentages (per step) - Training\n",
    "[ **Proximal Policy Optimization (PPO2) - Stable Baselines (2021)** 300k steps - Stochastic - Win percentages (per step) - Training](https://imgur.com/IJefGsi)\n"
   ]
  },
  {
   "cell_type": "code",
   "execution_count": null,
   "id": "87fa31a9",
   "metadata": {},
   "outputs": [],
   "source": [
    "IFrame(\"images/report/win_acc_MC_Control.png\", width=1000, height=600)\n"
   ]
  },
  {
   "cell_type": "markdown",
   "id": "47096ba6",
   "metadata": {},
   "source": [
    "### **Proximal Policy Optimization (PPO2) - Stable Baselines (2021)** 300k steps - Stochastic - Win percentages - Validation\n",
    "\n",
    "### Versus MaxPlayer\n",
    "* Player won $1262/3333$ battles [this is $37.86\\%$ and took $743.18$ seconds]\n",
    "\n",
    "### Versus RandomPlayer\n",
    "* Player won $3026/3333$ battles [this is $90.79\\%$ and took $841.88$ seconds]\n",
    "\n",
    "\n",
    "\n",
    "## **Proximal Policy Optimization (PPO2) - Stable Baselines (2021)** 300k steps - Deterministic - Results \n",
    "\n",
    "The instant values of the graphs of \"Rewards in Training\" and \"Wins in Training\" can be seen at .\n",
    "\n",
    "The agent trained for $300k$ steps and $14.000$ battles, resulting in ~$21,43$ steps per battle.\n",
    "\n",
    "### **Proximal Policy Optimization (PPO2) - Stable Baselines (2021)** 300k steps - Deterministic - Rewards (per step) - Training \n",
    "\n",
    "[**Proximal Policy Optimization (PPO2) - Stable Baselines (2021)** 300k steps - Deterministic - Rewards (per step) - Training](https://imgur.com/38rgkAO)\n"
   ]
  },
  {
   "cell_type": "code",
   "execution_count": null,
   "id": "792df2ea",
   "metadata": {},
   "outputs": [],
   "source": [
    "IFrame(\"images/report/ppo_results/rewards_ppo_deterministic_10k_battles.pdf\", width=800, height=600)\n"
   ]
  },
  {
   "cell_type": "markdown",
   "id": "016ea1c4",
   "metadata": {},
   "source": [
    "### **Proximal Policy Optimization (PPO2) - Stable Baselines (2021)** 300k steps - Deterministic - Win percentages (per step) - Training\n",
    "[**Proximal Policy Optimization (PPO2) - Stable Baselines (2021)** 300k steps - Deterministic - Win percentages (per step) - Training](https://imgur.com/at7H6gL)\n"
   ]
  },
  {
   "cell_type": "code",
   "execution_count": null,
   "id": "aa553519",
   "metadata": {},
   "outputs": [],
   "source": [
    "IFrame(\"images/report/ppo_results/win_ppo_deterministic_10k_battles.pdf\", width=800, height=600)\n"
   ]
  },
  {
   "cell_type": "markdown",
   "id": "b41de667",
   "metadata": {},
   "source": [
    "###  **Proximal Policy Optimization (PPO2) - Stable Baselines (2021)** 300k steps - Deterministic - Win percentages - Validation\n",
    "\n",
    "### Versus MaxPlayer\n",
    "* Player won $2495/3333$ battles [this is $74,86\\%$ and took $2400$ seconds]\n",
    "\n",
    "### Versus RandomPlayer\n",
    "* Player won $3324/3333$ battles [this is $99,73\\%$ and took $3600$ seconds]\n"
   ]
  },
  {
   "cell_type": "code",
   "execution_count": null,
   "id": "b32f9912",
   "metadata": {},
   "outputs": [],
   "source": []
  },
  {
   "cell_type": "markdown",
   "id": "ee99ff8b",
   "metadata": {},
   "source": [
    "## **Proximal Policy Optimization (PPO2) - Stable Baselines (2021)** 900k steps - Stochastic - Results \n",
    "\n",
    "The graphs of \"Rewards in Training\" and \"Wins in Training\" can be seen at . \n",
    "\n",
    "\n",
    "The agent trained for $900k$ steps and $10.077$ battles, resulting in ~$29,77$ steps per battle.\n",
    "\n",
    "\n",
    "### **Proximal Policy Optimization (PPO2) - Stable Baselines (2021)** 900k steps - Stochastic - Rewards (per step) - Training \n",
    "\n",
    "[**Proximal Policy Optimization (PPO2) - Stable Baselines (2021)** 900k steps - Stochastic - Rewards (per step) - Training](https://imgur.com/NzIOSBP)\n"
   ]
  },
  {
   "cell_type": "code",
   "execution_count": null,
   "id": "1ba46854",
   "metadata": {},
   "outputs": [],
   "source": [
    "IFrame(\"images/report/reward_computed_MC_Control.png\", width=800, height=600)\n"
   ]
  },
  {
   "cell_type": "markdown",
   "id": "1af5ca7b",
   "metadata": {},
   "source": [
    "### **Proximal Policy Optimization (PPO2) - Stable Baselines (2021)** 900k steps - Stochastic - Win percentages (per step) - Training\n",
    "[ **Proximal Policy Optimization (PPO2) - Stable Baselines (2021)** 900k steps - Stochastic - Win percentages (per step) - Training](https://imgur.com/IJefGsi)"
   ]
  },
  {
   "cell_type": "code",
   "execution_count": null,
   "id": "a1cc00b9",
   "metadata": {},
   "outputs": [],
   "source": [
    "IFrame(\"images/report/win_acc_MC_Control.png\", width=1000, height=600)\n"
   ]
  },
  {
   "cell_type": "markdown",
   "id": "b4692612",
   "metadata": {},
   "source": [
    "### **Proximal Policy Optimization (PPO2) - Stable Baselines (2021)** 900k steps - Stochastic - Win percentages - Validation\n",
    "\n",
    "### Versus MaxPlayer\n",
    "* Player won $1262/3333$ battles [this is $37.86\\%$ and took $743.18$ seconds]\n",
    "\n",
    "### Versus RandomPlayer\n",
    "* Player won $3026/3333$ battles [this is $90.79\\%$ and took $841.88$ seconds]\n",
    "\n",
    "\n",
    "\n",
    "## **Proximal Policy Optimization (PPO2) - Stable Baselines (2021)** 900k steps - Deterministic - Results \n",
    "\n",
    "The instant values of the graphs of \"Rewards in Training\" and \"Wins in Training\" can be seen at .\n",
    "\n",
    "The agent trained for $900k$ steps and $10.077$ battles, resulting in ~$29,77$ steps per battle.\n",
    "\n",
    "### **Proximal Policy Optimization (PPO2) - Stable Baselines (2021)** 900k steps - Deterministic - Rewards (per step) - Training \n",
    "\n",
    "[**Proximal Policy Optimization (PPO2) - Stable Baselines (2021)** 900k steps - Deterministic - Rewards (per step) - Training](https://imgur.com/SK4jm8B)\n"
   ]
  },
  {
   "cell_type": "code",
   "execution_count": null,
   "id": "cf82cac1",
   "metadata": {},
   "outputs": [],
   "source": [
    "IFrame(\"images/report/reward_computed_MC_Control_deterministic.png\", width=800, height=600)\n"
   ]
  },
  {
   "cell_type": "markdown",
   "id": "66267f67",
   "metadata": {},
   "source": [
    "### **Proximal Policy Optimization (PPO2) - Stable Baselines (2021)** 900k steps - Deterministic - Win percentages (per step) - Training\n",
    "[**Proximal Policy Optimization (PPO2) - Stable Baselines (2021)** 900k steps - Deterministic - Win percentages (per step) - Training](https://imgur.com/p1zFpu6)\n"
   ]
  },
  {
   "cell_type": "code",
   "execution_count": null,
   "id": "6ed17344",
   "metadata": {},
   "outputs": [],
   "source": [
    "IFrame(\"images/report/win_acc_MC_Control_deterministic.png\", width=1000, height=600)\n"
   ]
  },
  {
   "cell_type": "markdown",
   "id": "2f43784f",
   "metadata": {},
   "source": [
    "###  **Proximal Policy Optimization (PPO2) - Stable Baselines (2021)** 900k steps - Deterministic - Win percentages - Validation\n",
    "\n",
    "### Versus MaxPlayer\n",
    "* Player won $1201/3333$ battles [this is $36.03\\%$ and took $400.07$ seconds]\n",
    "\n",
    "### Versus RandomPlayer\n",
    "* Player won $2997/3333$ battles [this is $89.92\\%$ and took $720$ seconds]"
   ]
  },
  {
   "cell_type": "code",
   "execution_count": null,
   "id": "fa225efc",
   "metadata": {},
   "outputs": [],
   "source": []
  },
  {
   "cell_type": "code",
   "execution_count": null,
   "id": "6c07625b",
   "metadata": {},
   "outputs": [],
   "source": []
  },
  {
   "cell_type": "markdown",
   "id": "4a77af41",
   "metadata": {},
   "source": [
    "\n",
    "# Limitations\n",
    "\n",
    "As our previous project, the only limitations of this project are in the use of the **deterministic** environment. Given the need to remove **randomness**, our deterministic solutions require the use of modified Pokémon Showdown, without the random parameter in damage calculation, and the Pokémon on both teams with:\n",
    "- Shell Armor or Battle Armor abilities, to prevent critical hits;\n",
    "- Moves with 100% accuracy and no side effects likely to occur.\n",
    "\n",
    "Our **stochastic** solutions can be applied to any case and with any team formation.\n",
    "\n",
    "\n",
    "# Related work\n",
    "\n",
    "Given the stochasticity of the Pokémon game, the environment proves to be a good alternative to validate more robust reinforcement learning systems. However, in recent years, few reinforcement learning works have been willing to use Pokémon battles to validate their models.\n",
    "\n",
    "Regarding tabular methods, the work of [Rill-García, R. 2018](https://ccc.inaoep.mx/~esucar/Clases-mgp/Proyectos/2018/reinforcement-learning-turn%20%281%29.pdf) can be mentioned. The author proposes the use of the Q-Learning algorithm. The author defines as states only the index of his active Pokémon and the opponent's. However, 301 Pokémon are considered to choose from, among the most used in competitive battles. Actions were also defined from 601 moves most used in competitive battles, plus one, referring to an action that cannot be performed. Rewards were set based on the Pokémon that passed out (their or the opponent's), the percentages of damage produced or taken, and based on an \"unable to act\" rating. The author used constant values of $\\alpha = 0.1$ and $\\gamma = 0.8$. The author used 10 different teams for validation and reported an average of $58\\%$ wins against a RandomPlayer (player who selects random actions at each turn).\n",
    "\n",
    "Another tabular method that can be cited is the work of [Kalose, A et. al. 2018](https://web.stanford.edu/class/aa228/reports/2018/final151.pdf). The authors also propose the use of the Q-Learning algorithm, however, it uses two different policies, an $\\epsilon-greedy$ and a Softmax. The authors define as states the Health Points of their Pokémon, the Health Points of the opponent's Pokémon, the types of their Pokémon and the types of opponent's Pokémon. The defined actions are the 4 possible moves of each Pokemon. The authors did not establish how the rewards were defined, or the $\\alpha$ and $\\gamma$ values used. The authors reported an average of $60\\%$ winnings against a RandomPlayer (player who selects random actions each turn) using $\\epsilon-greedy$ policy and $68\\%$ winnings against a RandomPlayer using Softmax policy.\n",
    "\n",
    "\n",
    "# Comparisons\n",
    "\n",
    "One table with performance comparisons in Validation between our methods and the methods proposed by Rill-Garcia and Kalose et. al. are showed below and in [this figure](https://imgur.com/vwUOnDZ).\n",
    "\n",
    "The method with the best performance against both Players (MaxDamagePlayer and RandomPlayer) was Q-Learning Function Approximation in the Stochastic environment."
   ]
  },
  {
   "cell_type": "code",
   "execution_count": 78,
   "id": "c57559d9",
   "metadata": {},
   "outputs": [
    {
     "data": {
      "text/html": [
       "\n",
       "        <iframe\n",
       "            width=\"1000\"\n",
       "            height=\"1000\"\n",
       "            src=\"images/report/comparisons_val.png\"\n",
       "            frameborder=\"0\"\n",
       "            allowfullscreen\n",
       "        ></iframe>\n",
       "        "
      ],
      "text/plain": [
       "<IPython.lib.display.IFrame at 0x23ad7c5e6d8>"
      ]
     },
     "execution_count": 78,
     "metadata": {},
     "output_type": "execute_result"
    }
   ],
   "source": [
    "IFrame(\"images/report/comparisons_val.png\", width=1000, height=1000)"
   ]
  },
  {
   "cell_type": "markdown",
   "id": "ece021bc",
   "metadata": {},
   "source": [
    "# Video\n",
    "\n",
    "https://youtu.be/uSZE9gnheSI\n"
   ]
  },
  {
   "cell_type": "code",
   "execution_count": 82,
   "id": "088db616",
   "metadata": {},
   "outputs": [
    {
     "data": {
      "image/jpeg": "[encoded data removed]",
      "text/html": [
       "\n",
       "        <iframe\n",
       "            width=\"960\"\n",
       "            height=\"540\"\n",
       "            src=\"https://www.youtube.com/embed/_XtuvAax4fs\"\n",
       "            frameborder=\"0\"\n",
       "            allowfullscreen\n",
       "        ></iframe>\n",
       "        "
      ],
      "text/plain": [
       "<IPython.lib.display.YouTubeVideo at 0x23ad7c69438>"
      ]
     },
     "execution_count": 82,
     "metadata": {},
     "output_type": "execute_result"
    }
   ],
   "source": [
    "from IPython.display import YouTubeVideo\n",
    "\n",
    "YouTubeVideo('uSZE9gnheSI', width=960, height=540)"
   ]
  },
  {
   "cell_type": "markdown",
   "id": "816b41a9",
   "metadata": {},
   "source": [
    "# Discussion\n",
    "\n",
    "\n",
    "Differently from the works found in the literature, which train and validate their models only against a RandomPlayer, our methods were trained against a MaxDamagePlayer and validated against a MaxDamagePlayer and against a RandomPlayer, showing significant improvements. All of our implemented methods showed better results than a RandomPlayer with the same battle configurations.\n",
    "\n",
    "Our Monte-Carlo Control 1st Visit agent, in a stochastic environment, averaged $34.91\\%$ wins against a MaxDamagePlayer and $92.7\\%$ wins against a RandomPlayer. In a deterministic environment, the agent averaged $39.4\\%$ wins against a MaxDamagePlayer and $90.57\\%$ wins against a RandomPlayer. In a visual analysis of the battles, we noticed that the agent promoted switches to better type Pokémon, to not suffer super-effective attacks, and to Pokémon with super-effective attacks against the opponent. Compared to the other implemented methods, the agent with Monte-Carlo was the one with the worst performance against MaxDamagePlayer. We hypothesize that this occurs because Monte-Carlo methods occur through sampling, acquiring the rewards and updating their tables only at the end of each episode. In a battle against MaxDamagePlayer, this can demonstrate a negative performance, as MaxDamagePlayer always selects attacks with the highest Base Power, which can cause the end of a battle very quickly, making it difficult for the agent to define the best strategy. This lack of bootstrapping, however, allows the method to have a good convergence, performing well against a RandomPlayer.\n",
    "\n",
    "\n",
    "Our Monte-Carlo Control 1st Visit with Function Approximation agent, in a stochastic environment, averaged $83.46\\%$ wins against a MaxDamagePlayer (improving by $48.55\\%$ compared to the agent without Function Approximation) and $92.7\\%$ wins against a RandomPlayer (improving by $6.52\\%$ compared to the agent without Function Approximation). In a deterministic environment, the agent averaged $60.05\\%$ (improving by $20.64\\%$ compared to the agent without Function Approximation) wins against a MaxDamagePlayer and $99.29\\%$ wins against a RandomPlayer (improving by $8.72\\%$ compared to the agent without Function Approximation). We noticed that our Feature Vector performed very well in generalizing our states (out of $1,016,064$ possible states). As in the method without Function Approximation, in a visual analysis of the battles, we noticed that the agent promoted switches to better type Pokémon, to not suffer super-effective attacks, and to Pokémon with super-effective attacks against the opponent. \n",
    "\n",
    "\n",
    "Our Q-Learning agent, in a stochastic environment, averaged $41.69\\%$ wins against a MaxDamagePlayer and $90.04\\%$ wins against a RandomPlayer. In a deterministic environment, the agent averaged $39.84\\%$ wins against a MaxDamagePlayer and $85.36\\%$ wins against a RandomPlayer. In a visual analysis of the battles, as previous methods, we noticed that the agent promoted switches to better type Pokémon, to not suffer super-effective attacks, and to Pokémon with super-effective attacks against the opponent. In addition, the agent made good use of Pokémon abilities to lower the opponent's attack stat. The agent also used Roost (recover Health Points) and Sleep Powder (cause status to the opponent) several times. This is because our rewards have parameters in these cases (HP value and opponent's status). As Q-Learning looks for the best reward in each state, the agent took advantage of the execution of these moves to maximize its rewards.\n",
    "\n",
    "Our Q-Learning with Function Approximation agent, in a stochastic environment, averaged $83.84\\%$ wins against a MaxDamagePlayer (improving by $42.15\\%$ compared to the agent without Function Approximation) and $99.22\\%$ wins against a RandomPlayer (improving by $9.18\\%$ compared to the agent without Function Approximation). In a deterministic environment, the agent averaged $58.73\\%$ wins against a MaxDamagePlayer (improving by $18.89\\%$ compared to the agent without Function Approximation) and $99.34\\%$ wins against a RandomPlayer (improving by $13.98\\%$ compared to the agent without Function Approximation), being the agent that showed the best performance in an average of all executed battles. This demonstrates again that our Feature Vector performed very well in generalizing our states. Furthermore, we hypothesize that, as Q-Learning has bootstrapping, it was able to generalize well the seen states in order to maximize their rewards. In a visual analysis of the battles, as previous methods, we noticed that the agent promoted switches to Pokémon with super-effective attacks against the opponent. Also, the agent made a lot of use of the Giga Drain damage move (promotes damage and recovers HP), even when this move wasn't very effective. We hypothesize that this occurs because the Player realized that, even if the move was not very effective, it promoted a decrease in the opponent's Health Points and an increase in ours, promoting greater rewards.\n",
    "\n",
    "Our SARSA($\\lambda$) agent, in a stochastic environment, averaged $54.79\\%$ wins against a MaxDamagePlayer and $90.94\\%$ wins against a RandomPlayer. In a deterministic environment, the agent averaged $52.93\\%$ wins against a MaxDamagePlayer and $99.34\\%$ wins against a RandomPlayer, being the best performing tabular method against MaxDamagePlayer. In a visual analysis of the battles, the agent made a lot of use of non-damage move Leech Seed, which removes the opponent's Health Points in each battle and adds them to ours. This is because our rewards have parameters in these cases (+ our HP and - opponent's HP). The agent also used the non-damage move Sunny Day when the opponent was with a Water-type Pokémon, causing the attacks of this opposing Pokémon to decrease its Base Power. As requested in the project specification, we use the same step-size and exploration schedules as the Monte-Carlo method. For this, the same base class was used in both agents.\n",
    "\n",
    "Our SARSA($\\lambda$) with Function Approximation agent, in a stochastic environment, averaged $83.46\\%$ wins against a MaxDamagePlayer (improving by $28.67\\%$ compared to the agent without Function Approximation) and  $61.21\\%$ wins against a RandomPlayer (decreasing by $33.63\\%$ compared to the agent without Function Approximation, being the only case where a method with Function Approximation performed worse than the method without Function Approximation). We hypothesized that this happened because, as SARSA($\\lambda$) is bootstrapped, the method may have become biased due to the training being done against a MaxDamagePlayer, and thus, our Feature Vector was not sufficient to generalize well with a RandomPlayer. Also, as the environment is stochastic, it's possible that our Player missed the attacks. In a deterministic environment, the agent averaged $61.21\\%$ wins against a MaxDamagePlayer (improving by $8.28\\%$ compared to the agent without Function Approximation) and $99.13\\%$ wins against a RandomPlayer (improving by $9.65\\%$ compared to the agent without Function Approximation). The good performance of the agent in a deterministic environment in relation to the method without Function Approximation corroborates our hypothesis that our agent may have missed attacks due to the randomity of the stochastic environment. In a visual analysis of the battles, as previous methods, we noticed that the agent promoted switches to Pokémon with super-effective attacks against the opponent. Also, the agent made a lot of use of the Giga Drain damage move (promotes damage and recovers HP), even when this move wasn't very effective."
   ]
  },
  {
   "cell_type": "markdown",
   "id": "36bcb4bb",
   "metadata": {},
   "source": [
    "# Conclusion\n",
    "\n",
    "Given the complexity of a Pokémon battle (as shown, $1,016,064$ states and $9,144,576$ possibilities), the implemented methods were able to generalize the states and explore the best reward acquisitions, with all methods performing better than a RandomPlayer. The methods showed increasing learning, in view of the increase in rewards and victory rate as battles went on.\n",
    "\n",
    "Particularly, the methods that used Function Approximation found it easier to generalize the states, given the influence of our Features Vector, since the tabular methods find it difficult to generalize the millions of possibilities in a few battles ($10k$).\n",
    "\n",
    "In addition to the difference in training and validating using a MaxDamagePlayer (getting good results), most of our methods presented better performances than related works.\n",
    "\n",
    "As future work, we propose the exploration of specific parameters for each method. Following the guidelines of the project specifications, the same parameters defined for Monte-Carlo Control were used. However, some methods can take better advantage of other parameters, such as SARSA($\\lambda$), which is very dependent on the value set for $\\lambda$. We also propose to consider in the observations the types of Pokémon, their abilities and possible side effects of moves."
   ]
  },
  {
   "cell_type": "code",
   "execution_count": null,
   "id": "93cb23c5",
   "metadata": {},
   "outputs": [],
   "source": []
  },
  {
   "cell_type": "markdown",
   "id": "51f7fd7c",
   "metadata": {},
   "source": []
  },
  {
   "cell_type": "markdown",
   "id": "ab241281",
   "metadata": {},
   "source": [
    "# Contributions\n",
    "\n",
    "## Methods\n",
    "\n",
    "### Deep Q-Learning\n",
    "* **Code development**: Leonardo;\n",
    "* **Code review**: Bruno, Henrique, Maurício;\n",
    "* **Experiments**: Leonardo.\n",
    "\n",
    "### Double Deep Q-Learning\n",
    "* **Code development**: Leonardo;\n",
    "* **Code review**: Bruno, Henrique, Maurício;\n",
    "* **Experiments**: Leonardo.\n",
    "\n",
    "## Video\n",
    "* **Editing**: Leonardo;\n",
    "* **Review**: Bruno, Henrique, Maurício.\n",
    "\n",
    "## Report\n",
    "* **Writting**: Bruno, Henrique, Leonardo, Maurício.\n"
   ]
  },
  {
   "cell_type": "code",
   "execution_count": null,
   "id": "c5ec0f15",
   "metadata": {},
   "outputs": [],
   "source": []
  }
 ],
 "metadata": {
  "kernelspec": {
   "display_name": "Python 3 (ipykernel)",
   "language": "python",
   "name": "python3"
  },
  "language_info": {
   "codemirror_mode": {
    "name": "ipython",
    "version": 3
   },
   "file_extension": ".py",
   "mimetype": "text/x-python",
   "name": "python",
   "nbconvert_exporter": "python",
   "pygments_lexer": "ipython3",
   "version": "3.8.2"
  }
 },
 "nbformat": 4,
 "nbformat_minor": 5
}

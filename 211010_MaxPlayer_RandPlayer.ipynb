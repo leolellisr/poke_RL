{
 "cells": [
  {
   "cell_type": "code",
   "execution_count": 1,
   "id": "a28e761c",
   "metadata": {},
   "outputs": [],
   "source": [
    "import asyncio\n",
    "import time"
   ]
  },
  {
   "cell_type": "code",
   "execution_count": null,
   "id": "c4efe6a3",
   "metadata": {},
   "outputs": [],
   "source": []
  },
  {
   "cell_type": "code",
   "execution_count": 2,
   "id": "0ecf01ee",
   "metadata": {},
   "outputs": [],
   "source": [
    "# -*- coding: utf-8 -*-\n",
    "#import asyncio\n",
    "#import time\n",
    "from poke_env.player.player import Player\n",
    "from poke_env.player.random_player import RandomPlayer\n",
    "\n",
    "#loop = asyncio.get_event_loop()\n",
    "\n",
    "class MaxDamagePlayer(Player):\n",
    "    def choose_move(self, battle):\n",
    "        # If the player can attack, it will\n",
    "        if battle.available_moves:\n",
    "            # Finds the best move among available ones\n",
    "            #print(battle.available_moves[0])\n",
    "            best_move = max(battle.available_moves, key=lambda move: move.base_power)\n",
    "            return self.create_order(best_move)\n",
    "\n",
    "        # If no attack is available, a random switch will be made\n",
    "        else:\n",
    "            return self.choose_random_move(battle)\n",
    "\n",
    "\n",
    "\n"
   ]
  },
  {
   "cell_type": "code",
   "execution_count": null,
   "id": "46879a4f",
   "metadata": {},
   "outputs": [],
   "source": []
  },
  {
   "cell_type": "code",
   "execution_count": 3,
   "id": "dd8387a8",
   "metadata": {},
   "outputs": [],
   "source": [
    "our_team = \"\"\"\n",
    "Pikachu-Original (M) @ Light Ball  \n",
    "Ability: Static  \n",
    "EVs: 252 Atk / 4 SpD / 252 Spe  \n",
    "Adamant Nature  \n",
    "- Volt Tackle  \n",
    "- Nuzzle  \n",
    "- Iron Tail  \n",
    "- Knock Off  \n",
    "\n",
    "Charizard @ Life Orb  \n",
    "Ability: Solar Power  \n",
    "EVs: 252 SpA / 4 SpD / 252 Spe  \n",
    "Timid Nature  \n",
    "IVs: 0 Atk  \n",
    "- Flamethrower  \n",
    "- Dragon Pulse  \n",
    "- Roost  \n",
    "- Sunny Day  \n",
    "\n",
    "Blastoise @ White Herb  \n",
    "Ability: Torrent  \n",
    "EVs: 4 Atk / 252 SpA / 252 Spe  \n",
    "Mild Nature  \n",
    "- Scald  \n",
    "- Ice Beam  \n",
    "- Earthquake  \n",
    "- Shell Smash  \n",
    "\n",
    "Venusaur @ Black Sludge  \n",
    "Ability: Chlorophyll  \n",
    "EVs: 252 SpA / 4 SpD / 252 Spe  \n",
    "Modest Nature  \n",
    "IVs: 0 Atk  \n",
    "- Giga Drain  \n",
    "- Sludge Bomb  \n",
    "- Sleep Powder  \n",
    "- Leech Seed  \n",
    "\n",
    "Sirfetch’d @ Aguav Berry  \n",
    "Ability: Steadfast  \n",
    "EVs: 248 HP / 252 Atk / 8 SpD  \n",
    "Adamant Nature  \n",
    "- Close Combat  \n",
    "- Swords Dance  \n",
    "- Poison Jab  \n",
    "- Knock Off  \n",
    "\n",
    "Tauros (M) @ Assault Vest  \n",
    "Ability: Intimidate  \n",
    "EVs: 252 Atk / 4 SpD / 252 Spe  \n",
    "Adamant Nature  \n",
    "- Double-Edge  \n",
    "- Earthquake  \n",
    "- Megahorn  \n",
    "- Iron Head  \n",
    "\"\"\""
   ]
  },
  {
   "cell_type": "code",
   "execution_count": 4,
   "id": "2bf1a171",
   "metadata": {},
   "outputs": [],
   "source": [
    "op_team = \"\"\"\n",
    "Eevee @ Eviolite  \n",
    "Ability: Adaptability  \n",
    "EVs: 252 HP / 252 Atk / 4 SpD  \n",
    "Jolly Nature  \n",
    "- Quick Attack  \n",
    "- Flail  \n",
    "- Facade  \n",
    "- Wish  \n",
    "\n",
    "Vaporeon @ Leftovers  \n",
    "Ability: Hydration  \n",
    "EVs: 252 HP / 252 Def / 4 SpA  \n",
    "Bold Nature  \n",
    "IVs: 0 Atk  \n",
    "- Scald  \n",
    "- Shadow Ball  \n",
    "- Toxic  \n",
    "- Wish  \n",
    "\n",
    "Sylveon @ Aguav Berry  \n",
    "Ability: Pixilate  \n",
    "EVs: 252 HP / 252 SpA / 4 SpD  \n",
    "Modest Nature  \n",
    "IVs: 0 Atk  \n",
    "- Hyper Voice  \n",
    "- Mystical Fire  \n",
    "- Psyshock  \n",
    "- Calm Mind  \n",
    "\n",
    "Jolteon @ Assault Vest  \n",
    "Ability: Quick Feet  \n",
    "EVs: 252 SpA / 4 SpD / 252 Spe  \n",
    "Timid Nature  \n",
    "IVs: 0 Atk  \n",
    "- Thunderbolt  \n",
    "- Hyper Voice  \n",
    "- Volt Switch  \n",
    "- Shadow Ball  \n",
    "\n",
    "Leafeon @ Life Orb  \n",
    "Ability: Chlorophyll  \n",
    "EVs: 252 Atk / 4 SpD / 252 Spe  \n",
    "Jolly Nature  \n",
    "- Leaf Blade  \n",
    "- Knock Off  \n",
    "- X-Scissor  \n",
    "- Swords Dance  \n",
    "\n",
    "Umbreon @ Iapapa Berry  \n",
    "Ability: Inner Focus  \n",
    "EVs: 252 HP / 4 Atk / 252 SpD  \n",
    "Careful Nature  \n",
    "- Foul Play  \n",
    "- Body Slam  \n",
    "- Toxic  \n",
    "- Wish  \n",
    "\"\"\""
   ]
  },
  {
   "cell_type": "code",
   "execution_count": 5,
   "id": "ce3e138d",
   "metadata": {},
   "outputs": [],
   "source": [
    "start = time.time()\n",
    "\n",
    "    # We create two players.\n",
    "\n",
    "max_damage_player = MaxDamagePlayer(battle_format=\"gen8ou\", team=our_team)\n",
    "randomPlayer = RandomPlayer(battle_format=\"gen8ou\", team=our_team)\n",
    "\n",
    "opponentR = RandomPlayer(battle_format=\"gen8ou\", team=op_team)\n",
    "opponentM = MaxDamagePlayer(battle_format=\"gen8ou\", team=op_team)\n",
    "\n",
    "# Now, let's evaluate our player\n",
    "\n"
   ]
  },
  {
   "cell_type": "code",
   "execution_count": 6,
   "id": "6b7fd1c0",
   "metadata": {},
   "outputs": [],
   "source": [
    "#await max_damage_player.battle_against(opponent, n_battles=3)\n",
    "n_battles=1000"
   ]
  },
  {
   "cell_type": "code",
   "execution_count": 7,
   "id": "451d9942",
   "metadata": {},
   "outputs": [],
   "source": [
    "await max_damage_player.battle_against(opponentM, n_battles=n_battles)"
   ]
  },
  {
   "cell_type": "code",
   "execution_count": 8,
   "id": "63bca615",
   "metadata": {},
   "outputs": [
    {
     "name": "stdout",
     "output_type": "stream",
     "text": [
      "Our player won 630 / 1000 battles [this is 63.000000 and took 117.939186 seconds]\n"
     ]
    }
   ],
   "source": [
    "print(\n",
    "    \"Our player won %d / %d battles [this is %f and took %f seconds]\"\n",
    "    % (\n",
    "        max_damage_player.n_won_battles, 1000, max_damage_player.n_won_battles/n_battles*100, time.time() - start\n",
    "    )\n",
    "    \n",
    ")"
   ]
  },
  {
   "cell_type": "code",
   "execution_count": 9,
   "id": "a5afa1e6",
   "metadata": {},
   "outputs": [],
   "source": [
    "await randomPlayer.battle_against(opponentM, n_battles=n_battles)"
   ]
  },
  {
   "cell_type": "code",
   "execution_count": 10,
   "id": "45ba6d0b",
   "metadata": {},
   "outputs": [
    {
     "name": "stdout",
     "output_type": "stream",
     "text": [
      "Our player won 135 / 1000 battles [this is 13.500000 and took 260.369634 seconds]\n"
     ]
    }
   ],
   "source": [
    "print(\n",
    "    \"Our player won %d / %d battles [this is %f and took %f seconds]\"\n",
    "    % (\n",
    "        randomPlayer.n_won_battles, 1000, randomPlayer.n_won_battles/n_battles*100, time.time() - start\n",
    "    )\n",
    "    \n",
    ")"
   ]
  },
  {
   "cell_type": "code",
   "execution_count": 11,
   "id": "85afe0d8",
   "metadata": {},
   "outputs": [],
   "source": [
    "max_damage_player = MaxDamagePlayer(battle_format=\"gen8ou\", team=our_team)\n",
    "randomPlayer = RandomPlayer(battle_format=\"gen8ou\", team=our_team)"
   ]
  },
  {
   "cell_type": "code",
   "execution_count": 12,
   "id": "0d7f4fd2",
   "metadata": {},
   "outputs": [],
   "source": [
    "await max_damage_player.battle_against(opponentR, n_battles=n_battles)"
   ]
  },
  {
   "cell_type": "code",
   "execution_count": 13,
   "id": "3f836b87",
   "metadata": {},
   "outputs": [
    {
     "name": "stdout",
     "output_type": "stream",
     "text": [
      "max x max. Our player won 998 / 1000 battles [this is 99.800000 and took 372.137723 seconds]\n"
     ]
    }
   ],
   "source": [
    "print(\n",
    "    \"max x max. Our player won %d / %d battles [this is %f and took %f seconds]\"\n",
    "    % (\n",
    "        max_damage_player.n_won_battles, 1000, max_damage_player.n_won_battles/n_battles*100, time.time() - start\n",
    "    )\n",
    "    \n",
    ")"
   ]
  },
  {
   "cell_type": "code",
   "execution_count": 14,
   "id": "471e9000",
   "metadata": {},
   "outputs": [],
   "source": [
    "await randomPlayer.battle_against(opponentR, n_battles=n_battles)"
   ]
  },
  {
   "cell_type": "code",
   "execution_count": 15,
   "id": "bc63af41",
   "metadata": {},
   "outputs": [
    {
     "name": "stdout",
     "output_type": "stream",
     "text": [
      "Our player won 702 / 1000 battles [this is 70.200000 and took 700.731952 seconds]\n"
     ]
    }
   ],
   "source": [
    "print(\n",
    "    \"Our player won %d / %d battles [this is %f and took %f seconds]\"\n",
    "    % (\n",
    "        randomPlayer.n_won_battles, 1000, randomPlayer.n_won_battles/n_battles*100, time.time() - start\n",
    "    )\n",
    "    \n",
    ")"
   ]
  },
  {
   "cell_type": "code",
   "execution_count": null,
   "id": "9d42068b",
   "metadata": {},
   "outputs": [],
   "source": []
  }
 ],
 "metadata": {
  "kernelspec": {
   "display_name": "Python 3",
   "language": "python",
   "name": "python3"
  },
  "language_info": {
   "codemirror_mode": {
    "name": "ipython",
    "version": 3
   },
   "file_extension": ".py",
   "mimetype": "text/x-python",
   "name": "python",
   "nbconvert_exporter": "python",
   "pygments_lexer": "ipython3",
   "version": "3.6.13"
  }
 },
 "nbformat": 4,
 "nbformat_minor": 5
}

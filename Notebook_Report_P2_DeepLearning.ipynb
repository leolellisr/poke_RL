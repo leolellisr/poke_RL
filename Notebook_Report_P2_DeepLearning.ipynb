{
 "cells": [
  {
   "attachments": {},
   "cell_type": "markdown",
   "id": "0d201b74",
   "metadata": {},
   "source": [
    "#  Pokémon RL - Deep Learning \n",
    "\n",
    "## **Authors:**\n",
    "\n",
    "* [Bruno César de Oliveira Souza](mailto:b234837@dac.unicamp.br) - [Github](https://github.com/brunocosouza)\n",
    "\n",
    "* [Leonardo de Lellis Rossi](mailto:l261900@dac.unicamp.br) - [Github](https://github.com/leolellisr) \n",
    "\n",
    "* [Maurício Pereira Lopes](mailto:m225242@g.unicamp.br)\n",
    "\n",
    "## Special Thanks:\n",
    "\n",
    "* To our colleague **Henrique Lima Cará de Oliveira** who collaborated in the development of the codes and execution of the experiments\n",
    "\n",
    "\n",
    "## Main info\n",
    "\n",
    "[Git Repository](https://github.com/leolellisr/poke_RL)\n",
    "\n",
    "Python files of implemented methods available [here](https://github.com/leolellisr/poke_RL/tree/master/py)\n",
    "\n",
    "Trained models available [here](https://drive.google.com/drive/folders/17_Gn1RWOCh-ekiRhhj40ehPz9nv_d-Fy?usp=sharing)\n",
    "\n",
    "Graphs\n",
    "- [Graphs DQN and Double-DQN](https://app.neptune.ai/leolellisr/rl-pokeenv)\n",
    "- [Graphs PPO](https://github.com/leolellisr/poke_RL/tree/master/images/report/ppo_results)\n",
    "- [Graphs REINFORCE - Keras (2018)](https://app.neptune.ai/henriqueoliveira/rl-pokeenv/e/RLPOK-4/charts)\n",
    "\n",
    "\n",
    "Images and results are showed with IFrame from IPython.display, but it needs the images stored in the [/images/report](https://github.com/leolellisr/poke_RL/tree/master/images/report) folder, available in our [git repository](https://github.com/leolellisr/poke_RL). \n",
    "\n",
    "Images and Results also are presented with links from imgur."
   ]
  },
  {
   "cell_type": "code",
   "execution_count": 2,
   "id": "92a90ea7",
   "metadata": {},
   "outputs": [],
   "source": [
    "from IPython.display import IFrame"
   ]
  },
  {
   "attachments": {},
   "cell_type": "markdown",
   "id": "ba1ebc99",
   "metadata": {},
   "source": [
    "# Goal and Motivation\n",
    "\n",
    "* This project aims to employ different deep reinforcement learning agents in a Pokémon battle simulator;\n",
    "\n",
    "* In this report, we aim to go a step further into Reinforcement Learning and to employ advanced Deep Reinforcement Learning Techniques. \n",
    "\n",
    "* Our hypothesis is that the deep reinforcement learning trainers will perform better than tabular methods from Project 1 by using deep learning techniques. We also believe that it will automatically learn the best policy or actions, by making decisions through the analysis of states and rewards related to their performance, improving how to win battles throughout the episodes, noticing:\n",
    "\n",
    "  * the different types between Pokémon;\n",
    "  * which moves cause more damage to the opponent's Pokémon;\n",
    "  * what are the possible strategies using no-damage moves;\n",
    "  * and the best times to switch Pokémon. "
   ]
  },
  {
   "attachments": {},
   "cell_type": "markdown",
   "id": "e3f86d31",
   "metadata": {},
   "source": [
    "## **The  problem addressed**\n",
    "* [Pokémon](https://www.pokemon.com) is a popular Japanese RPG (Role Playing Game) which stands a world championship every year; \n",
    "* One single [battle](https://bulbapedia.bulbagarden.net/wiki/Pokémon_battle) of Pokémon has two players. Each player has a 6-Pokémon team; \n",
    "* Each Pokémon has:\n",
    " * 6 [stats](https://bulbapedia.bulbagarden.net/wiki/Stat) (Health Points, Attack, Defense, Special Attack, Special Defense, Speed). The first 5 are used in the damage calculation. The speed defined which Pokémon moves first in the turn.\n",
    "  * The Health Points goes from 100% (healthy) to 0% (fainted);\n",
    " * 4 possible moves (each with a limited number of uses). Each move has an accuracy, a percentage of success or fail;\n",
    " * one [ability](https://bulbapedia.bulbagarden.net/wiki/Ability) that has special effects in the field;\n",
    " * one [nature](https://bulbapedia.bulbagarden.net/wiki/Nature) that specifies which stats are higher and which are lower;\n",
    " * one [item](https://bulbapedia.bulbagarden.net/wiki/Item), that can  restore Health Points or increase the Power of an Attack.\n",
    "* The winner of the battle is the player that makes all Pokémon of the oposing team to faint (all oposing Pokémon with health points equals zero, \"last man standing\" criteria);\n",
    "* Only one Pokémon of each team can be at the battle field at the same time;\n",
    "* Every turn, each players select one action: one of the 4 moves of their active Pokémon or [switching](https://bulbapedia.bulbagarden.net/wiki/Recall) for one of other non-fainted Pokémon of their team;\n",
    "\n",
    "* Pokémon can be summarized as an analyze state (turn) -> take action sequence game. "
   ]
  },
  {
   "attachments": {},
   "cell_type": "markdown",
   "id": "415dbb2b",
   "metadata": {},
   "source": [
    "* By standard, Pokémon is a stochastic game:\n",
    " * One move can have an accuracy value less than 100%, then this move has a probability to be missed;\n",
    " * The damage moves (attacks) have the following [damage calculation](https://bulbapedia.bulbagarden.net/wiki/Damage):\n",
    "  ![Damage](https://wikimedia.org/api/rest_v1/media/math/render/svg/b8c51fed93bb9a80ae8febc13700a40b8a5da402)\n",
    "  \n",
    " where:\n",
    "  * **[Level](https://bulbapedia.bulbagarden.net/wiki/Level)** (the level of the attacking Pokémon);\n",
    "  * **A** is the effective Attack stat of the attacking Pokémon if the used move is a physical move, or the effective Special Attack stat of the attacking Pokémon if the used move is a special move;\n",
    "  * **D** is the effective Defense stat of the target if the used move is a physical move or a special move that uses the target's Defense stat, or the effective Special Defense of the target if the used move is an other special move;\n",
    "  * **[Power](https://bulbapedia.bulbagarden.net/wiki/Power)** is the effective power of the used move;\n",
    "  * **Weather** is 1.5 if a Water-type move is being used during rain or a Fire-type move during harsh sunlight, and 0.5 if a Water-type move is used during harsh sunlight or a Fire-type move during rain, and 1 otherwise.\n",
    "  * **[Critical](https://bulbapedia.bulbagarden.net/wiki/Critical_hit)** has 6.25% chance of occurs and multiplies the damage by 1.5;\n",
    "  * **random** is a random factor between 0.85 and 1.00 (inclusive):\n",
    "  * **[STAB](https://bulbapedia.bulbagarden.net/wiki/Same-type_attack_bonus)** is the same-type attack bonus. This is equal to 1.5 if the move's type matches any of the user's types, 2 if the user of the move additionally has the ability Adaptability, and 1 if otherwise;\n",
    "  * **[Type](https://bulbapedia.bulbagarden.net/wiki/Type)** is the type effectiveness. This can be 0 (ineffective); 0.25, 0.5 (not very effective); 1 (normally effective); 2, or 4 (super effective), depending on both the move's and target's types;\n",
    "  * **[Burn](https://bulbapedia.bulbagarden.net/wiki/Burn_(status_condition))** is 0.5 (from Generation III onward) if the attacker is burned, its Ability is not Guts, and the used move is a physical move (other than Facade from Generation VI onward), and 1 otherwise.\n",
    "  * **other** is 1 in most cases, and a different multiplier when specific interactions of moves, Abilities, or items take effect. In this work, this is applied just to Pokémon that has the item **Life Orb**, which multiplies the damage by 1.3.\n",
    "  \n",
    "  * **Not** used in this work (equals 1):\n",
    "   * Targets (for Battles with more than two active Pokémon in the field);\n",
    "   * Badge ( just applied in Generation II);\n",
    "   \n",
    "   "
   ]
  },
  {
   "attachments": {},
   "cell_type": "markdown",
   "id": "8cb2a5b2",
   "metadata": {},
   "source": [
    "# **MDP formulation and discretization model** \n",
    "\n",
    "## Original (stochastic)\n",
    "\n",
    "We considered our original (stochastic) MDP as a tuple $M = (S, A, \\phi, R)$, where:\n",
    "* **S** is the whole set of possible states. One state **s $\\in$ S**  is defined at each turn with 12 battle elements concatenated, that correspond to:\n",
    " * [0] Our Active Pokémon index (0: Venusaur,  1: Pikachu, 2: Tauros, 3: Sirfetch'd, 4: Blastoise, 5: Charizard);\n",
    " * [1] Opponent Active Pokémon index (0: Eevee,  1: Vaporeon, 2: Leafeon, 3: Sylveon, 4: Jolteon, 5: Umbreon);\n",
    " * [2-5] Active Pokémon moves base power (if a move doesn't have base power, default to -1);\n",
    " * [6-9] Active Pokémon moves damage multipliers;\n",
    " * [10] Our remaining Pokémon;\n",
    " * [11] Opponent remaining Pokémon.\n",
    " \n",
    "* **A** is the whole set of possible actions. Our action space is a range [0, 8]. One action **a $\\in$ A** is one of the possible choices:\n",
    " * [0] 1st Active Pokémon move;\n",
    " * [1] 2nd Active Pokémon move;\n",
    " * [2] 3rd Active Pokémon move;\n",
    " * [3] 4th Active Pokémon move;\n",
    " * [4] Switch to 1st next Pokémon;\n",
    " * [5] Switch to 2nd next Pokémon;\n",
    " * [6] Switch to 3rd next Pokémon;\n",
    " * [7] Switch to 4th next Pokémon;\n",
    " * [8] Switch to 5th next Pokémon.\n",
    "\n",
    "When a selected action cannot be executed, we random select another possible action.\n",
    "\n",
    "* **$\\phi$** is a stochastic transition function that occurs from state **s** to state **s'**, by taking an action **a**. The following parameters are part of our  stochastic transition function:\n",
    " * Move's accuracy (chance of the move successfully occurs or fail);\n",
    " * Damage calculation: The **[Critical](https://bulbapedia.bulbagarden.net/wiki/Critical_hit)** parameter (6.25% chance of occurs) and the **random** parameter, ranging from 0.85 and 1.00 (inclusive).\n",
    " * Move's effects: Some moves have [additional effects](https://bulbapedia.bulbagarden.net/wiki/Additional_effect). e.g.: Iron Head have 30% chance of flinching the target (target cannot move in the turn).\n",
    "\n",
    "* **R** is a set of rewards. A reward **r $\\in$ R** is acquired in state **s** by taking the action **a**. The rewards are calculated at the end of the turn. The value of reward **r** is defined by the sum of elements:\n",
    " * +Our Active Pokémon current Health Points;\n",
    " * -2 if our Active Pokémon fainted;\n",
    " * -1 if our Active Pokémon have a [negative status condition](https://bulbapedia.bulbagarden.net/wiki/Status_condition);\n",
    " * +Number of remaining Pokémon in our team;\n",
    " * -Opponent Active Pokémon current Health Points;\n",
    " * +2 if opponent Active Pokémon fainted;\n",
    " * +1 if opponent Active Pokémon have a [negative status condition](https://bulbapedia.bulbagarden.net/wiki/Status_condition);\n",
    " * -Number of remaining Pokémon in opponent team;\n",
    " * +15 if we won the battle;\n",
    " * -15 if we lost the battle.\n",
    " \n",
    "### Stochastic Team\n",
    "\n",
    "Our stochastic team, with each Pokémon, their abilities, natures, items, moves (base power and accuracy) and possible switches are shown in [Team](https://imgur.com/KSXvlmO).\n",
    "\n",
    "The stochastic opponent team, with each Pokémon, their abilities, natures, items, moves (base power and accuracy) and possible switches are shown in [Opponent Team](https://imgur.com/rLF5Cli)."
   ]
  },
  {
   "cell_type": "code",
   "execution_count": 6,
   "id": "f46553a5",
   "metadata": {},
   "outputs": [
    {
     "data": {
      "text/html": [
       "\n",
       "        <iframe\n",
       "            width=\"1000\"\n",
       "            height=\"600\"\n",
       "            src=\"images/report/Team stochastic.png\"\n",
       "            frameborder=\"0\"\n",
       "            allowfullscreen\n",
       "        ></iframe>\n",
       "        "
      ],
      "text/plain": [
       "<IPython.lib.display.IFrame at 0x207472e5850>"
      ]
     },
     "execution_count": 6,
     "metadata": {},
     "output_type": "execute_result"
    }
   ],
   "source": [
    "IFrame(\"images/report/Team stochastic.png\", width=1000, height=600)"
   ]
  },
  {
   "cell_type": "code",
   "execution_count": 7,
   "id": "d5cdcd6d",
   "metadata": {},
   "outputs": [
    {
     "data": {
      "text/html": [
       "\n",
       "        <iframe\n",
       "            width=\"1000\"\n",
       "            height=\"600\"\n",
       "            src=\"images/report/Opponent stochastic.png\"\n",
       "            frameborder=\"0\"\n",
       "            allowfullscreen\n",
       "        ></iframe>\n",
       "        "
      ],
      "text/plain": [
       "<IPython.lib.display.IFrame at 0x207472e59d0>"
      ]
     },
     "execution_count": 7,
     "metadata": {},
     "output_type": "execute_result"
    }
   ],
   "source": [
    "IFrame(\"images/report/Opponent stochastic.png\", width=1000, height=600)"
   ]
  },
  {
   "attachments": {},
   "cell_type": "markdown",
   "id": "2d854780",
   "metadata": {},
   "source": [
    "## Deterministic\n",
    "\n",
    "To adapt Pokémon to a deterministic environment, we use Pokémon that cannot receive a critical hit, moves with only 100% accuracy and no side effects, and edit the server code to ignore the random parameter in damage calculation, removing the stochastic transition function $\\phi$ from our MDP. Therefore, now our MDP is a tuple $M = (S, A, R)$, where:\n",
    "* **S** is the whole set of possible states. One state **s $\\in$ S**  is defined at each turn with 12 battle elements concatenated, that correspond to:\n",
    " * [0] Our Active Pokémon index ;\n",
    " * [1] Opponent Active Pokémon index ;\n",
    " * [2-5] Active Pokémon moves base power (if a move doesn't have base power, default to -1);\n",
    " * [6-9] Active Pokémon moves damage multipliers;\n",
    " * [10] Our remaining Pokémon;\n",
    " * [11] Opponent remaining Pokémon.\n",
    " \n",
    "* **A** is the whole set of possible actions. Our action space is a range [0, 8] (len: 9). One action **a $\\in$ A** is one of the possible choices:\n",
    " * [0] 1st Active Pokémon move;\n",
    " * [1] 2nd Active Pokémon move;\n",
    " * [2] 3rd Active Pokémon move;\n",
    " * [3] 4th Active Pokémon move;\n",
    " * [4] Switch to 1st next Pokémon;\n",
    " * [5] Switch to 2nd next Pokémon;\n",
    " * [6] Switch to 3rd next Pokémon;\n",
    " * [7] Switch to 4th next Pokémon;\n",
    " * [8] Switch to 5th next Pokémon.\n",
    "\n",
    "When a selected action cannot be executed, we random select another possible action.\n",
    "\n",
    "* **R** is a set of rewards. A reward **r $\\in$ R** is acquired in state **s** by taking the action **a**. The rewards are calculated at the end of each turn. The value of reward **r** is defined by the sum of elements:\n",
    " * +Our Active Pokémon current Health Points;\n",
    " * -2 if our Active Pokémon fainted;\n",
    " * -1 if our Active Pokémon have a [negative status condition](https://bulbapedia.bulbagarden.net/wiki/Status_condition);\n",
    " * +Number of remaining Pokémon in our team;\n",
    " * -Opponent Active Pokémon current Health Points;\n",
    " * +2 if opponent Active Pokémon fainted;\n",
    " * +1 if opponent Active Pokémon have a [negative status condition](https://bulbapedia.bulbagarden.net/wiki/Status_condition);\n",
    " * -Number of remaining Pokémon in opponent team;\n",
    " * +15 if we won the battle;\n",
    " * -15 if we lost the battle.\n",
    " \n",
    "### Deterministic Team\n",
    "\n",
    "Our deterministic team, with each Pokémon, their abilities, natures, items, moves (base power and accuracy) and possible switches are shown in [Team](https://imgur.com/DeRAEQb).\n",
    "\n",
    "The deterministic opponent team, with each Pokémon, their abilities, natures, items, moves (base power and accuracy) and possible switches are shown in [Opponent Team](https://imgur.com/Hltn5OO).\n",
    "\n",
    "We use on both teams only Pokémon with [Battle Armor](https://bulbapedia.bulbagarden.net/wiki/Battle_Armor_(Ability)) or [Shell Armor](https://bulbapedia.bulbagarden.net/wiki/Shell_Armor_(Ability)) abilities, which prevent critical hits from being performed. Also, we use in both teams only moves with 100% accuracy, with no chance of getting it missed, and the moves haven't additional effects."
   ]
  },
  {
   "cell_type": "code",
   "execution_count": 8,
   "id": "61899c0e",
   "metadata": {},
   "outputs": [
    {
     "data": {
      "text/html": [
       "\n",
       "        <iframe\n",
       "            width=\"1000\"\n",
       "            height=\"600\"\n",
       "            src=\"images/report/Team deterministic.png\"\n",
       "            frameborder=\"0\"\n",
       "            allowfullscreen\n",
       "        ></iframe>\n",
       "        "
      ],
      "text/plain": [
       "<IPython.lib.display.IFrame at 0x207472e5ac0>"
      ]
     },
     "execution_count": 8,
     "metadata": {},
     "output_type": "execute_result"
    }
   ],
   "source": [
    "IFrame(\"images/report/Team deterministic.png\", width=1000, height=600)"
   ]
  },
  {
   "cell_type": "code",
   "execution_count": 9,
   "id": "4b5b59ca",
   "metadata": {},
   "outputs": [
    {
     "data": {
      "text/html": [
       "\n",
       "        <iframe\n",
       "            width=\"1000\"\n",
       "            height=\"600\"\n",
       "            src=\"images/report/Opponent deterministic.png\"\n",
       "            frameborder=\"0\"\n",
       "            allowfullscreen\n",
       "        ></iframe>\n",
       "        "
      ],
      "text/plain": [
       "<IPython.lib.display.IFrame at 0x207472e5b50>"
      ]
     },
     "execution_count": 9,
     "metadata": {},
     "output_type": "execute_result"
    }
   ],
   "source": [
    "IFrame(\"images/report/Opponent deterministic.png\", width=1000, height=600)"
   ]
  },
  {
   "attachments": {},
   "cell_type": "markdown",
   "id": "a5bc4248",
   "metadata": {},
   "source": [
    "## Search space\n",
    "\n",
    "The features that integrate our states are shown in [this figure](https://imgur.com/tREjWCG) and below. For a single battle between two players with 6 Pokémon each, we have $1.016.064$ possible states.\n",
    "\n",
    "Since we have 9 possible actions, we total $9.144.576$ possibilities for each battle."
   ]
  },
  {
   "cell_type": "code",
   "execution_count": 10,
   "id": "dd39682e",
   "metadata": {},
   "outputs": [
    {
     "data": {
      "text/html": [
       "\n",
       "        <iframe\n",
       "            width=\"920\"\n",
       "            height=\"600\"\n",
       "            src=\"images/report/possible_states.png\"\n",
       "            frameborder=\"0\"\n",
       "            allowfullscreen\n",
       "        ></iframe>\n",
       "        "
      ],
      "text/plain": [
       "<IPython.lib.display.IFrame at 0x207472e5430>"
      ]
     },
     "execution_count": 10,
     "metadata": {},
     "output_type": "execute_result"
    }
   ],
   "source": [
    "IFrame(\"images/report/possible_states.png\", width=920, height=600)"
   ]
  },
  {
   "attachments": {},
   "cell_type": "markdown",
   "id": "3dc733ba",
   "metadata": {},
   "source": [
    "# **The environments built**\n",
    "\n",
    "The environment used is [Pokémon Showdown](https://play.pokemonshowdown.com), an [open-source](https://github.com/smogon/pokemon-showdown.git) Pokémon battle simulator.\n",
    "\n",
    "[Example](https://imgur.com/hjHikuc) of one battle in Pokémon Showdown.\n"
   ]
  },
  {
   "cell_type": "code",
   "execution_count": 11,
   "id": "a744570f",
   "metadata": {},
   "outputs": [
    {
     "data": {
      "text/html": [
       "\n",
       "        <iframe\n",
       "            width=\"1000\"\n",
       "            height=\"1000\"\n",
       "            src=\"images/report/showdownEx.jpg\"\n",
       "            frameborder=\"0\"\n",
       "            allowfullscreen\n",
       "        ></iframe>\n",
       "        "
      ],
      "text/plain": [
       "<IPython.lib.display.IFrame at 0x207472e5190>"
      ]
     },
     "execution_count": 11,
     "metadata": {},
     "output_type": "execute_result"
    }
   ],
   "source": [
    "IFrame(\"images/report/showdownEx.jpg\", width=1000, height=1000)"
   ]
  },
  {
   "attachments": {},
   "cell_type": "markdown",
   "id": "d1742305",
   "metadata": {},
   "source": [
    "To communicate our agents with Pokémon Showdown we used [poke-env](https://poke-env.readthedocs.io/en/latest/) a Python environment for interacting in Pokémon Showdown battles.\n",
    "\n",
    "We used separated Python classes (available in our [git repository](https://github.com/leolellisr/poke_RL/tree/master/src)) for define the Players that are trained with each method. These classes communicates with Pokémon Showdown and implements the poke-env methods to:\n",
    "* Create battles;\n",
    "* Accept battles;\n",
    "* Send orders (actions) to Pokémon Showdown.\n",
    "\n",
    "## Original (stochastic)\n",
    "\n",
    "To speed up the battles, we hosted our own server of Pokemon Showdown in localhost. It requires Node.js v10+."
   ]
  },
  {
   "cell_type": "code",
   "execution_count": null,
   "id": "a5730fde",
   "metadata": {},
   "outputs": [],
   "source": [
    "git clone https://github.com/smogon/pokemon-showdown.git"
   ]
  },
  {
   "attachments": {},
   "cell_type": "markdown",
   "id": "1714588c",
   "metadata": {},
   "source": [
    "After clone the repository, it's needed to create a logs folder in root.\n",
    "\n",
    "To configure the server, we used the following code:"
   ]
  },
  {
   "cell_type": "code",
   "execution_count": null,
   "id": "566d9869",
   "metadata": {},
   "outputs": [],
   "source": [
    "cd pokemon-showdown\n",
    "npm install\n",
    "cp config/config-example.js config/config.js"
   ]
  },
  {
   "attachments": {},
   "cell_type": "markdown",
   "id": "d1f33ea6",
   "metadata": {},
   "source": [
    "To start the server, we use:"
   ]
  },
  {
   "cell_type": "code",
   "execution_count": null,
   "id": "e8307d0c",
   "metadata": {},
   "outputs": [],
   "source": [
    "node pokemon-showdown start --no-security"
   ]
  },
  {
   "attachments": {},
   "cell_type": "markdown",
   "id": "6b4108c6",
   "metadata": {},
   "source": [
    "## Deterministic environment\n",
    "\n",
    "To adapt our environment to a deterministic setup, we had to establish the following parameters:\n",
    "\n",
    "* We removed the random component of sim/battle.ts from the Pokémon Showdown simulator;\n",
    "\n",
    "* We use on both teams only Pokémon with Battle Armor or Shell Armor abilities, which prevent critical hits from being performed;\n",
    "\n",
    "* We used in both teams only moves with 100% accuracy, with no chance of getting it missed;\n",
    "\n",
    "* We didn't use any move with additional effect. "
   ]
  },
  {
   "attachments": {},
   "cell_type": "markdown",
   "id": "07fb6789",
   "metadata": {},
   "source": [
    "# **Characteristics of  the problem**\n",
    "\n",
    "* Both of our environments (stochastic and deterministic) are episodic. One state occurs after another;\n",
    "\n",
    "* Our terminal states are:\n",
    " * When all our Pokémon are fainted (we lose);\n",
    " * When all opponent Pokémon are fainted (we won).\n",
    "\n",
    "* As specified before, a reward **r** is calculated at the end of a turn (beginning of next turn). The value of reward **r** is defined by the sum of:\n",
    " * +Our Active Pokémon current Health Points;\n",
    " * -2 if our Active Pokémon fainted;\n",
    " * -1 if our Active Pokémon have a [negative status condition](https://bulbapedia.bulbagarden.net/wiki/Status_condition);\n",
    " * +Number of remaining Pokémon in our team;\n",
    " * -Opponent Active Pokémon current Health Points;\n",
    " * +2 if opponent Active Pokémon fainted;\n",
    " * +1 if opponent Active Pokémon have a [negative status condition](https://bulbapedia.bulbagarden.net/wiki/Status_condition);\n",
    " * -Number of remaining Pokémon in opponent team;\n",
    " * +15 if we won the battle;\n",
    " * -15 if we lost the battle."
   ]
  },
  {
   "attachments": {},
   "cell_type": "markdown",
   "id": "6f1f9a41",
   "metadata": {},
   "source": [
    "# gym wrapper\n",
    "\n",
    "To implement Deep Reinforcement Learning methods in our project, we used poke_env's [env_player class](https://github.com/hsahovic/poke-env/blob/master/src/poke_env/player/env_player.py) as base class. \n",
    "\n",
    "The Deep Reinforcement Learning method can be used with the poke_env class by defining our agent as a gym environment to be used in the DeepRL method. \n",
    "\n",
    "The class defines an env_algorithm_wrapper for communication between a Pokémon Showdown environment in gym, a Deep Reinforcement Learning method and our agent, that will be used as an environment for the Deep Reinforcement Learning method to states/rewards analysis and decision making.\n",
    "\n"
   ]
  },
  {
   "attachments": {},
   "cell_type": "markdown",
   "id": "6ed9f567",
   "metadata": {},
   "source": [
    "# **Deep Q-Learning - Keras (2018)**\n",
    "\n",
    "The first method we have implemented was a **value-based** method: [Deep Q-Learning (DQN), from Keras-RL Agents (2018)](github.com/keras-rl/keras-rl/blob/master/rl/agents/dqn.py).\n",
    "\n",
    "* Agent performs actions in the environment to learn how to map the observed states to certain actions;\n",
    "* The agent chooses an action in a given state based on a \"Q value\" (weighted reward based on the highest expected long-term reward); \n",
    "* DQN agent learns to perform its task in such a way that the recommended action maximizes potential future rewards;\n",
    "* The method is considered an \"Off-Policy\" method because its Q values are updated assuming the best action was chosen, even if the best action was not chosen.\n",
    "*  Q-value is calculated with the reward added to the next state maximum Q-value. Every time the Q-value calculates a high number for a certain state, the value that is obtained from the output of the neural network for that specific state, will become higher every time. Each output neuron value will get higher and higher until the difference between each output value is high;\n",
    "* If action a in state s is a higher value than action b, then action a will get chosen every time for state s. If for some memory experience action b becomes the better action for state s, it is difficult to train the network to learn that action b is the better action in some conditions.\n",
    "\n",
    "* We used an [linear annealing $\\epsilon$-greedy exploration strategy,  from Keras-RL (2018)](https://github.com/keras-rl/keras-rl/blob/master/rl/policy.py), with $\\epsilon = 0,1$;\n",
    "\n",
    "* We used the following $\\epsilon$-greedy policy:"
   ]
  },
  {
   "cell_type": "code",
   "execution_count": null,
   "id": "17996947",
   "metadata": {},
   "outputs": [],
   "source": [
    "policy = LinearAnnealedPolicy(\n",
    "            EpsGreedyQPolicy(),\n",
    "            attr=\"eps\",\n",
    "            eps = 0.1,\n",
    "            value_max=1.0,\n",
    "            value_min=0.05,\n",
    "            value_test=0,\n",
    "            nb_steps=10.000 * epochs/10,\n",
    "        )"
   ]
  },
  {
   "attachments": {},
   "cell_type": "markdown",
   "id": "1d73ba87",
   "metadata": {},
   "source": [
    "We have applied the follow configurations and hyperparameters to the training of this method:\n",
    "* Optimizer: Adam (Learning Rate: $2.5e-4$)\n",
    "* Number of the steps in warmup: $10.000 * epochs/10$\n",
    "* Metric (training): Mean Absolute Error\n",
    "* gamma = $0.75$\n",
    "* target_model_update=$1$\n",
    "* delta_clip=$0.01$\n",
    "* epsilon (epsilon-greedy policy)=$0.1$  \n",
    "\n",
    "\n",
    "\n",
    "The internal model of our DQN agent is shown above:"
   ]
  },
  {
   "cell_type": "code",
   "execution_count": null,
   "id": "baecc839",
   "metadata": {},
   "outputs": [],
   "source": [
    "N_HIDDEN = 128\n",
    "N_STATE_COMPONENTS = 12\n",
    "n_action = 9\n",
    "model = Sequential()\n",
    "model.add(Dense(N_HIDDEN, activation=\"elu\", input_shape=(1, N_STATE_COMPONENTS)))\n",
    "# Our embedding have shape (1, 12), which affects our hidden layer dimension and output dimension\n",
    "# Flattening resolve potential issues that would arise otherwise\n",
    "model.add(Flatten())\n",
    "model.add(Dense(int(N_HIDDEN/2), activation=\"elu\"))\n",
    "model.add(Dense(n_action, activation=\"linear\"))"
   ]
  },
  {
   "attachments": {},
   "cell_type": "markdown",
   "id": "008236d8",
   "metadata": {},
   "source": [
    "* Since DQN trains by step and one battle has usually 30 steps, we defined $10.000$ steps per epoch (~$333$ battles per epoch) and defined the total number of battles with the number of epochs. We trained our agent against a MaxDamagePlayer, that always selects the move with the greatest base power. We trained for $300.000$ steps ($30$ epochs and ~$10.000$ battles) and  $900.000$ steps ($90$ epochs and ~$30.000$ battles). At the end of the $900.000$ steps training, we saved the Keras model for future use;\n",
    "\n",
    "* We defined one SequentialMemory with limit of the max number of steps ($10.000$ * epochs) and a window length of 1;"
   ]
  },
  {
   "cell_type": "code",
   "execution_count": null,
   "id": "930972e2",
   "metadata": {},
   "outputs": [],
   "source": [
    "memory = SequentialMemory(limit=10.000 * epochs, window_length=1)"
   ]
  },
  {
   "attachments": {},
   "cell_type": "markdown",
   "id": "7121f32e",
   "metadata": {},
   "source": [
    "* We defined and compiled our DQN as follows:"
   ]
  },
  {
   "cell_type": "code",
   "execution_count": null,
   "id": "7aee2ec7",
   "metadata": {},
   "outputs": [],
   "source": [
    "dqn = DQNAgent(\n",
    "        model=model,\n",
    "        nb_actions=len(env_player.action_space),\n",
    "        policy=policy,\n",
    "        memory=memory,\n",
    "        nb_steps_warmup=int(10.000 * epochs/10),\n",
    "        gamma=0.75,\n",
    "        target_model_update=1,\n",
    "        delta_clip=0.01,\n",
    "        enable_double_dqn=False\n",
    "    )\n",
    "dqn.compile(Adam(lr=2.5e-4), metrics=[\"mae\"])"
   ]
  },
  {
   "attachments": {},
   "cell_type": "markdown",
   "id": "871cd8cb",
   "metadata": {},
   "source": [
    "* We defined the following algorithms to train and validate our DQN."
   ]
  },
  {
   "cell_type": "code",
   "execution_count": null,
   "id": "25f32a74",
   "metadata": {},
   "outputs": [],
   "source": [
    "def dqn_training(player, dqn, nb_steps):\n",
    "    dqn.fit(player, nb_steps=nb_steps)\n",
    "    player.complete_current_battle()\n",
    "\n",
    "def dqn_evaluation(player, dqn, nb_episodes):\n",
    "    # Reset battle statistics\n",
    "    player.reset_battles()\n",
    "    dqn.test(player, nb_episodes=nb_episodes, visualize=False)"
   ]
  },
  {
   "attachments": {},
   "cell_type": "markdown",
   "id": "038d065b",
   "metadata": {},
   "source": [
    "Finally, we call the following functions to train and test our agent:"
   ]
  },
  {
   "cell_type": "code",
   "execution_count": null,
   "id": "4af68a7a",
   "metadata": {},
   "outputs": [],
   "source": [
    "# Training\n",
    "env_player.play_against(\n",
    "    env_algorithm=dqn_training,\n",
    "    opponent=opponent_player,\n",
    "    env_algorithm_kwargs={\"dqn\": dqn, \"nb_steps\": int(10.000 * epochs/10)},\n",
    ")\n",
    "model.save(\"model_%d\" % int(10.000 * epochs/10))\n",
    "\n",
    "# Evaluation\n",
    "env_player.num_battles=0\n",
    "env_player.play_against(\n",
    "    env_algorithm=dqn_evaluation,\n",
    "    opponent=opponent,\n",
    "    env_algorithm_kwargs={\"dqn\": dqn, \"nb_episodes\": int(number_of_battles/3)})"
   ]
  },
  {
   "attachments": {},
   "cell_type": "markdown",
   "id": "0e581aff",
   "metadata": {},
   "source": [
    "* We validate our solution in both cases against a MaxDamagePlayer and against a RandomPlayer, that selects random actions at each turn. We validated for $3.333$ battles against each Player.  "
   ]
  },
  {
   "attachments": {},
   "cell_type": "markdown",
   "id": "b13e473a",
   "metadata": {},
   "source": [
    "## **Deep Q-Learning - Keras (2018)** 300k steps - Stochastic - Results \n",
    "\n",
    "The instant values of the graphs of \"Rewards in Training\", \"Wins in Training\" and \"Memory/CPU usage in Traning\" can be seen at https://app.neptune.ai/leolellisr/rl-pokeenv/e/RLPOK-184/charts. \n",
    "\n",
    "The agent trained for $300k$ steps and $10.077$ battles, resulting in ~$29,77$ steps per battle.\n",
    " \n",
    "### **Deep Q-Learning - Keras (2018)** 300k steps - Stochastic - Rewards (per step) - Training \n",
    "\n",
    "[**Deep Q-Learning - Keras (2018)** 300k steps - Stochastic - Rewards (per step) - Training](https://imgur.com/ixM6ErF)"
   ]
  },
  {
   "cell_type": "code",
   "execution_count": 12,
   "id": "9de3263d",
   "metadata": {},
   "outputs": [
    {
     "data": {
      "text/html": [
       "\n",
       "        <iframe\n",
       "            width=\"800\"\n",
       "            height=\"600\"\n",
       "            src=\"images/report/reward_computed_dqn_sto.png\"\n",
       "            frameborder=\"0\"\n",
       "            allowfullscreen\n",
       "        ></iframe>\n",
       "        "
      ],
      "text/plain": [
       "<IPython.lib.display.IFrame at 0x207472e5940>"
      ]
     },
     "execution_count": 12,
     "metadata": {},
     "output_type": "execute_result"
    }
   ],
   "source": [
    "IFrame(\"images/report/reward_computed_dqn_sto.png\", width=800, height=600)"
   ]
  },
  {
   "attachments": {},
   "cell_type": "markdown",
   "id": "f4c3d50b",
   "metadata": {},
   "source": [
    "### **Deep Q-Learning - Keras (2018)** 300k steps - Stochastic - Win percentages (per battle) - Training\n",
    "[ **Deep Q-Learning - Keras (2018)** 300k steps - Stochastic - Win percentages (per step) - Training](https://imgur.com/IASqmaj)"
   ]
  },
  {
   "cell_type": "code",
   "execution_count": 13,
   "id": "7e9b0e73",
   "metadata": {},
   "outputs": [
    {
     "data": {
      "text/html": [
       "\n",
       "        <iframe\n",
       "            width=\"1000\"\n",
       "            height=\"600\"\n",
       "            src=\"images/report/win_acc_dqn_sto.png\"\n",
       "            frameborder=\"0\"\n",
       "            allowfullscreen\n",
       "        ></iframe>\n",
       "        "
      ],
      "text/plain": [
       "<IPython.lib.display.IFrame at 0x207472e5820>"
      ]
     },
     "execution_count": 13,
     "metadata": {},
     "output_type": "execute_result"
    }
   ],
   "source": [
    "IFrame(\"images/report/win_acc_dqn_sto.png\", width=1000, height=600)"
   ]
  },
  {
   "attachments": {},
   "cell_type": "markdown",
   "id": "dcf4114f",
   "metadata": {},
   "source": [
    "### **Deep Q-Learning - Keras (2018)** 300k steps - Stochastic - Win percentages - Validation\n",
    "\n",
    "### Versus MaxPlayer\n",
    "* Player won $2319/3286$ battles [this is $69,57\\%$ and took $12.699$ seconds]\n",
    "\n",
    "### Versus RandomPlayer\n",
    "* Player won $3286/3333$ battles [this is $98,59\\%$ and took $12.459$ seconds]\n"
   ]
  },
  {
   "attachments": {},
   "cell_type": "markdown",
   "id": "91beca0f",
   "metadata": {},
   "source": [
    "\n",
    "### **Deep Q-Learning - Keras (2018)** 300k steps - Stochastic - Memory and CPU usage (absolute time) - Training\n",
    "\n",
    "[**Deep Q-Learning - Keras (2018)** 300k steps - Stochastic - Memory and CPU usage (absolute time) - Training](https://imgur.com/WicjMaW)"
   ]
  },
  {
   "cell_type": "code",
   "execution_count": 14,
   "id": "e6652aa7",
   "metadata": {},
   "outputs": [
    {
     "data": {
      "text/html": [
       "\n",
       "        <iframe\n",
       "            width=\"1000\"\n",
       "            height=\"600\"\n",
       "            src=\"images/report/cpu and memory dqn keras sto.png\"\n",
       "            frameborder=\"0\"\n",
       "            allowfullscreen\n",
       "        ></iframe>\n",
       "        "
      ],
      "text/plain": [
       "<IPython.lib.display.IFrame at 0x207472e5f70>"
      ]
     },
     "execution_count": 14,
     "metadata": {},
     "output_type": "execute_result"
    }
   ],
   "source": [
    "IFrame(\"images/report/cpu and memory dqn keras sto.png\", width=1000, height=600)"
   ]
  },
  {
   "cell_type": "code",
   "execution_count": null,
   "id": "d509af2a",
   "metadata": {},
   "outputs": [],
   "source": []
  },
  {
   "attachments": {},
   "cell_type": "markdown",
   "id": "f415c97c",
   "metadata": {},
   "source": [
    "## **Deep Q-Learning - Keras (2018)** 300k steps - Deterministic - Results \n",
    "\n",
    "The instant values of the graphs of \"Rewards in Training\", \"Wins in Training\" and \"Memory/CPU usage in Traning\" can be seen at  https://app.neptune.ai/leolellisr/rl-pokeenv/e/RLPOK-189/charts.\n",
    "\n",
    "The agent trained for $300k$ steps and $13.021$ battles, resulting in ~$23,04$ steps per battle.\n",
    "\n",
    "### **Deep Q-Learning - Keras (2018)** 300k steps - Deterministic - Rewards (per step) - Training \n",
    "\n",
    "[**Deep Q-Learning - Keras (2018)** 300k steps - Deterministic - Rewards (per step) - Training](https://imgur.com/AqsupVL)"
   ]
  },
  {
   "cell_type": "code",
   "execution_count": 15,
   "id": "32753076",
   "metadata": {},
   "outputs": [
    {
     "data": {
      "text/html": [
       "\n",
       "        <iframe\n",
       "            width=\"800\"\n",
       "            height=\"600\"\n",
       "            src=\"images/report/reward_computed_dqn_det.png\"\n",
       "            frameborder=\"0\"\n",
       "            allowfullscreen\n",
       "        ></iframe>\n",
       "        "
      ],
      "text/plain": [
       "<IPython.lib.display.IFrame at 0x207472e5040>"
      ]
     },
     "execution_count": 15,
     "metadata": {},
     "output_type": "execute_result"
    }
   ],
   "source": [
    "IFrame(\"images/report/reward_computed_dqn_det.png\", width=800, height=600)"
   ]
  },
  {
   "attachments": {},
   "cell_type": "markdown",
   "id": "5fec1fea",
   "metadata": {},
   "source": [
    "### **Deep Q-Learning - Keras (2018)** 300k steps - Deterministic - Win percentages (per battle) - Training\n",
    "[ **Deep Q-Learning - Keras (2018)** 300k steps - Deterministic - Win percentages (per step) - Training](https://imgur.com/rYU76ax)"
   ]
  },
  {
   "cell_type": "code",
   "execution_count": 16,
   "id": "ddae0242",
   "metadata": {},
   "outputs": [
    {
     "data": {
      "text/html": [
       "\n",
       "        <iframe\n",
       "            width=\"1000\"\n",
       "            height=\"600\"\n",
       "            src=\"images/report/win_acc_dqn_det.png\"\n",
       "            frameborder=\"0\"\n",
       "            allowfullscreen\n",
       "        ></iframe>\n",
       "        "
      ],
      "text/plain": [
       "<IPython.lib.display.IFrame at 0x207472e5df0>"
      ]
     },
     "execution_count": 16,
     "metadata": {},
     "output_type": "execute_result"
    }
   ],
   "source": [
    "IFrame(\"images/report/win_acc_dqn_det.png\", width=1000, height=600)"
   ]
  },
  {
   "attachments": {},
   "cell_type": "markdown",
   "id": "6a8fd52f",
   "metadata": {},
   "source": [
    "### **Deep Q-Learning - Keras (2018)** 300k steps - Deterministic - Win percentages - Validation\n",
    "\n",
    "### Versus MaxPlayer\n",
    "* Player won $2390/3333$ battles [this is $71,71\\%$ and took $11.016$ seconds]\n",
    "\n",
    "### Versus RandomPlayer\n",
    "* Player won $3283/3333$ battles [this is $98,50\\%$ and took $12.889$ seconds]"
   ]
  },
  {
   "attachments": {},
   "cell_type": "markdown",
   "id": "4da003b8",
   "metadata": {},
   "source": [
    "### **Deep Q-Learning - Keras (2018)** 300k steps - Deterministic - Memory and CPU usage  (absolute time) - Training\n",
    "\n",
    "[**Deep Q-Learning - Keras (2018)** 300k steps - Deterministic - Memory and CPU usage (absolute time) - Training](https://imgur.com/yJflda0)"
   ]
  },
  {
   "cell_type": "code",
   "execution_count": 17,
   "id": "e21d53ca",
   "metadata": {},
   "outputs": [
    {
     "data": {
      "text/html": [
       "\n",
       "        <iframe\n",
       "            width=\"1000\"\n",
       "            height=\"600\"\n",
       "            src=\"images/report/cpu and memory dqn keras det.png\"\n",
       "            frameborder=\"0\"\n",
       "            allowfullscreen\n",
       "        ></iframe>\n",
       "        "
      ],
      "text/plain": [
       "<IPython.lib.display.IFrame at 0x207472e5e80>"
      ]
     },
     "execution_count": 17,
     "metadata": {},
     "output_type": "execute_result"
    }
   ],
   "source": [
    "IFrame(\"images/report/cpu and memory dqn keras det.png\", width=1000, height=600)"
   ]
  },
  {
   "attachments": {},
   "cell_type": "markdown",
   "id": "22eedae0",
   "metadata": {},
   "source": [
    "## **Deep Q-Learning - Keras (2018)** 900k steps - Stochastic - Results \n",
    "\n",
    "The instant values of the graphs of \"Rewards in Training\", \"Wins in Training\" and \"Memory/CPU usage in Traning\" can be seen at https://app.neptune.ai/leolellisr/rl-pokeenv/e/RLPOK-185/charts. \n",
    "\n",
    "The agent trained for $900k$ steps and $29.979$ battles, resulting in ~$30,02$ steps per battle.\n",
    "\n",
    "### **Deep Q-Learning - Keras (2018)** 900k steps - Stochastic - Rewards (per step) - Training \n",
    "\n",
    "[**Deep Q-Learning - Keras (2018)** 900k steps - Stochastic - Rewards (per step) - Training](https://imgur.com/bhxDe1S)"
   ]
  },
  {
   "cell_type": "code",
   "execution_count": null,
   "id": "ff943224",
   "metadata": {},
   "outputs": [],
   "source": [
    "IFrame(\"images/report/reward_computed_dqn_sto90.png\", width=800, height=600)"
   ]
  },
  {
   "attachments": {},
   "cell_type": "markdown",
   "id": "e8ceadc0",
   "metadata": {},
   "source": [
    "### **Deep Q-Learning - Keras (2018)** 900k steps - Stochastic - Win percentages (per battle) - Training\n",
    "[ **Deep Q-Learning - Keras (2018)** 900k steps - Stochastic - Win percentages (per step) - Training](https://imgur.com/NaWa56r)"
   ]
  },
  {
   "cell_type": "code",
   "execution_count": null,
   "id": "9c4d263d",
   "metadata": {},
   "outputs": [],
   "source": [
    "IFrame(\"images/report/win_acc_dqn_sto90.png\", width=1000, height=600)"
   ]
  },
  {
   "attachments": {},
   "cell_type": "markdown",
   "id": "96c66647",
   "metadata": {},
   "source": [
    "### **Deep Q-Learning - Keras (2018)** 900k steps - Stochastic - Win percentages - Validation\n",
    "\n",
    "### Versus MaxPlayer\n",
    "* Player won $2032/3333$ battles [this is $60,57\\%$ and took $36.988$ seconds]\n",
    "\n",
    "### Versus RandomPlayer\n",
    "* Player won $3309/3333$ battles [this is $99,28\\%$ and took $39.774$ seconds]\n",
    "\n",
    "\n",
    "### **Deep Q-Learning - Keras (2018)** 900k steps - Stochastic - Memory and CPU usage (absolute time) - Training\n",
    "\n",
    "[**Deep Q-Learning - Keras (2018)** 900k steps - Stochastic - Memory and CPU usage (absolute time) - Training](https://imgur.com/8kG2OlA)\n"
   ]
  },
  {
   "cell_type": "code",
   "execution_count": null,
   "id": "c0bb0e39",
   "metadata": {},
   "outputs": [],
   "source": [
    "IFrame(\"images/report/cpu and memory dqn keras sto90.png\", width=1000, height=600)"
   ]
  },
  {
   "attachments": {},
   "cell_type": "markdown",
   "id": "ce393563",
   "metadata": {},
   "source": [
    "## **Deep Q-Learning - Keras (2018)** 900k steps - Deterministic - Results \n",
    "\n",
    "The instant values of the graphs of \"Rewards in Training\", \"Wins in Training\" and \"Memory/CPU usage in Traning\" can be seen at https://app.neptune.ai/leolellisr/rl-pokeenv/e/RLPOK-190/charts. \n",
    "\n",
    "The agent trained for $900k$ steps and $38.922$ battles, resulting in ~$23,12$ steps per battle.\n",
    "\n",
    "### **Deep Q-Learning - Keras (2018)** 900k steps - Deterministic - Rewards (per step) - Training \n",
    "\n",
    "[**Deep Q-Learning - Keras (2018)** 900k steps - Deterministic - Rewards (per step) - Training](https://imgur.com/f1sQsub)"
   ]
  },
  {
   "cell_type": "code",
   "execution_count": null,
   "id": "692d7fe7",
   "metadata": {},
   "outputs": [],
   "source": [
    "IFrame(\"images/report/reward_computed_dqn_det90.png\", width=800, height=600)"
   ]
  },
  {
   "attachments": {},
   "cell_type": "markdown",
   "id": "182905b1",
   "metadata": {},
   "source": [
    "### **Deep Q-Learning - Keras (2018)** 900k steps - Deterministic - Win percentages (per battle) - Training\n",
    "[ **Deep Q-Learning - Keras (2018)** 900k steps - Deterministic - Win percentages (per step) - Training](https://imgur.com/Ulx7nYp)"
   ]
  },
  {
   "cell_type": "code",
   "execution_count": null,
   "id": "7b357b37",
   "metadata": {},
   "outputs": [],
   "source": [
    "IFrame(\"images/report/win_acc_dqn_det90.png\", width=1000, height=600)"
   ]
  },
  {
   "attachments": {},
   "cell_type": "markdown",
   "id": "e9fdfc2f",
   "metadata": {},
   "source": [
    "### **Deep Q-Learning - Keras (2018)** 900k steps - Deterministic - Win percentages - Validation\n",
    "\n",
    "### Versus MaxPlayer\n",
    "* Player won $2487/3333$ battles [this is $74,62\\%$ and took $41.872$ seconds]\n",
    "\n",
    "### Versus RandomPlayer\n",
    "* Player won $3296/3333$ battles [this is $98,89\\%$ and took $45.381$ seconds]\n",
    "\n",
    "### **Deep Q-Learning - Keras (2018)** 900k steps - Deterministic - Memory and CPU usage (absolute time) - Training\n",
    "\n",
    "[**Deep Q-Learning - Keras (2018)** 900k steps - Deterministic - Memory and CPU usage (absolute time) - Training](https://imgur.com/WPaX7kJ)\n"
   ]
  },
  {
   "cell_type": "code",
   "execution_count": null,
   "id": "dbbb3623",
   "metadata": {},
   "outputs": [],
   "source": [
    "IFrame(\"images/report/cpu and memory dqn keras det90.png\", width=1000, height=600)"
   ]
  },
  {
   "attachments": {},
   "cell_type": "markdown",
   "id": "f6f11514",
   "metadata": {},
   "source": [
    "# **Double Deep Q-Learning - Keras (2018)**\n",
    "\n",
    "The second method we have implemented also is a **value-based** method: [Double Deep Q-Learning (DQN), from Keras-RL Agents (2018)](github.com/keras-rl/keras-rl/blob/master/rl/agents/dqn.py). We used the same code from DQN.\n",
    "\n",
    "* Double DQN uses two identical neural network models. One learns during the experience replay, just like DQN does, and the other one is a copy of the last episode of the first model. The Q-value is actually computed with this second model;\n",
    "* As DQN, agent performs actions in the environment to learn how to map the observed states to certain actions, chooses an action in a given state based on a \"Q value\" (weighted reward based on the highest expected long-term reward) and learns to perform its task in such a way that the recommended action maximizes potential future rewards;\n",
    "* Differently from DQN, if action a in state s is a higher value than action b, we use a secondary model that is the copy of the main model from the last episode and, since the difference between values of the second model are lower than the main model, we use this second model to attain the Q-value;\n",
    "* Double DQN calculates Q-value finding the index of the highest Q-value from the main model and then using that index to obtain the action from the second model;\n",
    "* The method is considered an \"Off-Policy\" method because its Q values are updated assuming the best action was chosen, even if the best action was not chosen.\n",
    "\n",
    "*  As DQN, we used an [linear annealing $\\epsilon$-greedy exploration strategy,  from Keras-RL (2018)](https://github.com/keras-rl/keras-rl/blob/master/rl/policy.py), with $\\epsilon = 0,1$;\n",
    "\n",
    "* We also used the following $\\epsilon$-greedy policy:"
   ]
  },
  {
   "cell_type": "code",
   "execution_count": null,
   "id": "0c141075",
   "metadata": {},
   "outputs": [],
   "source": [
    "policy = LinearAnnealedPolicy(\n",
    "            EpsGreedyQPolicy(),\n",
    "            attr=\"eps\",\n",
    "            eps = 0.1,\n",
    "            value_max=1.0,\n",
    "            value_min=0.05,\n",
    "            value_test=0,\n",
    "            nb_steps=10.000 * epochs/10,\n",
    "        )"
   ]
  },
  {
   "attachments": {},
   "cell_type": "markdown",
   "id": "5a942186",
   "metadata": {},
   "source": [
    "We have applied the follow configurations and hyperparameters to the training of this method:\n",
    "* Optimizer: Adam (Learning Rate: $2.5e-4$)\n",
    "* Number of the steps in warmup: $10.000 * epochs/10$\n",
    "* Metric (training): Mean Absolute Error\n",
    "* gamma = $0.75$\n",
    "* target_model_update=$1$\n",
    "* delta_clip=$0.01$\n",
    "* epsilon (epsilon-greedy policy)=$0.1$  \n",
    "\n",
    "\n",
    "\n",
    "The internal model of our Double DQN agent is shown above:"
   ]
  },
  {
   "cell_type": "code",
   "execution_count": null,
   "id": "c84616a7",
   "metadata": {},
   "outputs": [],
   "source": [
    "N_HIDDEN = 128\n",
    "N_STATE_COMPONENTS = 12\n",
    "n_action = 9\n",
    "model = Sequential()\n",
    "model.add(Dense(N_HIDDEN, activation=\"elu\", input_shape=(1, N_STATE_COMPONENTS)))\n",
    "# Our embedding have shape (1, 12), which affects our hidden layer dimension and output dimension\n",
    "# Flattening resolve potential issues that would arise otherwise\n",
    "model.add(Flatten())\n",
    "model.add(Dense(int(N_HIDDEN/2), activation=\"elu\"))\n",
    "model.add(Dense(n_action, activation=\"linear\"))"
   ]
  },
  {
   "attachments": {},
   "cell_type": "markdown",
   "id": "12d29c37",
   "metadata": {},
   "source": [
    "* Since Double DQN trains by step and one battle has usually 30 steps, we defined $10.000$ steps per epoch (~$333$ battles per epoch) and defined the total number of battles with the number of epochs. We trained our agent against a MaxDamagePlayer, that always selects the move with the greatest base power. We trained for $300.000$ steps ($30$ epochs and ~$10.000$ battles) and $900.000$ steps ($90$ epochs and ~$30.000$ battles). At the end of the $900.000$ steps training, we saved the Keras model for future use;\n",
    "\n",
    "* We defined one SequentialMemory with limit of the max number of steps ($10.000$ * epochs) and a window length of 1;\n"
   ]
  },
  {
   "cell_type": "code",
   "execution_count": null,
   "id": "292fea5a",
   "metadata": {},
   "outputs": [],
   "source": [
    "memory = SequentialMemory(limit=10.000 * epochs, window_length=1)"
   ]
  },
  {
   "attachments": {},
   "cell_type": "markdown",
   "id": "3b044e0f",
   "metadata": {},
   "source": [
    "* We defined and compiled our Double DQN as follows:"
   ]
  },
  {
   "cell_type": "code",
   "execution_count": null,
   "id": "bce7f6e2",
   "metadata": {},
   "outputs": [],
   "source": [
    "dqn = DQNAgent(\n",
    "        model=model,\n",
    "        nb_actions=len(env_player.action_space),\n",
    "        policy=policy,\n",
    "        memory=memory,\n",
    "        nb_steps_warmup=int(10.000 * epochs/10),\n",
    "        gamma=0.75,\n",
    "        target_model_update=1,\n",
    "        delta_clip=0.01,\n",
    "        enable_double_dqn=True\n",
    "    )\n",
    "dqn.compile(Adam(lr=2.5e-4), metrics=[\"mae\"])"
   ]
  },
  {
   "attachments": {},
   "cell_type": "markdown",
   "id": "142703d4",
   "metadata": {},
   "source": [
    "* We defined the following algorithms to train and validate our Double DQN."
   ]
  },
  {
   "cell_type": "code",
   "execution_count": null,
   "id": "883cefa4",
   "metadata": {},
   "outputs": [],
   "source": [
    "def dqn_training(player, dqn, nb_steps):\n",
    "    dqn.fit(player, nb_steps=nb_steps)\n",
    "    player.complete_current_battle()\n",
    "\n",
    "def dqn_evaluation(player, dqn, nb_episodes):\n",
    "    # Reset battle statistics\n",
    "    player.reset_battles()\n",
    "    dqn.test(player, nb_episodes=nb_episodes, visualize=False)\n"
   ]
  },
  {
   "attachments": {},
   "cell_type": "markdown",
   "id": "9314a1dd",
   "metadata": {},
   "source": [
    "Finally, we call the following functions to train and test our agent:"
   ]
  },
  {
   "cell_type": "code",
   "execution_count": null,
   "id": "944a4690",
   "metadata": {},
   "outputs": [],
   "source": [
    "# Training\n",
    "env_player.play_against(\n",
    "    env_algorithm=dqn_training,\n",
    "    opponent=opponent_player,\n",
    "    env_algorithm_kwargs={\"dqn\": dqn, \"nb_steps\": int(10.000 * epochs/10)},\n",
    ")\n",
    "model.save(\"model_%d\" % int(10.000 * epochs/10))\n",
    "\n",
    "# Evaluation\n",
    "env_player.num_battles=0\n",
    "env_player.play_against(\n",
    "    env_algorithm=dqn_evaluation,\n",
    "    opponent=opponent,\n",
    "    env_algorithm_kwargs={\"dqn\": dqn, \"nb_episodes\": int(number_of_battles/3)})"
   ]
  },
  {
   "attachments": {},
   "cell_type": "markdown",
   "id": "b3b39802",
   "metadata": {},
   "source": [
    "* We validate our solution in both cases against a MaxDamagePlayer and against a RandomPlayer, that selects random actions at each turn. We validated for $3.333$ battles against each Player.  \n",
    "\n",
    "## **Double Deep Q-Learning - Keras (2018)** 300k steps - Stochastic - Results \n",
    "\n",
    "The instant values of the graphs of \"Rewards in Training\", \"Wins in Training\" and \"Memory/CPU usage in Traning\" can be seen at https://app.neptune.ai/leolellisr/rl-pokeenv/e/RLPOK-152/charts. \n",
    "\n",
    "The agent trained for $300k$ steps and $10.053$ battles, resulting in ~$29,84$ steps per battle.\n",
    "\n",
    "\n",
    "### **Double Deep Q-Learning - Keras (2018)** 300k steps - Stochastic - Rewards (per step) - Training \n",
    "\n",
    "[**Double Deep Q-Learning - Keras (2018)** 300k steps - Stochastic - Rewards (per step) - Training](https://imgur.com/uyBq9GJ)"
   ]
  },
  {
   "cell_type": "code",
   "execution_count": null,
   "id": "38a28964",
   "metadata": {},
   "outputs": [],
   "source": [
    "IFrame(\"images/report/reward_computed_double_dqn_sto.png\", width=800, height=600)"
   ]
  },
  {
   "attachments": {},
   "cell_type": "markdown",
   "id": "cab9422c",
   "metadata": {},
   "source": [
    "### **Double Deep Q-Learning - Keras (2018)** 300k steps - Stochastic - Win percentages (per battle) - Training\n",
    "[ **Double Deep Q-Learning - Keras (2018)** 300k steps - Stochastic - Win percentages (per step) - Training](https://imgur.com/gxOglQv)"
   ]
  },
  {
   "cell_type": "code",
   "execution_count": null,
   "id": "baeb849d",
   "metadata": {},
   "outputs": [],
   "source": [
    "IFrame(\"images/report/win_acc_double_dqn_sto.png\", width=1000, height=600)"
   ]
  },
  {
   "attachments": {},
   "cell_type": "markdown",
   "id": "fa95260a",
   "metadata": {},
   "source": [
    "### **Double Deep Q-Learning - Keras (2018)** 300k steps - Stochastic - Win percentages - Validation\n",
    "\n",
    "### Versus MaxPlayer\n",
    "* Player won $2233/3333$ battles [this is $67\\%$ and took $9.750$ seconds]\n",
    "\n",
    "### Versus RandomPlayer\n",
    "* Player won $3266/3333$ battles [this is $98\\%$ and took $14.001$ seconds]\n",
    "\n",
    "### **Double Deep Q-Learning - Keras (2018)** 300k steps - Stochastic - Memory and CPU usage (absolute time) - Training\n",
    "\n",
    "[**Double Deep Q-Learning - Keras (2018)** 300k steps - Stochastic - Memory and CPU usage (absolute time) - Training](https://imgur.com/rKdi5DW)"
   ]
  },
  {
   "cell_type": "code",
   "execution_count": null,
   "id": "d9b82ddd",
   "metadata": {},
   "outputs": [],
   "source": [
    "IFrame(\"images/report/cpu and memory double dqn keras sto.png\", width=1000, height=600)"
   ]
  },
  {
   "attachments": {},
   "cell_type": "markdown",
   "id": "d2eef111",
   "metadata": {},
   "source": [
    "## **Double Deep Q-Learning - Keras (2018)** 300k steps - Deterministic - Results \n",
    "\n",
    "The instant values of the graphs of \"Rewards in Training\", \"Wins in Training\" and \"Memory/CPU usage in Traning\" can be seen at  https://app.neptune.ai/leolellisr/rl-pokeenv/e/RLPOK-192/charts.\n",
    "\n",
    "The agent trained for $300k$ steps and $13.006$ battles, resulting in ~$23,07$ steps per battle.\n",
    "\n",
    "### **Double Deep Q-Learning - Keras (2018)** 300k steps - Deterministic - Rewards (per step) - Training \n",
    "\n",
    "[**Double Deep Q-Learning - Keras (2018)** 300k steps - Deterministic - Rewards (per step) - Training](https://imgur.com/cviU2k5)\n"
   ]
  },
  {
   "cell_type": "code",
   "execution_count": null,
   "id": "e035037a",
   "metadata": {},
   "outputs": [],
   "source": [
    "IFrame(\"images/report/reward_computed_double_dqn_det.png\", width=800, height=600)"
   ]
  },
  {
   "attachments": {},
   "cell_type": "markdown",
   "id": "6f6311ce",
   "metadata": {},
   "source": [
    "\n",
    "### **Double Deep Q-Learning - Keras (2018)** 300k steps - Deterministic - Win percentages (per battle) - Training\n",
    "[**Double Deep Q-Learning - Keras (2018)** 300k steps - Deterministic - Win percentages (per step) - Training](https://imgur.com/g1UqVF4)"
   ]
  },
  {
   "cell_type": "code",
   "execution_count": null,
   "id": "411ae929",
   "metadata": {},
   "outputs": [],
   "source": [
    "IFrame(\"images/report/win_acc_double_dqn_det.png\", width=1000, height=600)"
   ]
  },
  {
   "attachments": {},
   "cell_type": "markdown",
   "id": "163d9929",
   "metadata": {},
   "source": [
    "### **Double Deep Q-Learning - Keras (2018)** 300k steps - Deterministic - Win percentages - Validation\n",
    "\n",
    "### Versus MaxPlayer\n",
    "* Player won $2569/3333$ battles [this is $77,08\\%$ and took $11.508$ seconds]\n",
    "\n",
    "### Versus RandomPlayer\n",
    "* Player won $3312/3333$ battles [this is $99,37\\%$ and took $13.261$ seconds]\n",
    "\n",
    "### **Double Deep Q-Learning - Keras (2018)** 300k steps - Deterministic - Memory and CPU usage  (absolute time) - Training\n",
    "\n",
    "[**Double Deep Q-Learning - Keras (2018)** 300k steps - Deterministic - Memory and CPU usage (absolute time) - Training](https://imgur.com/wtXIKni)"
   ]
  },
  {
   "cell_type": "code",
   "execution_count": null,
   "id": "ce77c8a4",
   "metadata": {},
   "outputs": [],
   "source": [
    "IFrame(\"images/report/cpu and memory double dqn keras det.png\", width=1000, height=600)"
   ]
  },
  {
   "attachments": {},
   "cell_type": "markdown",
   "id": "5879b91b",
   "metadata": {},
   "source": [
    "## **Double Deep Q-Learning - Keras (2018)** 900k steps - Stochastic - Results \n",
    "\n",
    "The instant values of the graphs of \"Rewards in Training\", \"Wins in Training\" and \"Memory/CPU usage in Traning\" can be seen at https://app.neptune.ai/leolellisr/rl-pokeenv/e/RLPOK-168/charts. \n",
    "\n",
    "The agent trained for $900k$ steps and $30.049$ battles, resulting in ~$29,95$ steps per battle.\n",
    "\n",
    "\n",
    "### **Double Deep Q-Learning - Keras (2018)** 900k steps  - Stochastic - Rewards (per step) - Training \n",
    "\n",
    "[**Double Deep Q-Learning - Keras (2018)** 900k steps - Stochastic - Rewards (per step) - Training](https://imgur.com/sD2rnhb)"
   ]
  },
  {
   "cell_type": "code",
   "execution_count": null,
   "id": "eb968411",
   "metadata": {},
   "outputs": [],
   "source": [
    "IFrame(\"images/report/reward_computed_double_dqn_sto90.png\", width=800, height=600)"
   ]
  },
  {
   "attachments": {},
   "cell_type": "markdown",
   "id": "17654ce0",
   "metadata": {},
   "source": [
    "\n",
    "### **Double Deep Q-Learning - Keras (2018)** 900k steps - Stochastic - Win percentages (per battle) - Training\n",
    "[ **Double Deep Q-Learning - Keras (2018)** 900k steps - Stochastic - Win percentages (per step) - Training](https://imgur.com/1HEDLLU)"
   ]
  },
  {
   "cell_type": "code",
   "execution_count": null,
   "id": "a7994714",
   "metadata": {},
   "outputs": [],
   "source": [
    "IFrame(\"images/report/win_acc_double_dqn_sto90.png\", width=1000, height=600)"
   ]
  },
  {
   "attachments": {},
   "cell_type": "markdown",
   "id": "af76d969",
   "metadata": {},
   "source": [
    "### **Double Deep Q-Learning - Keras (2018)** 900k steps - Stochastic - Win percentages - Validation\n",
    "\n",
    "### Versus MaxPlayer\n",
    "* Player won $2798/3333$ battles [this is $83,94\\%$ and took $26.557$ seconds]\n",
    "\n",
    "### Versus RandomPlayer\n",
    "* Player won $3308/3333$ battles [this is $99,24\\%$ and took $28.491$ seconds]\n",
    "\n",
    "\n",
    "\n",
    "### **Double Deep Q-Learning - Keras (2018)** 900k steps - Stochastic - Memory and CPU usage (absolute time) - Training\n",
    "\n",
    "[**Double Deep Q-Learning - Keras (2018)** 900k steps - Stochastic - Memory and CPU usage (absolute time) - Training](https://imgur.com/cUSo9hB)"
   ]
  },
  {
   "cell_type": "code",
   "execution_count": null,
   "id": "78c63620",
   "metadata": {},
   "outputs": [],
   "source": [
    "IFrame(\"images/report/cpu and memory double dqn keras sto90.png\", width=1000, height=600)"
   ]
  },
  {
   "attachments": {},
   "cell_type": "markdown",
   "id": "695a8a07",
   "metadata": {},
   "source": [
    "## **Double Deep Q-Learning - Keras (2018)** 900k steps - Deterministic - Results \n",
    "\n",
    "The instant values of the graphs of \"Rewards in Training\", \"Wins in Training\" and \"Memory/CPU usage in Traning\" can be seen at  https://app.neptune.ai/leolellisr/rl-pokeenv/e/RLPOK-191/charts.\n",
    "\n",
    "The agent trained for $900k$ steps and $38.932$ battles, resulting in ~$23,12$ steps per battle.\n",
    "\n",
    "### **Double Deep Q-Learning - Keras (2018)** 900k steps - Deterministic - Rewards (per step) - Training \n",
    "\n",
    "[**Double Deep Q-Learning - Keras (2018)** 900k steps - Deterministic - Rewards (per step) - Training](https://imgur.com/IWHPKKl)"
   ]
  },
  {
   "cell_type": "code",
   "execution_count": null,
   "id": "67a4be36",
   "metadata": {},
   "outputs": [],
   "source": [
    "IFrame(\"images/report/reward_computed_double_dqn_det90.png\", width=800, height=600)"
   ]
  },
  {
   "attachments": {},
   "cell_type": "markdown",
   "id": "29db57be",
   "metadata": {},
   "source": [
    "### **Double Deep Q-Learning - Keras (2018)** 900k steps - Deterministic - Win percentages (per battle) - Training\n",
    "[**Double Deep Q-Learning - Keras (2018)** 900k steps - Deterministic - Win percentages (per step) - Training](https://imgur.com/Nd1m6aw)"
   ]
  },
  {
   "cell_type": "code",
   "execution_count": null,
   "id": "4fe9ceaf",
   "metadata": {},
   "outputs": [],
   "source": [
    "IFrame(\"images/report/win_acc_double_dqn_det90.png\", width=1000, height=600)"
   ]
  },
  {
   "attachments": {},
   "cell_type": "markdown",
   "id": "6d70337d",
   "metadata": {},
   "source": [
    "### **Double Deep Q-Learning - Keras (2018)** 900k steps - Deterministic - Win percentages - Validation\n",
    "\n",
    "### Versus MaxPlayer\n",
    "* Player won $2597/3333$ battles [this is $77,92\\%$ and took $46.701$ seconds]\n",
    "\n",
    "### Versus RandomPlayer\n",
    "* Player won $3299/3333$ battles [this is $98,98\\%$ and took $61.444$ seconds]\n",
    "\n",
    "### **Deep Q-Learning - Keras (2018)** 900k steps - Deterministic - Memory and CPU usage  (absolute time) - Training\n",
    "\n",
    "[**Deep Q-Learning - Keras (2018)** 900k steps - Deterministic - Memory and CPU usage (absolute time) - Training](https://imgur.com/EzSWLC9)"
   ]
  },
  {
   "cell_type": "code",
   "execution_count": null,
   "id": "0767df91",
   "metadata": {},
   "outputs": [],
   "source": [
    "IFrame(\"images/report/cpu and memory double dqn keras det90.png\", width=1000, height=600)"
   ]
  },
  {
   "attachments": {},
   "cell_type": "markdown",
   "id": "936c244a",
   "metadata": {},
   "source": [
    "# ** Proximal Policy Optimization (PPO2) - Stable Baselines (2021)**\n",
    "\n",
    "The next method we have implemented was a **policy-based** method: [Proximal Policy Optimization (PPO2), from Stable Baselines (2021)](github.com/Stable-Baselines-Team/stable-baselines/blob/master/stable_baselines/ppo2/ppo2.py).\n",
    "\n",
    "* The Proximal Policy Optimization algorithm combines ideas from A2C (having multiple workers) and TRPO (it uses a trust region to improve the actor).\n",
    "* The main idea is that after an update, the new policy should be not too far from the old policy. For that, PPO uses clipping to avoid too large update;\n",
    "* Proximal Policy Optimization (PPO) is an Actor-Critic method. As the name suggests, the Actor-Critic system has two models: the Actor and the Critic. The Actor corresponds to the policy and is used to choose the action for the agent and update the policy network. The Critic corresponds to the value function. The Critic updates the parameters of the network for the value function used during the Actor update. The actor network receives observation (state) as the input and outputs a list of probabilities, with one probability per action. These probabilities form a distribution, and the action can then be chosen by sampling from this distribution. To represent the state value function, the critic network also receives the state as the input and outputs a single number representing the estimated state value of that state;\n",
    "* Actorcritic RL methods combine policy-based and value-based RL methods by predicting both policy and value for a given state, and then using the value prediction (the “critic”) as an estimate of expected return when  pdating the policy prediction (the “actor”);\n",
    "* We used an [MlpPolicy,  Stable Baselines (2021)](https://github.com/Stable-Baselines-Team/stable-baselines/blob/master/stable_baselines/deepq/policies.py), a policy object that implements DQN policy, using a MLP (2 layers of 64).\n",
    "\n",
    "We have applied the follow configurations and hyperparameters to the training of this method:\n",
    "* Optimizer: Adam (Learning Rate: $2.5e-4$)\n",
    "* gamma = $0.75$\n",
    "* clip_range=$0.2$\n",
    "\n",
    "Since PPO also trains by step and one battle has usually 30 steps, we defined $10.000$ steps per epoch (~$333$ battles per epoch) and defined the total number of battles with the number of epochs. We trained our agent against a MaxDamagePlayer, that always selects the move with the greatest base power. We trained for $10.000$ battles ($30$ epochs) and $30.000$ battles ($90$ epochs. At the end of the $30.000$ battles training, we saved the PPO model for future use;\n",
    "\n",
    "* We defined our PPO as follows:"
   ]
  },
  {
   "cell_type": "code",
   "execution_count": null,
   "id": "d8825365",
   "metadata": {},
   "outputs": [],
   "source": [
    "model = PPO2(\"MlpPolicy\", env_player, gamma=0.75, verbose=0)"
   ]
  },
  {
   "attachments": {},
   "cell_type": "markdown",
   "id": "6af677fc",
   "metadata": {},
   "source": [
    "* We defined the following algorithms to train and validate our PPO."
   ]
  },
  {
   "cell_type": "code",
   "execution_count": null,
   "id": "1b42ee9a",
   "metadata": {},
   "outputs": [],
   "source": [
    "NB_TRAINING_STEPS = args.epochs*10000\n",
    "NB_EVALUATION_EPISODES = int(10000/3)\n",
    "def ppo_training(player):\n",
    "        print (\"Training...\")\n",
    "        model.learn(total_timesteps=NB_TRAINING_STEPS)\n",
    "        print(\"Training complete.\")\n",
    "        \n",
    "def ppo_evaluating(player):\n",
    "        player.reset_battles()\n",
    "        for _ in range(NB_EVALUATION_EPISODES):\n",
    "            done = False\n",
    "            obs = player.reset()\n",
    "            while not done:\n",
    "                action = model.predict(obs)[0]\n",
    "                obs, _, done, _ = player.step(action)\n",
    "                # print (\"done:\" + str(done))\n",
    "        player.complete_current_battle()\n",
    "\n",
    "        print(\n",
    "            \"PPO Evaluation: %d victories out of %d episodes\"\n",
    "            % (player.n_won_battles, NB_EVALUATION_EPISODES)\n",
    "        )\n"
   ]
  },
  {
   "attachments": {},
   "cell_type": "markdown",
   "id": "844da17f",
   "metadata": {},
   "source": [
    "Finally, we call the following functions to train and test our agent:"
   ]
  },
  {
   "cell_type": "code",
   "execution_count": null,
   "id": "bb52ddbc",
   "metadata": {},
   "outputs": [],
   "source": [
    "# Training\n",
    "env_player.play_against(\n",
    "    env_algorithm=ppo_training,\n",
    "    opponent=opponent\n",
    ")\n",
    "model.save(\"model_%d\" % NB_TRAINING_STEPS)\n",
    "\n",
    "# Evaluation\n",
    "env_player.mode = \"val_max\"\n",
    "print(\"Results against max player:\")\n",
    "env_player.num_battles=0\n",
    "env_player.play_against(\n",
    "    env_algorithm=ppo_evaluating,\n",
    "    opponent=opponent)\n",
    "env_player.mode = \"val_rand\"\n",
    "\n",
    "print(\"\\nResults against random player:\")\n",
    "env_player.num_battles=0\n",
    "env_player.play_against(\n",
    "    env_algorithm=ppo_evaluating,\n",
    "    opponent=second_opponent)"
   ]
  },
  {
   "attachments": {},
   "cell_type": "markdown",
   "id": "695fedc0",
   "metadata": {},
   "source": [
    "* We validate our solution in both cases against a MaxDamagePlayer and against a RandomPlayer, that selects random actions at each turn. We validated for $3.333$ battles against each Player.  \n",
    "\n",
    "## **Proximal Policy Optimization (PPO2) - Stable Baselines (2021)** 300k steps - Stochastic - Results \n",
    "\n",
    "The graphs of \"Rewards in Training\" and \"Wins in Training\" can be seen at https://github.com/leolellisr/poke_RL/tree/master/images/report/ppo_results. \n",
    "\n",
    "\n",
    "The agent trained for $300k$ steps and $13.800$ battles, resulting in ~$21,74$ steps per battle.\n",
    "\n",
    "\n",
    "### **Proximal Policy Optimization (PPO2) - Stable Baselines (2021)** 300k steps - Stochastic - Rewards (per step) - Training \n",
    "\n",
    "[**Proximal Policy Optimization (PPO2) - Stable Baselines (2021)** 300k steps - Stochastic - Rewards (per step) - Training](https://imgur.com/TD0yPcL)\n"
   ]
  },
  {
   "cell_type": "code",
   "execution_count": null,
   "id": "9ed22582",
   "metadata": {},
   "outputs": [],
   "source": [
    "IFrame(\"images/report/ppo_results/rewards_ppo_stochastic_10k_battles.pdf\", width=800, height=600)\n"
   ]
  },
  {
   "attachments": {},
   "cell_type": "markdown",
   "id": "2ce2c72d",
   "metadata": {},
   "source": [
    "### **Proximal Policy Optimization (PPO2) - Stable Baselines (2021)** 300k steps - Stochastic - Win percentages (per step) - Training\n",
    "[ **Proximal Policy Optimization (PPO2) - Stable Baselines (2021)** 300k steps - Stochastic - Win percentages (per step) - Training](https://imgur.com/TnbGzzS)\n"
   ]
  },
  {
   "cell_type": "code",
   "execution_count": null,
   "id": "34c17f1c",
   "metadata": {},
   "outputs": [],
   "source": [
    "IFrame(\"images/report/ppo_results/win_ppo_stochastic_10k_battles.pdf\", width=1000, height=600)\n"
   ]
  },
  {
   "attachments": {},
   "cell_type": "markdown",
   "id": "1f6ffe99",
   "metadata": {},
   "source": [
    "### **Proximal Policy Optimization (PPO2) - Stable Baselines (2021)** 300k steps - Stochastic - Win percentages - Validation\n",
    "\n",
    "### Versus MaxPlayer\n",
    "* Player won $2964/3333$ battles [this is $88,63\\%$ and took $2700$ seconds]\n",
    "\n",
    "### Versus RandomPlayer\n",
    "* Player won $3331/3333$ battles [this is $99,67\\%$ and took $3200$ seconds]\n",
    "\n",
    "\n",
    "\n",
    "## **Proximal Policy Optimization (PPO2) - Stable Baselines (2021)** 300k steps - Deterministic - Results \n",
    "\n",
    "The instant values of the graphs of \"Rewards in Training\" and \"Wins in Training\" can be seen at https://github.com/leolellisr/poke_RL/tree/master/images/report/ppo_results.\n",
    "\n",
    "The agent trained for $300k$ steps and $14.000$ battles, resulting in ~$21,43$ steps per battle.\n",
    "\n",
    "### **Proximal Policy Optimization (PPO2) - Stable Baselines (2021)** 300k steps - Deterministic - Rewards (per step) - Training \n",
    "\n",
    "[**Proximal Policy Optimization (PPO2) - Stable Baselines (2021)** 300k steps - Deterministic - Rewards (per step) - Training](https://imgur.com/38rgkAO)\n"
   ]
  },
  {
   "cell_type": "code",
   "execution_count": null,
   "id": "2b489061",
   "metadata": {},
   "outputs": [],
   "source": [
    "IFrame(\"images/report/ppo_results/rewards_ppo_deterministic_10k_battles.pdf\", width=800, height=600)\n"
   ]
  },
  {
   "attachments": {},
   "cell_type": "markdown",
   "id": "9f1a9e9b",
   "metadata": {},
   "source": [
    "### **Proximal Policy Optimization (PPO2) - Stable Baselines (2021)** 300k steps - Deterministic - Win percentages (per step) - Training\n",
    "[**Proximal Policy Optimization (PPO2) - Stable Baselines (2021)** 300k steps - Deterministic - Win percentages (per step) - Training](https://imgur.com/at7H6gL)\n"
   ]
  },
  {
   "cell_type": "code",
   "execution_count": null,
   "id": "2ed456cd",
   "metadata": {},
   "outputs": [],
   "source": [
    "IFrame(\"images/report/ppo_results/win_ppo_deterministic_10k_battles.pdf\", width=800, height=600)\n"
   ]
  },
  {
   "attachments": {},
   "cell_type": "markdown",
   "id": "0447c6fd",
   "metadata": {},
   "source": [
    "###  **Proximal Policy Optimization (PPO2) - Stable Baselines (2021)** 300k steps - Deterministic - Win percentages - Validation\n",
    "\n",
    "### Versus MaxPlayer\n",
    "* Player won $2495/3333$ battles [this is $74,86\\%$ and took $2400$ seconds]\n",
    "\n",
    "### Versus RandomPlayer\n",
    "* Player won $3324/3333$ battles [this is $99,73\\%$ and took $3600$ seconds]\n"
   ]
  },
  {
   "cell_type": "code",
   "execution_count": null,
   "id": "005307a7",
   "metadata": {},
   "outputs": [],
   "source": []
  },
  {
   "attachments": {},
   "cell_type": "markdown",
   "id": "9ff08de7",
   "metadata": {},
   "source": [
    "## **Proximal Policy Optimization (PPO2) - Stable Baselines (2021)** 900k steps - Stochastic - Results \n",
    "\n",
    "The graphs of \"Rewards in Training\" and \"Wins in Training\" can be seen at https://github.com/leolellisr/poke_RL/tree/master/images/report/ppo_results. \n",
    "\n",
    "\n",
    "The agent trained for $900k$ steps and $40.000$ battles, resulting in ~$22,5$ steps per battle.\n",
    "\n",
    "\n",
    "### **Proximal Policy Optimization (PPO2) - Stable Baselines (2021)** 900k steps - Stochastic - Rewards (per step) - Training \n",
    "\n",
    "[**Proximal Policy Optimization (PPO2) - Stable Baselines (2021)** 900k steps - Stochastic - Rewards (per step) - Training](https://imgur.com/VBSGmXM)\n"
   ]
  },
  {
   "cell_type": "code",
   "execution_count": null,
   "id": "b986450f",
   "metadata": {},
   "outputs": [],
   "source": [
    "IFrame(\"images/report/ppo_results/rewards_ppo_stochastic_30k_battles.pdf\", width=800, height=600)\n"
   ]
  },
  {
   "attachments": {},
   "cell_type": "markdown",
   "id": "c72ab388",
   "metadata": {},
   "source": [
    "### **Proximal Policy Optimization (PPO2) - Stable Baselines (2021)** 900k steps - Stochastic - Win percentages (per step) - Training\n",
    "[ **Proximal Policy Optimization (PPO2) - Stable Baselines (2021)** 900k steps - Stochastic - Win percentages (per step) - Training](https://imgur.com/JTx57ln)"
   ]
  },
  {
   "cell_type": "code",
   "execution_count": null,
   "id": "10ad66ff",
   "metadata": {},
   "outputs": [],
   "source": [
    "IFrame(\"images/report/ppo_results/win_ppo_stochastic_30k_battles.pdf\", width=1000, height=600)\n"
   ]
  },
  {
   "attachments": {},
   "cell_type": "markdown",
   "id": "ac1991fd",
   "metadata": {},
   "source": [
    "### **Proximal Policy Optimization (PPO2) - Stable Baselines (2021)** 900k steps - Stochastic - Win percentages - Validation\n",
    "\n",
    "### Versus MaxPlayer\n",
    "* Player won $2940/3333$ battles [this is $88,21\\%$ and took $7200$ seconds]\n",
    "\n",
    "### Versus RandomPlayer\n",
    "* Player won $3322/3333$ battles [this is $99,67\\%$ and took $7200$ seconds]\n",
    "\n",
    "\n",
    "\n",
    "## **Proximal Policy Optimization (PPO2) - Stable Baselines (2021)** 900k steps - Deterministic - Results \n",
    "\n",
    "The instant values of the graphs of \"Rewards in Training\" and \"Wins in Training\" can be seen at https://github.com/leolellisr/poke_RL/tree/master/images/report/ppo_results.\n",
    "\n",
    "The agent trained for $900k$ steps and $45.000$ battles, resulting in ~$20$ steps per battle.\n",
    "\n",
    "### **Proximal Policy Optimization (PPO2) - Stable Baselines (2021)** 900k steps - Deterministic - Rewards (per step) - Training \n",
    "\n",
    "[**Proximal Policy Optimization (PPO2) - Stable Baselines (2021)** 900k steps - Deterministic - Rewards (per step) - Training](https://imgur.com/czHoaza)\n"
   ]
  },
  {
   "cell_type": "code",
   "execution_count": null,
   "id": "17d08c05",
   "metadata": {},
   "outputs": [],
   "source": [
    "IFrame(\"images/report/ppo_results/rewards_ppo_deterministic_30k_battles.pdf\", width=800, height=600)\n"
   ]
  },
  {
   "attachments": {},
   "cell_type": "markdown",
   "id": "eeb15dbd",
   "metadata": {},
   "source": [
    "### **Proximal Policy Optimization (PPO2) - Stable Baselines (2021)** 900k steps - Deterministic - Win percentages (per step) - Training\n",
    "[**Proximal Policy Optimization (PPO2) - Stable Baselines (2021)** 900k steps - Deterministic - Win percentages (per step) - Training](https://imgur.com/HC6dryN)\n"
   ]
  },
  {
   "cell_type": "code",
   "execution_count": null,
   "id": "062a969b",
   "metadata": {},
   "outputs": [],
   "source": [
    "IFrame(\"images/report/ppo_results/win_ppo_deterministic_30k_battles.pdf\", width=1000, height=600)\n"
   ]
  },
  {
   "attachments": {},
   "cell_type": "markdown",
   "id": "bd19d0d2",
   "metadata": {},
   "source": [
    "###  **Proximal Policy Optimization (PPO2) - Stable Baselines (2021)** 900k steps - Deterministic - Win percentages - Validation\n",
    "\n",
    "### Versus MaxPlayer\n",
    "* Player won $2758/3333$ battles [this is $82,75\\%$ and took $7800$ seconds]\n",
    "\n",
    "### Versus RandomPlayer\n",
    "* Player won $3316/3333$ battles [this is $99,49\\%$ and took $7200$ seconds]"
   ]
  },
  {
   "attachments": {},
   "cell_type": "markdown",
   "id": "49b26095",
   "metadata": {},
   "source": [
    "# ** REINFORCE - Keras (2018) **\n",
    "\n",
    "The last method we implemented was the **policy-based** method REINFORCE.\n",
    "\n",
    "* REINFORCE updates parameters by stochastic gradient ascent.\n",
    "* The goal is to compute $\\nabla_{\\theta}J(\\theta)=\\nabla_{\\theta}\\mathbb{E}_{d}[v_{\\pi_{\\theta}}(S)]$\n",
    "* Applying the Policy Gradient Theorem on Monte Carlo Policy Gradient, computing above equal is equivalent to iteratively update $\\theta$ as following: $\\theta\\leftarrow\\theta+\\alpha\\nabla_{\\theta}log\\pi_{\\theta}(s_t, a_t)v_t$, where $v_t=R_{t+1}+{\\gamma}R_{t+2}+{\\gamma^2}R_{t+3} +\\ ...$\n",
    "\n",
    "Hence, we implemented the following algorithm:\n",
    "\n",
    "Initialize $\\theta$ arbitrarily\n",
    "$for$ each episode $(s_1, a_1, r_2, s_2, a_2, r_3,\\ ..., s_{T-1}, a_{T-1}, r_T)$ ~ $\\pi_\\theta$ $do$\n",
    "$\\ \\ \\ \\ for$ $t=1$ $to$ $T-1$ $do$\n",
    "$\\ \\ \\ \\ \\ \\ \\ \\ v_t \\leftarrow$ discounted return from step t\n",
    "$\\ \\ \\ \\ \\ \\ \\ \\ \\theta\\leftarrow\\theta+\\alpha\\nabla_{\\theta}log\\pi_{\\theta}(s_t, a_t)v_t$\n",
    "$return\\ \\theta$"
   ]
  },
  {
   "cell_type": "code",
   "execution_count": null,
   "id": "90d78382",
   "metadata": {},
   "outputs": [],
   "source": [
    "class REINFORCEAgent(object):\n",
    "    def __init__(self, nb_states, nb_actions, nb_hidden=128, alpha=0.000025, gamma=0.99):\n",
    "        self.nb_actions = nb_actions\n",
    "        self.action_space = [i for i in range(nb_actions)]\n",
    "        self.gamma = gamma\n",
    "        self.list_of_s = []\n",
    "        self.list_of_a = []\n",
    "        self.list_of_r = []\n",
    "        # model construction\n",
    "        self.model = Sequential()\n",
    "        # 1st hidden layer\n",
    "        self.model.add(Dense(nb_hidden, activation=\"relu\", input_shape=(nb_states,)))\n",
    "        # fix\n",
    "        self.model.add(Flatten())\n",
    "        # 2nd hidden layer\n",
    "        self.model.add(Dense(nb_hidden, activation=\"relu\"))\n",
    "        # output layer\n",
    "        self.model.add(Dense(nb_actions, activation=\"softmax\"))\n",
    "        # set the learning rate\n",
    "        optimizer = tf.keras.optimizers.Adam(alpha)\n",
    "        # loss function\n",
    "        self.model.compile(optimizer=optimizer, loss=self.log_likelihood)\n",
    "\n",
    "    @staticmethod\n",
    "    def log_likelihood(y_true, y_pred):\n",
    "        pi = K.clip(y_pred, 1e-8, 1 - 1e-8)\n",
    "        return K.sum(-K.log(pi) * y_true)\n",
    "\n",
    "    def get_action(self, s):\n",
    "        p = self.model.predict(s[np.newaxis, :])[0]\n",
    "        return np.random.choice(self.action_space, p=p)\n",
    "\n",
    "    def add_sar(self, s, a, r):\n",
    "        self.list_of_s.append(s)\n",
    "        self.list_of_a.append(a)\n",
    "        self.list_of_r.append(r)\n",
    "\n",
    "    def fit(self):\n",
    "        s_array = np.array(self.list_of_s)\n",
    "        list_of_v = []\n",
    "        for r in reversed(self.list_of_r):\n",
    "            if not list_of_v:\n",
    "                list_of_v.append(r)\n",
    "            else:\n",
    "                list_of_v = [r + self.gamma * list_of_v[0]] + list_of_v\n",
    "        # adjust and normalize the list of returns\n",
    "        list_of_v = list_of_v[1:] + [0]\n",
    "        mean = np.mean(list_of_v)\n",
    "        std = np.std(list_of_v)\n",
    "        std = 1 if std == 0 else std\n",
    "        list_of_norm_v = (list_of_v - mean) / std\n",
    "        v_array = np.zeros([len(list_of_norm_v), self.nb_actions])\n",
    "        v_array[np.arange(len(list_of_norm_v)), self.list_of_a] = np.array(list_of_norm_v)\n",
    "        self.model.fit(x=s_array, y=v_array)\n",
    "        # reset\n",
    "        self.list_of_s = []\n",
    "        self.list_of_a = []\n",
    "        self.list_of_r = []"
   ]
  },
  {
   "attachments": {},
   "cell_type": "markdown",
   "id": "38decad6",
   "metadata": {},
   "source": [
    "In method `fit()`, we first normalize the returns $v_t$ then we pass the array of states and the array of normalized returns to `self.model.fit(x=s_array, y=v_array)`. When this latter method is called, operation $log\\pi_{\\theta}(s_t, a_t)v_t$ is executed in `log_likelihood()`.\n",
    "\n",
    "Our internal model has 2 hidden layers of size 128 each, using \"relu\" as the activation function; and the output layer has the same size of our action space (9 actions), and activation function \"softmax\"."
   ]
  },
  {
   "attachments": {},
   "cell_type": "markdown",
   "id": "4f007eca",
   "metadata": {},
   "source": [
    "We applied the follow configurations and hyperparameters for training:\n",
    "* Optimizer: Adam (Learning Rate: $2.5e-4$)\n",
    "* gamma = $0.99$\n",
    "* clip_range = $1e-8$\n",
    "\n",
    "During training, we run Monte Carlo player and store the triple (state, action, reward) at every step: "
   ]
  },
  {
   "cell_type": "code",
   "execution_count": null,
   "id": "f06b759e",
   "metadata": {},
   "outputs": [],
   "source": [
    "class MCPlayer(Gen8EnvSinglePlayer):\n",
    "    ...\n",
    "    def choose_move(self, battle):\n",
    "        if self.state is not None:\n",
    "            # observe R, S'\n",
    "            self.reward = self.compute_reward(battle)\n",
    "            next_state = self.embed_battle(battle)\n",
    "            # S <- S'\n",
    "            self.state = next_state\n",
    "        else:\n",
    "            # S first initialization\n",
    "            self.state = self.embed_battle(battle)\n",
    "\n",
    "        # choose A from S using policy pi\n",
    "        self.action = self.agent.get_action(self.state)\n",
    "        # store the (state, action, reward) tuple into the agent\n",
    "        self.agent.add_sar(self.state, self.action, self.reward)\n",
    "        ..."
   ]
  },
  {
   "attachments": {},
   "cell_type": "markdown",
   "id": "e524f777",
   "metadata": {},
   "source": [
    "Then we update our agent by a call to `fit()` at the end of each battle (episode)."
   ]
  },
  {
   "cell_type": "code",
   "execution_count": null,
   "id": "a85bc5ad",
   "metadata": {},
   "outputs": [],
   "source": [
    "    def _battle_finished_callback(self, battle):\n",
    "        ...\n",
    "        self.agent.fit()"
   ]
  },
  {
   "attachments": {},
   "cell_type": "markdown",
   "id": "d576b3f8",
   "metadata": {},
   "source": [
    "After training `MCPlayer` against a MaxDamagePlayer we validate our solution both against MaxDamagePlayer and RandomPlayer, which selects random actions at each turn. Our validation ran for $\\frac{1}{3}$ of the number of episodes used in training.\n",
    "\n",
    "## **REINFORCE - Keras (2018)** 10k episodes - Stochastic - Results \n",
    "\n",
    "The instant values of the graphs of \"Rewards in Training\", \"Wins in Training\" and \"Memory/CPU usage in Traning\" can be seen at https://app.neptune.ai/henriqueoliveira/rl-pokeenv/e/RLPOK-4/charts. \n",
    "\n",
    "\n",
    "### **REINFORCE - Keras (2018)** 10k episodes - Stochastic - Rewards (per battle) - Training\n",
    "\n",
    "[**REINFORCE - Keras (2018)** 10k episodes - Stochastic - Rewards (per battle) - Training](https://imgur.com/a/AQGAtL1)"
   ]
  },
  {
   "cell_type": "code",
   "execution_count": null,
   "id": "36ec2c88",
   "metadata": {},
   "outputs": [],
   "source": [
    "IFrame(\"images/report/reward_reinforce_10000_sto.png\", width=800, height=600)"
   ]
  },
  {
   "attachments": {},
   "cell_type": "markdown",
   "id": "78a79a70",
   "metadata": {},
   "source": [
    "### **REINFORCE - Keras (2018)** 10k episodes - Stochastic - Win percentages (per battle) - Training\n",
    "\n",
    "[**REINFORCE - Keras (2018)** 10k episodes - Stochastic - Win percentages (per battle) - Training](https://imgur.com/a/4w6xxwk)"
   ]
  },
  {
   "cell_type": "code",
   "execution_count": null,
   "id": "0656d3e7",
   "metadata": {},
   "outputs": [],
   "source": [
    "IFrame(\"images/report/win_acc_reinforce_10000_sto.png\", width=1000, height=600)"
   ]
  },
  {
   "attachments": {},
   "cell_type": "markdown",
   "id": "9fb9cebd",
   "metadata": {},
   "source": [
    "### **REINFORCE - Keras (2018)** 10k episodes - Stochastic - Win percentages - Validation\n",
    "\n",
    "### Versus MaxPlayer\n",
    "* Player won $2917/3286$ battles [this is $87.52\\%$ and took $956$ seconds]\n",
    "\n",
    "### Versus RandomPlayer\n",
    "* Player won $3314/3333$ battles [this is $99.43\\%$ and took $924$ seconds]\n"
   ]
  },
  {
   "attachments": {},
   "cell_type": "markdown",
   "id": "df95c0e5",
   "metadata": {},
   "source": [
    "### **REINFORCE - Keras (2018)** 10k episodes - Stochastic - Memory and CPU usage (absolute time) - Training\n",
    "\n",
    "[**REINFORCE - Keras (2018)** 10k episodes - Stochastic - Memory and CPU usage (absolute time) - Training](https://imgur.com/a/9bgjc8F)"
   ]
  },
  {
   "cell_type": "code",
   "execution_count": null,
   "id": "8488b8e3",
   "metadata": {},
   "outputs": [],
   "source": [
    "IFrame(\"images/report/cpu_and_memory_reinforce_10000_sto.png\", width=1000, height=600)"
   ]
  },
  {
   "attachments": {},
   "cell_type": "markdown",
   "id": "d6388cc6",
   "metadata": {},
   "source": [
    "## **REINFORCE - Keras (2018)** 10k episodes - Deterministic - Results \n",
    "\n",
    "The instant values of the graphs of \"Rewards in Training\", \"Wins in Training\" and \"Memory/CPU usage in Traning\" can be seen at https://app.neptune.ai/henriqueoliveira/rl-pokeenv/e/RLPOK-2/charts. \n",
    "\n",
    "\n",
    "### **REINFORCE - Keras (2018)** 10k episodes - Deterministic - Rewards (per battle) - Training\n",
    "\n",
    "[**REINFORCE - Keras (2018)** 10k episodes - Deterministic - Rewards (per battle) - Training](https://imgur.com/a/vqeIf5p)"
   ]
  },
  {
   "cell_type": "code",
   "execution_count": null,
   "id": "4e2c1847",
   "metadata": {},
   "outputs": [],
   "source": [
    "IFrame(\"images/report/reward_reinforce_10000_det.png\", width=800, height=600)"
   ]
  },
  {
   "attachments": {},
   "cell_type": "markdown",
   "id": "e4de331d",
   "metadata": {},
   "source": [
    "### **REINFORCE - Keras (2018)** 10k episodes - Deterministic - Win percentages (per battle) - Training\n",
    "\n",
    "[**REINFORCE - Keras (2018)** 10k episodes - Deterministic - Win percentages (per battle) - Training](https://imgur.com/a/Xd1jQxe)"
   ]
  },
  {
   "cell_type": "code",
   "execution_count": null,
   "id": "17b059ef",
   "metadata": {},
   "outputs": [],
   "source": [
    "IFrame(\"images/report/win_acc_reinforce_10000_det.png\", width=1000, height=600)"
   ]
  },
  {
   "attachments": {},
   "cell_type": "markdown",
   "id": "391a00b5",
   "metadata": {},
   "source": [
    "### **REINFORCE - Keras (2018)** 10k episodes - Deterministic - Win percentages - Validation\n",
    "\n",
    "### Versus MaxPlayer\n",
    "* Player won $2005/3333$ battles [this is $60,16\\%$ and took $862$ seconds]\n",
    "\n",
    "### Versus RandomPlayer\n",
    "* Player won $3304/3333$ battles [this is $99,13\\%$ and took $777$ seconds]\n"
   ]
  },
  {
   "attachments": {},
   "cell_type": "markdown",
   "id": "850f821f",
   "metadata": {},
   "source": [
    "### **REINFORCE - Keras (2018)** 10k episodes - Deterministic - Memory and CPU usage (absolute time) - Training\n",
    "\n",
    "[**REINFORCE - Keras (2018)** 10k episodes - Deterministic - Memory and CPU usage (absolute time) - Training](https://imgur.com/a/eYeH563)"
   ]
  },
  {
   "cell_type": "code",
   "execution_count": null,
   "id": "7ed0e624",
   "metadata": {},
   "outputs": [],
   "source": [
    "IFrame(\"images/report/cpu_and_memory_reinforce_10000_det.png\", width=1000, height=600)"
   ]
  },
  {
   "attachments": {},
   "cell_type": "markdown",
   "id": "397c8174",
   "metadata": {},
   "source": [
    "## **REINFORCE - Keras (2018)** 30k episodes - Stochastic - Results \n",
    "\n",
    "The instant values of the graphs of \"Rewards in Training\", \"Wins in Training\" and \"Memory/CPU usage in Traning\" can be seen at https://app.neptune.ai/leolellisr/rl-pokeenv/e/RLPOK-199/charts. \n",
    "\n",
    "\n",
    "### **REINFORCE - Keras (2018)** 30k episodes - Stochastic - Rewards (per battle) - Training\n",
    "\n",
    "[**REINFORCE - Keras (2018)** 30k episodes - Stochastic - Rewards (per battle) - Training](https://imgur.com/a/YPm2v9f)"
   ]
  },
  {
   "cell_type": "code",
   "execution_count": null,
   "id": "c6033fe2",
   "metadata": {},
   "outputs": [],
   "source": [
    "IFrame(\"images/report/reward_reinforce_30000_sto.png\", width=800, height=600)"
   ]
  },
  {
   "attachments": {},
   "cell_type": "markdown",
   "id": "150968fd",
   "metadata": {},
   "source": [
    "### **REINFORCE - Keras (2018)** 30k episodes - Stochastic - Win percentages (per battle) - Training\n",
    "\n",
    "[**REINFORCE - Keras (2018)** 30k episodes - Stochastic - Win percentages (per battle) - Training](https://imgur.com/a/vBgc7Dc)"
   ]
  },
  {
   "cell_type": "code",
   "execution_count": null,
   "id": "00a45f52",
   "metadata": {},
   "outputs": [],
   "source": [
    "IFrame(\"images/report/win_acc_reinforce_30000_sto.png\", width=1000, height=600)"
   ]
  },
  {
   "attachments": {},
   "cell_type": "markdown",
   "id": "7d620f5b",
   "metadata": {},
   "source": [
    "### **REINFORCE - Keras (2018)** 30k episodes - Stochastic - Win percentages - Validation\n",
    "\n",
    "### Versus MaxPlayer\n",
    "* Player won $8507/10000$ battles [this is $85,07\\%$ and took $2424$ seconds]\n",
    "\n",
    "### Versus RandomPlayer\n",
    "* Player won $9914/10000$ battles [this is $99,14\\%$ and took $2861$ seconds]\n"
   ]
  },
  {
   "attachments": {},
   "cell_type": "markdown",
   "id": "42e49db4",
   "metadata": {},
   "source": [
    "### **REINFORCE - Keras (2018)** 30k episodes - Stochastic - Memory and CPU usage (absolute time) - Training\n",
    "\n",
    "[**REINFORCE - Keras (2018)** 30k episodes - Stochastic - Memory and CPU usage (absolute time) - Training](https://imgur.com/a/PNK0urg)"
   ]
  },
  {
   "cell_type": "code",
   "execution_count": null,
   "id": "2043801f",
   "metadata": {},
   "outputs": [],
   "source": [
    "IFrame(\"images/report/cpu_and_memory_reinforce_30000_sto.png\", width=1000, height=600)"
   ]
  },
  {
   "attachments": {},
   "cell_type": "markdown",
   "id": "60ca87fa",
   "metadata": {},
   "source": [
    "## **REINFORCE - Keras (2018)** 30k episodes - Deterministic - Results \n",
    "\n",
    "The instant values of the graphs of \"Rewards in Training\", \"Wins in Training\" and \"Memory/CPU usage in Traning\" can be seen at https://app.neptune.ai/henriqueoliveira/rl-pokeenv/e/RLPOK-1/charts. \n",
    "\n",
    "\n",
    "### **REINFORCE - Keras (2018)** 30k episodes - Deterministic - Rewards (per battle) - Training\n",
    "\n",
    "[**REINFORCE - Keras (2018)** 30k episodes - Deterministic - Rewards (per battle) - Training](https://imgur.com/a/yGTLQ0Z)"
   ]
  },
  {
   "cell_type": "code",
   "execution_count": null,
   "id": "ad37fef7",
   "metadata": {},
   "outputs": [],
   "source": [
    "IFrame(\"images/report/reward_reinforce_30000_det.png\", width=800, height=600)"
   ]
  },
  {
   "attachments": {},
   "cell_type": "markdown",
   "id": "fc811559",
   "metadata": {},
   "source": [
    "### **REINFORCE - Keras (2018)** 30k episodes - Deterministic - Win percentages (per battle) - Training\n",
    "\n",
    "[**REINFORCE - Keras (2018)** 30k episodes - Deterministic - Win percentages (per battle) - Training](https://imgur.com/a/DGW32Gl)"
   ]
  },
  {
   "cell_type": "code",
   "execution_count": null,
   "id": "2fbc4ec3",
   "metadata": {
    "scrolled": true
   },
   "outputs": [],
   "source": [
    "IFrame(\"images/report/win_acc_reinforce_30000_det.png\", width=1000, height=600)"
   ]
  },
  {
   "attachments": {},
   "cell_type": "markdown",
   "id": "915cc10b",
   "metadata": {},
   "source": [
    "### **REINFORCE - Keras (2018)** 30k episodes - Deterministic - Win percentages - Validation\n",
    "\n",
    "### Versus MaxPlayer\n",
    "* Player won $7597/10000$ battles [this is $75,97\\%$ and took $2749$ seconds]\n",
    "\n",
    "### Versus RandomPlayer\n",
    "* Player won $9955/10000$ battles [this is $99,55\\%$ and took $3835$ seconds]"
   ]
  },
  {
   "attachments": {},
   "cell_type": "markdown",
   "id": "d6b13780",
   "metadata": {},
   "source": [
    "### **REINFORCE - Keras (2018)** 30k episodes - Deterministic - Memory and CPU usage (absolute time) - Training\n",
    "\n",
    "[**REINFORCE - Keras (2018)** 30k episodes - Deterministic - Memory and CPU usage (absolute time) - Training](https://imgur.com/a/NDdGJFu)"
   ]
  },
  {
   "cell_type": "code",
   "execution_count": null,
   "id": "54ac8f62",
   "metadata": {},
   "outputs": [],
   "source": [
    "IFrame(\"images/report/cpu_and_memory_reinforce_30000_det.png\", width=1000, height=600)"
   ]
  },
  {
   "attachments": {},
   "cell_type": "markdown",
   "id": "c8c1651e",
   "metadata": {},
   "source": [
    "# Pytorch DQN and REINFORCE\n",
    "\n",
    "Our project extends the Keras version to be run also using Pytorch Framework. We intend with these versions to be more receptive and flexible to the PyTorch community who wish also to study deep reinforcement learning with the pokemon environment. In addition, we believe that coding the DQN and REINFORCE learning using another deep learning framework increased and consolidate our knowledge in the area. All discussions about the results yielded are in 'Discussion Section'\n",
    "\n",
    "### DQN - Pytorch\n",
    "The DQN in Pytorch can be found [here](https://github.com/leolellisr/poke_RL/tree/master/py/P2%20-%20Deep%20Reinforcement%20Learning/DQN-pytorch)\n",
    "\n",
    "The DQN agent code was inspired by [Mike github](https://github.com/xkiwilabs/DQN-using-PyTorch-and-ML-Agents)\n",
    "\n",
    "In order to train and test the project in a comparable way, we used the same paramereters and hyperparameters than the ones used in Keras DQN part.\n",
    "\n",
    "The folder has four files representing the DQN agent, the QNetwork by the agent, the replay memory function, and finally the main algorithm that trains our experiments."
   ]
  },
  {
   "cell_type": "code",
   "execution_count": null,
   "id": "679a7be1",
   "metadata": {},
   "outputs": [],
   "source": [
    "class DQNAgent():\n",
    "\n",
    "    def __init__(self, state_size, action_size, dqn_type='DQN', replay_memory_size=1e5, batch_size=32, gamma=0.99,\n",
    "    \tlearning_rate=1e-3, target_tau=2e-3, update_rate=4, seed=0):\n",
    "\n",
    "        self.dqn_type = dqn_type\n",
    "        self.state_size = state_size\n",
    "        self.action_size = action_size\n",
    "        self.buffer_size = int(replay_memory_size)\n",
    "        self.batch_size = batch_size\n",
    "        self.gamma = gamma\n",
    "        self.learn_rate = learning_rate\n",
    "        self.tau = target_tau\n",
    "        self.update_rate = update_rate\n",
    "        self.seed = random.seed(seed)\n",
    "\n",
    "        self.network = QNetwork(state_size, action_size, seed).to(device)\n",
    "        self.target_network = QNetwork(state_size, action_size, seed).to(device)\n",
    "        self.optimizer = optim.Adam(self.network.parameters(), lr=self.learn_rate)\n",
    "\n",
    "        # Replay memory\n",
    "        self.memory = ReplayBuffer(action_size, self.buffer_size, self.batch_size, seed)\n",
    "\n",
    "        # Initialize time step (for updating every UPDATE_EVERY steps)\n",
    "        self.t_step = 0\n",
    "\n",
    "    def step(self, state, action, reward, next_state, done):\n",
    "        # Save experience in replay memory\n",
    "        self.memory.add(state, action, reward, next_state, done)\n",
    "        \n",
    "        self.t_step = (self.t_step + 1) % self.update_rate\n",
    "        if self.t_step == 0:\n",
    "            if len(self.memory) > self.batch_size:\n",
    "                experiences = self.memory.sample()\n",
    "                self.learn(experiences, self.gamma)\n",
    "\n",
    "    def act(self, state, eps=0.0):\n",
    "        state = torch.from_numpy(state).float().unsqueeze(0).to(device)\n",
    "        self.network.eval()\n",
    "        with torch.no_grad():\n",
    "            action_values = self.network(state)\n",
    "        self.network.train()\n",
    "\n",
    "        # Epsilon-greedy action selection\n",
    "        if random.random() > eps:\n",
    "            return np.argmax(action_values.cpu().data.numpy())\n",
    "        else:\n",
    "            return random.choice(np.arange(self.action_size))\n",
    "        \n",
    "    def learn(self, experiences, gamma, DQN=True):\n",
    "        states, actions, rewards, next_states, dones = experiences\n",
    "        Qsa = self.network(states).gather(1, actions)\n",
    "\n",
    "\n",
    "        if (self.dqn_type == 'DDQN'):\n",
    "            Qsa_prime_actions = self.network(next_states).detach().max(1)[1].unsqueeze(1)\n",
    "            Qsa_prime_targets = self.target_network(next_states)[Qsa_prime_actions].unsqueeze(1)\n",
    "\n",
    "        else:\n",
    "            Qsa_prime_target_values = self.target_network(next_states).detach()\n",
    "            Qsa_prime_targets = Qsa_prime_target_values.max(1)[0].unsqueeze(1)        \n",
    "\n",
    "        \n",
    "        # Compute Q targets for current states \n",
    "        Qsa_targets = rewards + (gamma * Qsa_prime_targets * (1 - dones))\n",
    "        \n",
    "        # Compute loss (error)\n",
    "        loss = F.mse_loss(Qsa, Qsa_targets)\n",
    "\n",
    "        # Minimize the loss\n",
    "        self.optimizer.zero_grad()\n",
    "        loss.backward()\n",
    "        self.optimizer.step()\n",
    "\n",
    "        self.soft_update(self.network, self.target_network, self.tau)\n",
    "\n",
    "    def soft_update(self, local_model, target_model, tau):\n",
    "        for target_param, local_param in zip(target_model.parameters(), local_model.parameters()):\n",
    "            target_param.data.copy_(tau*local_param.data + (1.0-tau)*target_param.data)"
   ]
  },
  {
   "attachments": {},
   "cell_type": "markdown",
   "id": "1023562f",
   "metadata": {},
   "source": [
    "### REINFORCE - Pytorch\n",
    "The REINFORCE in Pytorch can be found [here](https://github.com/leolellisr/poke_RL/tree/master/py/P2%20-%20Deep%20Reinforcement%20Learning/REINFORCE-torch)\n",
    "\n",
    "The Reinforce agent code was inspired by [Ching-Yao github](https://github.com/chingyaoc/pytorch-REINFORCE)\n",
    "\n",
    "In order to train and test the project in a comparable way, we used the same paramereters and hyperparameters than the ones used in Keras Reinforce part.\n",
    "\n",
    "The four has three files. A file to create our Policy class that uses a deep learning model to create our Reinforce agent, a normalized action function and the main algorithm. "
   ]
  },
  {
   "cell_type": "code",
   "execution_count": null,
   "id": "edcba119",
   "metadata": {},
   "outputs": [],
   "source": [
    "class Policy(nn.Module):\n",
    "    def __init__(self, hidden_size, num_inputs, action_space):\n",
    "        super(Policy, self).__init__()\n",
    "        self.action_space = action_space\n",
    "        num_outputs = action_space\n",
    "\n",
    "        self.linear1 = nn.Linear(num_inputs, hidden_size)\n",
    "        self.linear2 = nn.Linear(hidden_size, num_outputs)\n",
    "\n",
    "    def forward(self, inputs):\n",
    "        x = inputs\n",
    "        x = F.relu(self.linear1(x))\n",
    "        action_scores = self.linear2(x)\n",
    "        return action_scores\n",
    "\n",
    "\n",
    "class REINFORCE:\n",
    "    def __init__(self, hidden_size, num_inputs, action_space, lr):\n",
    "        self.action_space = action_space\n",
    "        self.model = Policy(hidden_size, num_inputs, action_space).float()\n",
    "        self.model = self.model.cuda()\n",
    "        self.optimizer = optim.Adam(self.model.parameters(), lr=lr)\n",
    "        self.model.train()\n",
    "\n",
    "    def select_action(self, state):\n",
    "        state = torch.from_numpy(numpy.array(state)).float()\n",
    "        probs = self.model(Variable(state).float().cuda())  \n",
    "        #action = probs.multinomial(1).data\n",
    "        action = torch.argmax(probs).data\n",
    "        prob = probs[action].view(1, -1)\n",
    "        log_prob = prob.log()\n",
    "        entropy = - (probs*probs.log()).sum()\n",
    "\n",
    "        return action, log_prob, entropy\n",
    "\n",
    "    def update_parameters(self, rewards, log_probs, entropies, gamma):\n",
    "        R = torch.zeros(1, 1)\n",
    "        loss = 0\n",
    "        for i in reversed(range(len(rewards))):\n",
    "            R = gamma * R + rewards[i]\n",
    "            loss = loss - (log_probs[i]*(Variable(R).cuda())).sum() - (0.0001*entropies[i].cuda()).sum()\n",
    "        loss = loss / len(rewards)\n",
    "        \n",
    "        self.optimizer.zero_grad()\n",
    "        loss.backward()\n",
    "        utils.clip_grad_norm_(self.model.parameters(), 40)\n",
    "        self.optimizer.step()"
   ]
  },
  {
   "attachments": {},
   "cell_type": "markdown",
   "id": "4dcc1f14",
   "metadata": {},
   "source": [
    "### Aditional Information about Pytorch Framework\n",
    "Besides allowing to use of the Pytorch Framework that increases its importance in the AI community, the PyTorch version allows the user to run the code using GPUs as a booster. It is important to point out, however, that the main bottleneck of our project is the Pokemon showdown. \n",
    "\n",
    "We highlight that in the Reinforce experiments carried out using PyTorch, we had results similar to those presented by Keras in the same configurations. However, the Keras framework performed slightly better for DQN.\n",
    "For Pytorch DQN model in stochastice environment with 5k battles, the model won around $30,00\\%$ against MaxDamagePlayer, while with the RandomDamagePlayer the agent won almost $95,00\\%$ of the battle.\n",
    "\n",
    "It is important to point out that a noticeable improvement over time was noticed. Using Using the Keras framework for the DQN took about 4h to train the model while using Pytorch with GPU took about 1h30 to train for 15000 battles.\n",
    "Using the Keras framework for the Reinforcement technique took about 4h to train the model while using Pytorch with GPU took about 2h to train for 30000 battles."
   ]
  },
  {
   "attachments": {},
   "cell_type": "markdown",
   "id": "136a9e4a",
   "metadata": {},
   "source": [
    "\n",
    "# Limitations\n",
    "\n",
    "As our previous project, the only limitations of this project with types of games or teams are in the use of the **deterministic** environment. Given the need to remove **randomness**, our deterministic solutions require the use of modified Pokémon Showdown, without the random parameter in damage calculation, and the Pokémon on both teams with:\n",
    "- Shell Armor or Battle Armor abilities, to prevent critical hits;\n",
    "- Moves with 100% accuracy and no side effects likely to occur.\n",
    "\n",
    "Our **stochastic** solutions can be applied to any case and with any team formation.\n",
    "\n",
    "We also found some libraries limitations in the use of PPO2, from Stable Baselines (2021). The requirements listed [here](https://github.com/leolellisr/poke_RL/blob/master/requirements_poke_env_ppo.yml) must be used. Neptune cannot be used.\n",
    "\n",
    "# Related work\n",
    "\n",
    "Given the stochasticity of the Pokémon game, the environment proves to be a good alternative to validate more robust reinforcement learning systems. However, in recent years, few reinforcement learning works have been willing to use Pokémon battles to validate their models.\n",
    "\n",
    "DQN or Deep-Q Networks were first proposed by DeepMind back in 2015 in an attempt to bring the advantages of deep learning to reinforcement learning (RL). Reinforcement learning focuses on training agents to take any action at a particular stage in an environment to maximise rewards. Reinforcement learning then tries to train the model to improve itself and its choices by observing rewards through interactions with the environment.\n",
    "The memory and computation required for the Q-value algorithm for every possible combination of state and action in a complex environment would be huge. Thus, a deep network Q-Learning function approximator is used instead. This learning algorithm is called Deep Q-Network (DQN). The key idea in this development was thus to use deep neural networks to represent the Q-network and train this network to predict total reward. This propose approach is called off-policy method.\n",
    "\n",
    "Amongst deep reinforcement learning we also find is the policy-Gradient methods which are subclass of Policy-Based methods that estimate an optimal policy’s weights through gradient ascent. \n",
    "REINFORCE algorithm is a vanilla version of the policy gradient method. This algorithm is the fundamental policy gradient algorithm on which nearly all the advanced policy gradient algorithms are based.\n",
    "\n",
    "Regarding deep reinforcement learning methods, the work of [Huang, D. & Lee, S. 2019](https://ieeexplore.ieee.org/abstract/document/8848014) can be mentioned. The authors proposes the use of PPO with an actor-critic neural network with $1.327.618$ parameters. Actor and critic are represented by a two-headed neural network $f_\\theta$ (parameterized by $\\theta$). To reduce the variance of policy gradient estimates, they use Generalized Advantage Estimation. The authors defined as inputs a list of features for each Pokémon in battle (species, item, ability, moveset, last move used, stats, boosts, HP, PP used, status, types etc). They used 128-dimensional entity embedding layers for each of the categorical variables. This enables capture similarities between different moves, species, items, and abilities without having to directly model their effects. The network has two outputs: a probability distribution over actions to take and an estimate of player strength in the current state. The author used 3 different teams for validation and reported an average of $92,9\\%$ wins against a MaxPlayer and an average of $99,5\\%$ wins against a RandomPlayer.\n",
    "\n",
    "\n",
    "# Comparisons\n",
    "\n",
    "One table with performance comparisons in Validation between our methods for P2, our best method from P1 and the method proposed by Huang & Lee are showed below and in [this figure](https://imgur.com/4A4X54z).\n",
    "\n",
    "The method with the best performance in the Stochastic environment against both Players (MaxDamagePlayer and RandomPlayer) was **Proximal Policy Optimization (PPO2) - Stable Baselines (2021)** trained by 300k steps.\n",
    "\n",
    "The method with the best performance in the Deterministic environment against both Players (MaxDamagePlayer and RandomPlayer) was **Proximal Policy Optimization (PPO2) - Stable Baselines (2021)** trained by 900k steps."
   ]
  },
  {
   "cell_type": "code",
   "execution_count": 18,
   "id": "56a5d9d1",
   "metadata": {},
   "outputs": [
    {
     "data": {
      "text/html": [
       "\n",
       "        <iframe\n",
       "            width=\"1000\"\n",
       "            height=\"1000\"\n",
       "            src=\"images/report/comparisons_valP2.png\"\n",
       "            frameborder=\"0\"\n",
       "            allowfullscreen\n",
       "        ></iframe>\n",
       "        "
      ],
      "text/plain": [
       "<IPython.lib.display.IFrame at 0x207472e58e0>"
      ]
     },
     "execution_count": 18,
     "metadata": {},
     "output_type": "execute_result"
    }
   ],
   "source": [
    "IFrame(\"images/report/comparisons_valP2.png\", width=1000, height=1000)"
   ]
  },
  {
   "attachments": {},
   "cell_type": "markdown",
   "id": "6157ee08",
   "metadata": {},
   "source": [
    "# Video\n",
    "\n",
    "https://youtu.be/pgIfTQnjdzA\n"
   ]
  },
  {
   "cell_type": "code",
   "execution_count": 19,
   "id": "9ebf7fe9",
   "metadata": {},
   "outputs": [
    {
     "data": {
      "image/jpeg": "[encoded data removed]",
      "text/html": [
       "\n",
       "        <iframe\n",
       "            width=\"960\"\n",
       "            height=\"540\"\n",
       "            src=\"https://www.youtube.com/embed/rEVboOny7rY\"\n",
       "            frameborder=\"0\"\n",
       "            allowfullscreen\n",
       "        ></iframe>\n",
       "        "
      ],
      "text/plain": [
       "<IPython.lib.display.YouTubeVideo at 0x207472e5760>"
      ]
     },
     "execution_count": 19,
     "metadata": {},
     "output_type": "execute_result"
    }
   ],
   "source": [
    "from IPython.display import YouTubeVideo\n",
    "\n",
    "YouTubeVideo('pgIfTQnjdzA', width=960, height=540)"
   ]
  },
  {
   "attachments": {},
   "cell_type": "markdown",
   "id": "0ba933b9",
   "metadata": {},
   "source": [
    "# Discussion\n",
    "\n",
    "Differently from the works found in the literature, which train and validate their models only against a RandomPlayer, our methods were trained against a MaxDamagePlayer and validated against a MaxDamagePlayer and against a RandomPlayer, showing significant improvements. All of our implemented methods showed better results than most of our methods from P1 with the same battle configurations.\n",
    "\n",
    "Our DQN agent, in a stochastic environment, with 300k training steps, averaged $69,57\\%$ wins against a MaxDamagePlayer and $98,59\\%$ wins against a RandomPlayer. With 900k training steps, in a stochastic environment, our DQN agent averaged $60,97\\%$ wins against a MaxDamagePlayer and $99,28\\%$ wins against a RandomPlayer. In a deterministic environment, with 300k training steps, the agent averaged $71,71\\%$ wins against a MaxDamagePlayer and $98,5\\%$ wins against a RandomPlayer. With 900k training steps, in a deterministic environment, our DQN agent averaged $74,62\\%$ wins against a MaxDamagePlayer and $98,89\\%$ wins against a RandomPlayer. In a visual analysis of the battles, we noticed that the agent promoted switches to Pokémon with super-effective attacks against the opponent. In the stochastic environment, the agent also made use of a combo with Sleep Powder (cause status to the opponent) and Leech Seed (removes opponent's Health Points in each turn and adds them to ours). Compared to the other implemented methods, the agent with DQN trained by 900k steps was the one with the worst performance against MaxDamagePlayer.\n",
    "\n",
    "Our Double-DQN agent, in a stochastic environment, with 300k training steps, averaged $67\\%$ wins against a MaxDamagePlayer and $98\\%$ wins against a RandomPlayer. With 900k training steps, in a stochastic environment, our DQN agent averaged $83,94\\%$ wins against a MaxDamagePlayer and $99,24\\%$ wins against a RandomPlayer. In a deterministic environment, with 300k training steps, the agent averaged $77,08\\%$ wins against a MaxDamagePlayer and $99,37\\%$ wins against a RandomPlayer. With 900k training steps, in a deterministic environment, our DQN agent averaged $77,92\\%$ wins against a MaxDamagePlayer and $98,98\\%$ wins against a RandomPlayer. In a visual analysis of the battles, we noticed that the agent promoted switches to better type Pokémon, to not suffer super-effective attacks, and to Pokémon with super-effective attacks against the opponent. \n",
    "\n",
    "Our PPO agent, in a stochastic environment, with 300k training steps, averaged $88,93\\%$ wins against a MaxDamagePlayer and $99,94\\%$ wins against a RandomPlayer. With 900k training steps, in a stochastic environment, our PPO agent averaged $88,21\\%$ wins against a MaxDamagePlayer and $99,67\\%$ wins against a RandomPlayer. In a deterministic environment, with 300k training steps, the agent averaged $74,86\\%$ wins against a MaxDamagePlayer and $99,73\\%$ wins against a RandomPlayer. With 900k training steps, in a deterministic environment, our PPO agent averaged $82,75\\%$ wins against a MaxDamagePlayer and $99,49\\%$ wins against a RandomPlayer. In a visual analysis of the battles, we noticed that the agent also promoted switches to better type Pokémon, to not suffer super-effective attacks, and to Pokémon with super-effective attacks against the opponent.  In addition, the agent made a lot of use of the Giga Drain damage move (promotes damage and recovers HP), even when this move wasn't very effective. We hypothesize that this occurs because the Player realized that, even if the move was not very effective, it promoted a decrease in the opponent's Health Points and an increase in ours, promoting greater rewards.\n",
    "\n",
    "Our REINFORCE Keras agent, in a stochastic environment, with 10k training steps, averaged $87,52\\%$ wins against a MaxDamagePlayer and $99,43\\%$ wins against a RandomPlayer. With 30k training steps, in a stochastic environment, our REINFORCE Keras agent averaged $85,07\\%$ wins against a MaxDamagePlayer and $99,14\\%$ wins against a RandomPlayer. In a deterministic environment, with 10k training steps, the agent averaged $60,16\\%$ wins against a MaxDamagePlayer and $99,13\\%$ wins against a RandomPlayer. With 30k training steps, in a deterministic environment, our REINFORCE Keras agent averaged $75,97\\%$ wins against a MaxDamagePlayer and $99,55\\%$ wins against a RandomPlayer. In a visual analysis of the battles, we noticed behaviors similar to the ones learned by the PPO agent, mainly the agent made many uses of Giga Drain damage move (causes damage and recovers HP), even when this move wasn't very effective. Again, we hypothesize that the agent learned to have a preference for this move because causing a decrease in the opponent's Pokémon Health Points and an increase in ours is a way to promote a greater accumulation of rewards in the long run of the episode.\n",
    "\n",
    "In Pytorch Framework, the models perfomed as good as the Keras using our REINFORCE Keras agent, and slighty worst when running out the DQN model. For Pytorch DQN model in stochastice environment with 5k battles, the model won around $30,00\\%$ against MaxDamagePlayer, while with the RandomDamagePlayer the agent won almost $95,00\\%$ of the battle. The main contribution, however, is the available GPU in the Pytorch Framework. It decreased sharply the time training (around $50\\%$ faster) and allow us, from now on, to try new architectures of the models and new hyperparameters in order to improve the results. As a negative point, and probably the explanation about the lower accuracy results acquired, is that Pytorch does not provide an easy API to apply Reinforcement Learning so it is easier prone to errors. In addition, in order to use the Pytorch correctly, several data transformation into tensor was necessary. Therefore, a thorough and detailed analysis of the code is more necessary than when using Keras Framework. For future improvements, we intend to analyse the DQNAgent Keras algorithm itself to compared how the models were build and try to improve the results of the Pytorch Framework."
   ]
  },
  {
   "attachments": {},
   "cell_type": "markdown",
   "id": "7efc47cb",
   "metadata": {},
   "source": [
    "# Conclusion\n",
    "\n",
    "Given the complexity of a Pokémon battle (as shown, $1,016,064$ states and $9,144,576$ possibilities), the implemented methods were able to generalize the states and explore the best reward acquisitions, with all methods performing better than a RandomPlayer, a MaxPlayer and most of our tabular methods with the same battle configurations. The methods showed increasing learning, in view of the increase in rewards and victory rate as battles went on.\n",
    "\n",
    "Particularly, PPO found it easier to generalize the states, given the influence of the Actor-Critic network.\n",
    "\n",
    "In addition to the difference in training and validating using a MaxDamagePlayer (getting good results), our PPO method showed better results than related work against a RandomPlayer.\n",
    "\n",
    "As future work, we propose to consider as inputs for our networks the types of Pokémon, their abilities and possible side effects of moves.\n",
    "\n",
    "In the professional scope, it is important to mention that this project allowed us to know theoretically and practically the models and techniques of Reinforcement Learning. Since RL is an area increasingly demanded by current technologies, this project is of particular importance, as it brought us relatively in-depth knowledge of RL techniques, how to apply and improve them. Finally, it is important to emphasize, for everyone on the team, that after this project, we are able to \"walk on our own two legs\" to go deeper into the RL area and contribute to this growing community."
   ]
  },
  {
   "attachments": {},
   "cell_type": "markdown",
   "id": "d21626ae",
   "metadata": {},
   "source": []
  },
  {
   "attachments": {},
   "cell_type": "markdown",
   "id": "9837eaab",
   "metadata": {},
   "source": [
    "# Contributions\n",
    "\n",
    "## Methods\n",
    "\n",
    "### Deep Q-Learning - Keras\n",
    "* **Code development**: Leonardo;\n",
    "* **Code review**: Bruno, Henrique, Maurício;\n",
    "* **Experiments**: Leonardo.\n",
    "\n",
    "### DQN - Pytorch\n",
    "* **Code development**: Bruno;\n",
    "* **Code review**: Henrique, Leonardo, Maurício;\n",
    "* **Experiments**: Bruno.\n",
    "\n",
    "### Double Deep Q-Learning - Keras\n",
    "* **Code development**: Leonardo;\n",
    "* **Code review**: Bruno, Henrique, Maurício;\n",
    "* **Experiments**: Leonardo.\n",
    "\n",
    "### PPO\n",
    "* **Code development**: Leonardo;\n",
    "* **Code review**: Bruno, Henrique, Maurício;\n",
    "* **Experiments**: Leonardo.\n",
    "\n",
    "### REINFORCE - Keras\n",
    "* **Code development**: Henrique;\n",
    "* **Code review**: Bruno, Leonardo, Maurício;\n",
    "* **Experiments**: Henrique.\n",
    "\n",
    "### REINFORCE - Pytorch\n",
    "* **Code development**: Bruno;\n",
    "* **Code review**: Henrique, Leonardo, Maurício;\n",
    "* **Experiments**: Bruno.\n",
    "\n",
    "## Video\n",
    "* **Editing**: Leonardo;\n",
    "* **Review**: Bruno, Henrique, Maurício.\n",
    "\n",
    "## Report\n",
    "* **Writting**: Leonardo, Henrique, Bruno, Mauricio."
   ]
  },
  {
   "cell_type": "code",
   "execution_count": null,
   "id": "e6249f56",
   "metadata": {},
   "outputs": [],
   "source": []
  }
 ],
 "metadata": {
  "kernelspec": {
   "display_name": "Python 3 (ipykernel)",
   "language": "python",
   "name": "python3"
  },
  "language_info": {
   "codemirror_mode": {
    "name": "ipython",
    "version": 3
   },
   "file_extension": ".py",
   "mimetype": "text/x-python",
   "name": "python",
   "nbconvert_exporter": "python",
   "pygments_lexer": "ipython3",
   "version": "3.10.12"
  }
 },
 "nbformat": 4,
 "nbformat_minor": 5
}

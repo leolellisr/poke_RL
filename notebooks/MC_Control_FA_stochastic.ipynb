{
 "cells": [
  {
   "cell_type": "code",
   "execution_count": 1,
   "id": "9b3e7800",
   "metadata": {},
   "outputs": [],
   "source": [
    "# Notebook for training and testing a Player in Pokemon Showdown using Monte Carlo with Function Approximation in Stochastic Environment"
   ]
  },
  {
   "cell_type": "code",
   "execution_count": 2,
   "id": "1cedfd2e",
   "metadata": {},
   "outputs": [
    {
     "data": {
      "text/plain": [
       "'\\nComparative Table: https://prnt.sc/1ytqrzm\\n------\\nneptune\\nAction space: 4 moves + 5 switches\\npoke-env installed in C:\\\\Users\\\\-\\\\anaconda3\\\\envs\\\\poke_env\\\\lib\\\\site-packages\\n'"
      ]
     },
     "execution_count": 2,
     "metadata": {},
     "output_type": "execute_result"
    }
   ],
   "source": [
    "\"\"\"\n",
    "Comparative Table: https://prnt.sc/1ytqrzm\n",
    "------\n",
    "neptune\n",
    "Action space: 4 moves + 5 switches\n",
    "poke-env installed in C:\\\\Users\\\\-\\\\anaconda3\\\\envs\\\\poke_env\\\\lib\\\\site-packages\n",
    "\"\"\"\n"
   ]
  },
  {
   "cell_type": "code",
   "execution_count": 3,
   "id": "b52ca69f",
   "metadata": {},
   "outputs": [
    {
     "name": "stderr",
     "output_type": "stream",
     "text": [
      "[neptune] [warning] NeptuneDeprecationWarning: You're importing the Neptune client library via the deprecated `neptune.new` module, which will be removed in a future release. Import directly from `neptune` instead.\n"
     ]
    }
   ],
   "source": [
    "# imports\n",
    "\n",
    "import asyncio\n",
    "import json\n",
    "import os\n",
    "import matplotlib\n",
    "import neptune.new as neptune\n",
    "import nest_asyncio\n",
    "import numpy as np\n",
    "import pandas as pd\n",
    "import time\n",
    "\n",
    "from collections import defaultdict\n",
    "from datetime import date\n",
    "from itertools import product\n",
    "from matplotlib import pyplot\n",
    "from poke_env.environment.abstract_battle import AbstractBattle\n",
    "from poke_env.player.battle_order import ForfeitBattleOrder\n",
    "from poke_env.player.player import Player\n",
    "from poke_env.player.random_player import RandomPlayer\n",
    "from scipy.interpolate import griddata\n",
    "\n",
    "from poke_env.data import GenData\n",
    "\n",
    "import sys\n",
    "# caution: path[0] is reserved for script path (or '' in REPL)\n",
    "sys.path.append('../')"
   ]
  },
  {
   "cell_type": "code",
   "execution_count": 4,
   "id": "753f4d4f",
   "metadata": {},
   "outputs": [],
   "source": [
    "from src.playerMC_FA import Player as PlayerMC_FA"
   ]
  },
  {
   "cell_type": "code",
   "execution_count": 5,
   "id": "80ab3f06",
   "metadata": {},
   "outputs": [],
   "source": [
    "# global configs\n",
    "\n",
    "debug = True\n",
    "save_to_json_file = False\n",
    "use_validation = True\n",
    "use_neptune = False\n",
    "\n",
    "nest_asyncio.apply()\n",
    "np.random.seed(0)\n",
    "\n",
    "if use_neptune:\n",
    "    run = neptune.init(name= 'MCControlFAStochastic', tags=['Function Approximation', 'MC Control', 'Stochastic', 'Train'], project='your_project',\n",
    "                       api_token='your_api_token')"
   ]
  },
  {
   "cell_type": "code",
   "execution_count": 6,
   "id": "20b6abdd",
   "metadata": {},
   "outputs": [],
   "source": [
    "from py.variables.variables import our_team_sto as OUR_TEAM\n",
    "from py.variables.variables import op_team_sto as OP_TEAM"
   ]
  },
  {
   "cell_type": "code",
   "execution_count": 7,
   "id": "2af2c721",
   "metadata": {},
   "outputs": [],
   "source": [
    "from py.variables.utils import name_to_id_sto as name_to_id\n"
   ]
  },
  {
   "cell_type": "code",
   "execution_count": null,
   "id": "11f9f083",
   "metadata": {},
   "outputs": [],
   "source": []
  },
  {
   "cell_type": "code",
   "execution_count": 8,
   "id": "f4b29a68",
   "metadata": {},
   "outputs": [],
   "source": [
    "N_STATE_COMPONENTS = 12\n",
    "\n",
    "# num of features = num of state components + action\n",
    "N_FEATURES = N_STATE_COMPONENTS + 1\n",
    "\n",
    "N_OUR_MOVE_ACTIONS = 4\n",
    "N_OUR_SWITCH_ACTIONS = 5\n",
    "N_OUR_ACTIONS = N_OUR_MOVE_ACTIONS + N_OUR_SWITCH_ACTIONS\n",
    "\n",
    "ALL_OUR_ACTIONS = np.array(range(0, N_OUR_ACTIONS))\n",
    "\n"
   ]
  },
  {
   "cell_type": "code",
   "execution_count": 9,
   "id": "231fa6f8",
   "metadata": {},
   "outputs": [],
   "source": [
    "from py.agents.MaxDamagePlayer import MaxDamagePlayer as MaxDamagePlayer"
   ]
  },
  {
   "cell_type": "code",
   "execution_count": null,
   "id": "a6c4c735",
   "metadata": {},
   "outputs": [],
   "source": []
  },
  {
   "cell_type": "code",
   "execution_count": 10,
   "id": "495d426e",
   "metadata": {},
   "outputs": [],
   "source": [
    "from py.agents.MonteCarloPlayerFA import MCPlayer_FA as MCPlayerFA\n"
   ]
  },
  {
   "cell_type": "code",
   "execution_count": null,
   "id": "f8636906",
   "metadata": {},
   "outputs": [],
   "source": []
  },
  {
   "cell_type": "code",
   "execution_count": 11,
   "id": "614d8c63",
   "metadata": {},
   "outputs": [],
   "source": [
    "# global parameters\n",
    "\n",
    "# possible values for num_battles (number of episodes)\n",
    "n_battles_array = [10000]\n",
    "# exploration schedule from MC, i. e., epsilon(t) = N0 / (N0 + N(S(t)))\n",
    "n0_array = [0.0001, 0.001, 0.01]\n",
    "\n",
    "# possible values for gamma (discount factor)\n",
    "gamma_array = [0.75]\n",
    "\n",
    "\n",
    "list_of_params = [\n",
    "    {\n",
    "        'n_battles': n_battles,\n",
    "        'n0': n0,\n",
    "        'gamma': gamma\n",
    "    } for n_battles, n0, gamma in product(n_battles_array, n0_array, gamma_array)\n",
    "]\n"
   ]
  },
  {
   "cell_type": "code",
   "execution_count": null,
   "id": "4e4d649c",
   "metadata": {},
   "outputs": [],
   "source": []
  },
  {
   "cell_type": "code",
   "execution_count": null,
   "id": "27fe5a10",
   "metadata": {},
   "outputs": [],
   "source": [
    "\n"
   ]
  },
  {
   "cell_type": "code",
   "execution_count": 12,
   "id": "3a6caf79",
   "metadata": {},
   "outputs": [],
   "source": [
    "from py.variables.utils import save_to_json_file as save_to_json_file\n"
   ]
  },
  {
   "cell_type": "code",
   "execution_count": 13,
   "id": "846b5e11",
   "metadata": {},
   "outputs": [
    {
     "ename": "KeyboardInterrupt",
     "evalue": "",
     "output_type": "error",
     "traceback": [
      "\u001b[0;31m---------------------------------------------------------------------------\u001b[0m",
      "\u001b[0;31mKeyboardInterrupt\u001b[0m                         Traceback (most recent call last)",
      "Cell \u001b[0;32mIn[13], line 29\u001b[0m\n\u001b[1;32m     23\u001b[0m             save_to_json_file(\u001b[38;5;124m\"\u001b[39m\u001b[38;5;124mMC_Control_FA\u001b[39m\u001b[38;5;124m\"\u001b[39m, params)\n\u001b[1;32m     28\u001b[0m loop \u001b[38;5;241m=\u001b[39m asyncio\u001b[38;5;241m.\u001b[39mget_event_loop()\n\u001b[0;32m---> 29\u001b[0m \u001b[43mloop\u001b[49m\u001b[38;5;241;43m.\u001b[39;49m\u001b[43mrun_until_complete\u001b[49m\u001b[43m(\u001b[49m\u001b[43mloop\u001b[49m\u001b[38;5;241;43m.\u001b[39;49m\u001b[43mcreate_task\u001b[49m\u001b[43m(\u001b[49m\u001b[43mdo_battle_training\u001b[49m\u001b[43m(\u001b[49m\u001b[43m)\u001b[49m\u001b[43m)\u001b[49m\u001b[43m)\u001b[49m\n",
      "File \u001b[0;32m~/.local/lib/python3.10/site-packages/nest_asyncio.py:84\u001b[0m, in \u001b[0;36m_patch_loop.<locals>.run_until_complete\u001b[0;34m(self, future)\u001b[0m\n\u001b[1;32m     82\u001b[0m     f\u001b[38;5;241m.\u001b[39m_log_destroy_pending \u001b[38;5;241m=\u001b[39m \u001b[38;5;28;01mFalse\u001b[39;00m\n\u001b[1;32m     83\u001b[0m \u001b[38;5;28;01mwhile\u001b[39;00m \u001b[38;5;129;01mnot\u001b[39;00m f\u001b[38;5;241m.\u001b[39mdone():\n\u001b[0;32m---> 84\u001b[0m     \u001b[38;5;28;43mself\u001b[39;49m\u001b[38;5;241;43m.\u001b[39;49m\u001b[43m_run_once\u001b[49m\u001b[43m(\u001b[49m\u001b[43m)\u001b[49m\n\u001b[1;32m     85\u001b[0m     \u001b[38;5;28;01mif\u001b[39;00m \u001b[38;5;28mself\u001b[39m\u001b[38;5;241m.\u001b[39m_stopping:\n\u001b[1;32m     86\u001b[0m         \u001b[38;5;28;01mbreak\u001b[39;00m\n",
      "File \u001b[0;32m~/.local/lib/python3.10/site-packages/nest_asyncio.py:107\u001b[0m, in \u001b[0;36m_patch_loop.<locals>._run_once\u001b[0;34m(self)\u001b[0m\n\u001b[1;32m    100\u001b[0m     heappop(scheduled)\n\u001b[1;32m    102\u001b[0m timeout \u001b[38;5;241m=\u001b[39m (\n\u001b[1;32m    103\u001b[0m     \u001b[38;5;241m0\u001b[39m \u001b[38;5;28;01mif\u001b[39;00m ready \u001b[38;5;129;01mor\u001b[39;00m \u001b[38;5;28mself\u001b[39m\u001b[38;5;241m.\u001b[39m_stopping\n\u001b[1;32m    104\u001b[0m     \u001b[38;5;28;01melse\u001b[39;00m \u001b[38;5;28mmin\u001b[39m(\u001b[38;5;28mmax\u001b[39m(\n\u001b[1;32m    105\u001b[0m         scheduled[\u001b[38;5;241m0\u001b[39m]\u001b[38;5;241m.\u001b[39m_when \u001b[38;5;241m-\u001b[39m \u001b[38;5;28mself\u001b[39m\u001b[38;5;241m.\u001b[39mtime(), \u001b[38;5;241m0\u001b[39m), \u001b[38;5;241m86400\u001b[39m) \u001b[38;5;28;01mif\u001b[39;00m scheduled\n\u001b[1;32m    106\u001b[0m     \u001b[38;5;28;01melse\u001b[39;00m \u001b[38;5;28;01mNone\u001b[39;00m)\n\u001b[0;32m--> 107\u001b[0m event_list \u001b[38;5;241m=\u001b[39m \u001b[38;5;28;43mself\u001b[39;49m\u001b[38;5;241;43m.\u001b[39;49m\u001b[43m_selector\u001b[49m\u001b[38;5;241;43m.\u001b[39;49m\u001b[43mselect\u001b[49m\u001b[43m(\u001b[49m\u001b[43mtimeout\u001b[49m\u001b[43m)\u001b[49m\n\u001b[1;32m    108\u001b[0m \u001b[38;5;28mself\u001b[39m\u001b[38;5;241m.\u001b[39m_process_events(event_list)\n\u001b[1;32m    110\u001b[0m end_time \u001b[38;5;241m=\u001b[39m \u001b[38;5;28mself\u001b[39m\u001b[38;5;241m.\u001b[39mtime() \u001b[38;5;241m+\u001b[39m \u001b[38;5;28mself\u001b[39m\u001b[38;5;241m.\u001b[39m_clock_resolution\n",
      "File \u001b[0;32m~/anaconda3/envs/poke_env/lib/python3.10/selectors.py:469\u001b[0m, in \u001b[0;36mEpollSelector.select\u001b[0;34m(self, timeout)\u001b[0m\n\u001b[1;32m    467\u001b[0m ready \u001b[38;5;241m=\u001b[39m []\n\u001b[1;32m    468\u001b[0m \u001b[38;5;28;01mtry\u001b[39;00m:\n\u001b[0;32m--> 469\u001b[0m     fd_event_list \u001b[38;5;241m=\u001b[39m \u001b[38;5;28;43mself\u001b[39;49m\u001b[38;5;241;43m.\u001b[39;49m\u001b[43m_selector\u001b[49m\u001b[38;5;241;43m.\u001b[39;49m\u001b[43mpoll\u001b[49m\u001b[43m(\u001b[49m\u001b[43mtimeout\u001b[49m\u001b[43m,\u001b[49m\u001b[43m \u001b[49m\u001b[43mmax_ev\u001b[49m\u001b[43m)\u001b[49m\n\u001b[1;32m    470\u001b[0m \u001b[38;5;28;01mexcept\u001b[39;00m \u001b[38;5;167;01mInterruptedError\u001b[39;00m:\n\u001b[1;32m    471\u001b[0m     \u001b[38;5;28;01mreturn\u001b[39;00m ready\n",
      "\u001b[0;31mKeyboardInterrupt\u001b[0m: "
     ]
    }
   ],
   "source": [
    "# main (let's battle!)\n",
    "\n",
    "# training\n",
    "async def do_battle_training():\n",
    "    for params in list_of_params:\n",
    "        start = time.time()\n",
    "        params['player'] = MCPlayerFA(battle_format=\"gen8ou\", team=OUR_TEAM, n0=params['n0'], gamma=params['gamma'])\n",
    "        params['opponent'] = MaxDamagePlayer(battle_format=\"gen8ou\", team=OP_TEAM)\n",
    "        await params['player'].battle_against(opponent=params['opponent'], n_battles=params['n_battles'])\n",
    "        if debug:\n",
    "            print(\"training: num battles (episodes)=%d, N0=%.4f, gamma=%.2f, wins=%d, winning %%=%.2f, total time=%s sec\" %\n",
    "                  (\n",
    "                      params['n_battles'],\n",
    "                      round(params['n0'], 4),\n",
    "                      round(params['gamma'], 2),\n",
    "                      params['player'].n_won_battles,\n",
    "                      round((params['player'].n_won_battles / params['n_battles']) * 100, 2),\n",
    "                      round(time.time() - start, 2)\n",
    "                  ))\n",
    "\n",
    "        # save w to json file\n",
    "        if save_to_json_file:\n",
    "            save_to_json_file(\"MC_Control_FA\", params)\n",
    "            \n",
    "        \n",
    "\n",
    "\n",
    "loop = asyncio.get_event_loop()\n",
    "loop.run_until_complete(loop.create_task(do_battle_training()))\n"
   ]
  },
  {
   "cell_type": "code",
   "execution_count": null,
   "id": "6295ff78",
   "metadata": {},
   "outputs": [],
   "source": []
  },
  {
   "cell_type": "code",
   "execution_count": null,
   "id": "0f9fee37",
   "metadata": {},
   "outputs": [],
   "source": []
  },
  {
   "cell_type": "code",
   "execution_count": null,
   "id": "60f26e29",
   "metadata": {},
   "outputs": [],
   "source": [
    "\n"
   ]
  },
  {
   "cell_type": "code",
   "execution_count": null,
   "id": "24320c65",
   "metadata": {},
   "outputs": [],
   "source": []
  },
  {
   "cell_type": "code",
   "execution_count": 14,
   "id": "b90ac1cf",
   "metadata": {},
   "outputs": [],
   "source": [
    "from py.agents.ValidationPlayer import ValidationPlayerMCFA as ValidationPlayer"
   ]
  },
  {
   "cell_type": "code",
   "execution_count": null,
   "id": "0c7d9695",
   "metadata": {},
   "outputs": [],
   "source": [
    "# validation  - vs MaxPlayer\n",
    "\n",
    "async def do_battle_validation_params(params):\n",
    "    for parm in params:\n",
    "        # learned feature vector\n",
    "        w = parm['player'].w\n",
    "        N = parm['player'].N\n",
    "        # params: n_battles, n0, gamma\n",
    "        n_battles = parm['n_battles']\n",
    "        n0 = parm['n0']\n",
    "        gamma = parm['gamma']\n",
    "\n",
    "        # validation (play 1/3 of the battles using Q-learned table)\n",
    "        start = time.time()\n",
    "        validation_player = ValidationPlayer(battle_format=\"gen8ou\", team=OUR_TEAM, w=w, N=N, n0=n0)\n",
    "        opponent = MaxDamagePlayer(battle_format=\"gen8ou\", team=OP_TEAM)\n",
    "        n_battles_validation = int(n_battles / 3)\n",
    "        await validation_player.battle_against(opponent=opponent, n_battles=n_battles_validation)\n",
    "        print(\"validation: num battles (episodes)=%d, N0=%.4f, gamma=%.2f, wins=%d, winning %%=%.2f, total time=%s sec\" %\n",
    "              (\n",
    "                  n_battles_validation,\n",
    "                  n0,\n",
    "                  gamma,\n",
    "                  validation_player.n_won_battles,\n",
    "                  round((validation_player.n_won_battles / n_battles_validation) * 100, 2),\n",
    "                  round(time.time() - start, 2)\n",
    "              ))\n",
    "\n",
    "\n",
    "if use_validation:\n",
    "    loop = asyncio.get_event_loop()\n",
    "    loop.run_until_complete(loop.create_task(do_battle_validation_params(list_of_params)))\n"
   ]
  },
  {
   "cell_type": "code",
   "execution_count": null,
   "id": "80560193",
   "metadata": {},
   "outputs": [],
   "source": [
    "# validation - vs RandomPlayer\n",
    "\n",
    "async def do_battle_validation_params(params):\n",
    "    for parm in params:\n",
    "        # learned feature vector\n",
    "        w = parm['player'].w\n",
    "        N = parm['player'].N\n",
    "        # params: n_battles, n0, gamma\n",
    "        n_battles = parm['n_battles']\n",
    "        n0 = parm['n0']\n",
    "        gamma = parm['gamma']\n",
    "\n",
    "        # validation (play 1/3 of the battles using Q-learned table)\n",
    "        start = time.time()\n",
    "        validation_player = ValidationPlayer(battle_format=\"gen8ou\", team=OUR_TEAM, w=w, N=N, n0=n0)\n",
    "        opponent = RandomPlayer(battle_format=\"gen8ou\", team=OP_TEAM)\n",
    "        n_battles_validation = int(n_battles / 3)\n",
    "        await validation_player.battle_against(opponent=opponent, n_battles=n_battles_validation)\n",
    "        print(\"validation: num battles (episodes)=%d, N0=%.4f, gamma=%.2f, wins=%d, winning %%=%.2f, total time=%s sec\" %\n",
    "              (\n",
    "                  n_battles_validation,\n",
    "                  n0,\n",
    "                  gamma,\n",
    "                  validation_player.n_won_battles,\n",
    "                  round((validation_player.n_won_battles / n_battles_validation) * 100, 2),\n",
    "                  round(time.time() - start, 2)\n",
    "              ))\n",
    "\n",
    "\n",
    "if use_validation:\n",
    "    loop = asyncio.get_event_loop()\n",
    "    loop.run_until_complete(loop.create_task(do_battle_validation_params(list_of_params)))\n"
   ]
  },
  {
   "cell_type": "code",
   "execution_count": null,
   "id": "70bad94c",
   "metadata": {},
   "outputs": [],
   "source": []
  }
 ],
 "metadata": {
  "kernelspec": {
   "display_name": "Python 3 (ipykernel)",
   "language": "python",
   "name": "python3"
  },
  "language_info": {
   "codemirror_mode": {
    "name": "ipython",
    "version": 3
   },
   "file_extension": ".py",
   "mimetype": "text/x-python",
   "name": "python",
   "nbconvert_exporter": "python",
   "pygments_lexer": "ipython3",
   "version": "3.10.13"
  }
 },
 "nbformat": 4,
 "nbformat_minor": 5
}

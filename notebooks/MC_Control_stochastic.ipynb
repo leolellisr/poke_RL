{
 "cells": [
  {
   "cell_type": "code",
   "execution_count": 1,
   "id": "add3e658",
   "metadata": {},
   "outputs": [],
   "source": [
    "# Notebook for training and testing a Player in Pokemon Showdown using Monte Carlo in Stochastic Environment"
   ]
  },
  {
   "cell_type": "code",
   "execution_count": 2,
   "id": "0be05612",
   "metadata": {},
   "outputs": [
    {
     "data": {
      "text/plain": [
       "'\\nComparative Table: https://prnt.sc/1ytqrzm\\n------\\nneptune\\nAction space: 4 moves + 5 switches\\npoke-env installed in C:\\\\Users\\\\-\\\\anaconda3\\\\envs\\\\poke_env\\\\lib\\\\site-packages\\n'"
      ]
     },
     "execution_count": 2,
     "metadata": {},
     "output_type": "execute_result"
    }
   ],
   "source": [
    "\"\"\"\n",
    "Comparative Table: https://prnt.sc/1ytqrzm\n",
    "------\n",
    "neptune\n",
    "Action space: 4 moves + 5 switches\n",
    "poke-env installed in C:\\\\Users\\\\-\\\\anaconda3\\\\envs\\\\poke_env\\\\lib\\\\site-packages\n",
    "\"\"\"\n"
   ]
  },
  {
   "cell_type": "code",
   "execution_count": null,
   "id": "fd5c58d6",
   "metadata": {},
   "outputs": [],
   "source": [
    "\n"
   ]
  },
  {
   "cell_type": "code",
   "execution_count": 3,
   "id": "12791847",
   "metadata": {},
   "outputs": [],
   "source": [
    "# Imports\n",
    "\n",
    "import numpy as np\n",
    "\n",
    "import sys\n",
    "from gym import spaces\n",
    "import asyncio\n",
    "import time\n",
    "\n",
    "from collections import defaultdict\n",
    "\n",
    "\n",
    "from poke_env.player.player import Player \n",
    "from poke_env.player.random_player import RandomPlayer\n",
    "\n",
    "from poke_env.environment.abstract_battle import AbstractBattle\n",
    "from poke_env.data import GenData\n",
    "\n",
    "import matplotlib\n",
    "import pandas as pd\n",
    "from collections import namedtuple\n",
    "from matplotlib import pyplot as plt\n",
    "from mpl_toolkits.mplot3d import Axes3D\n",
    "\n",
    "np.random.seed(0)\n",
    "use_neptune = False\n",
    "if use_neptune:\n",
    "    import neptune.new as neptune\n",
    "    run = neptune.init(project='your_project_here',\n",
    "                       api_token='your api token here')"
   ]
  },
  {
   "cell_type": "code",
   "execution_count": 4,
   "id": "9def3c92",
   "metadata": {},
   "outputs": [],
   "source": [
    "import sys\n",
    "# caution: path[0] is reserved for script path (or '' in REPL)\n",
    "sys.path.append('../')"
   ]
  },
  {
   "cell_type": "code",
   "execution_count": 5,
   "id": "211ced04",
   "metadata": {},
   "outputs": [],
   "source": [
    "from src.playerMC import Player as PlayerMC\n"
   ]
  },
  {
   "cell_type": "code",
   "execution_count": 6,
   "id": "09eae287",
   "metadata": {},
   "outputs": [],
   "source": [
    "from py.variables.utils import name_to_id_sto as name_to_id\n"
   ]
  },
  {
   "cell_type": "code",
   "execution_count": 9,
   "id": "21ddc887",
   "metadata": {},
   "outputs": [],
   "source": [
    "from py.agents.MaxDamagePlayer import MaxDamagePlayer as MaxDamagePlayer"
   ]
  },
  {
   "cell_type": "code",
   "execution_count": 12,
   "id": "116dda84",
   "metadata": {},
   "outputs": [],
   "source": [
    "from py.agents.MonteCarloPlayer import MCPlayer as MCPlayer"
   ]
  },
  {
   "cell_type": "code",
   "execution_count": null,
   "id": "9e14df17",
   "metadata": {},
   "outputs": [],
   "source": []
  },
  {
   "cell_type": "code",
   "execution_count": 15,
   "id": "f6cea909",
   "metadata": {},
   "outputs": [],
   "source": [
    "from py.variables.variables import our_team_sto as our_team\n",
    "from py.variables.variables import op_team_sto as op_team"
   ]
  },
  {
   "cell_type": "code",
   "execution_count": null,
   "id": "804a83c8",
   "metadata": {},
   "outputs": [],
   "source": []
  },
  {
   "cell_type": "code",
   "execution_count": 16,
   "id": "dc78fe0c",
   "metadata": {},
   "outputs": [],
   "source": [
    "# Global variables\n",
    "\n",
    "# 3 sets of tests; 10k battles each\n",
    "n0_array = [0.0001, 0.001, 0.01]\n",
    "gamma_array = [0.75, 0.75, 0.75] \n",
    "n_battles = [10000 for n0 in n0_array] #all tests have 10k battles; Can be modified to different values (must have same shape)\n",
    "our_team_array = [our_team for n0 in n0_array] #all teams are the same; Can be modified to different teams (must have same shape)\n",
    "op_team_array = [op_team for n0 in n0_array] #all opponents are the same; Can be modified to different teams (must have same shape)\n",
    "\n",
    "tests =[ {'n0': n0,\n",
    "          'gamma': gamma,\n",
    "          'n_battles':n_battle,\n",
    "          'team':our_team,\n",
    "          'against':op_team,\n",
    "          'battle_format':\"gen8ou\"}\n",
    "        for n0,gamma,n_battle,our_team,op_team in zip(n0_array,gamma_array,n_battles,our_team_array,op_team_array)]\n"
   ]
  },
  {
   "cell_type": "code",
   "execution_count": 17,
   "id": "d0d9e466",
   "metadata": {},
   "outputs": [
    {
     "data": {
      "text/plain": [
       "3"
      ]
     },
     "execution_count": 17,
     "metadata": {},
     "output_type": "execute_result"
    }
   ],
   "source": [
    "len(tests)"
   ]
  },
  {
   "cell_type": "code",
   "execution_count": null,
   "id": "772f03af",
   "metadata": {},
   "outputs": [],
   "source": []
  },
  {
   "cell_type": "code",
   "execution_count": 18,
   "id": "0939d52c",
   "metadata": {},
   "outputs": [
    {
     "ename": "CancelledError",
     "evalue": "",
     "output_type": "error",
     "traceback": [
      "\u001b[0;31m---------------------------------------------------------------------------\u001b[0m",
      "\u001b[0;31mCancelledError\u001b[0m                            Traceback (most recent call last)",
      "Cell \u001b[0;32mIn[18], line 6\u001b[0m\n\u001b[1;32m      4\u001b[0m test[\u001b[38;5;124m'\u001b[39m\u001b[38;5;124mopponent\u001b[39m\u001b[38;5;124m'\u001b[39m] \u001b[38;5;241m=\u001b[39m MaxDamagePlayer(battle_format\u001b[38;5;241m=\u001b[39m\u001b[38;5;124m\"\u001b[39m\u001b[38;5;124mgen8ou\u001b[39m\u001b[38;5;124m\"\u001b[39m, team\u001b[38;5;241m=\u001b[39mtest[\u001b[38;5;124m'\u001b[39m\u001b[38;5;124magainst\u001b[39m\u001b[38;5;124m'\u001b[39m])\n\u001b[1;32m      5\u001b[0m test[\u001b[38;5;124m'\u001b[39m\u001b[38;5;124mplayer\u001b[39m\u001b[38;5;124m'\u001b[39m] \u001b[38;5;241m=\u001b[39m MCPlayer(battle_format\u001b[38;5;241m=\u001b[39m\u001b[38;5;124m\"\u001b[39m\u001b[38;5;124mgen8ou\u001b[39m\u001b[38;5;124m\"\u001b[39m, team\u001b[38;5;241m=\u001b[39mtest[\u001b[38;5;124m'\u001b[39m\u001b[38;5;124mteam\u001b[39m\u001b[38;5;124m'\u001b[39m], n0\u001b[38;5;241m=\u001b[39mtest[\u001b[38;5;124m'\u001b[39m\u001b[38;5;124mn0\u001b[39m\u001b[38;5;124m'\u001b[39m], gamma\u001b[38;5;241m=\u001b[39mtest[\u001b[38;5;124m'\u001b[39m\u001b[38;5;124mgamma\u001b[39m\u001b[38;5;124m'\u001b[39m])\n\u001b[0;32m----> 6\u001b[0m \u001b[38;5;28;01mawait\u001b[39;00m test[\u001b[38;5;124m'\u001b[39m\u001b[38;5;124mplayer\u001b[39m\u001b[38;5;124m'\u001b[39m]\u001b[38;5;241m.\u001b[39mbattle_against(test[\u001b[38;5;124m'\u001b[39m\u001b[38;5;124mopponent\u001b[39m\u001b[38;5;124m'\u001b[39m], n_battles\u001b[38;5;241m=\u001b[39mtest[\u001b[38;5;124m'\u001b[39m\u001b[38;5;124mn_battles\u001b[39m\u001b[38;5;124m'\u001b[39m])\n\u001b[1;32m      8\u001b[0m \u001b[38;5;28mprint\u001b[39m(\n\u001b[1;32m      9\u001b[0m     \u001b[38;5;124m\"\u001b[39m\u001b[38;5;124mPlayer with N0=\u001b[39m\u001b[38;5;132;01m%f\u001b[39;00m\u001b[38;5;124m and gamma=\u001b[39m\u001b[38;5;132;01m%f\u001b[39;00m\u001b[38;5;124m won \u001b[39m\u001b[38;5;132;01m%d\u001b[39;00m\u001b[38;5;124m / \u001b[39m\u001b[38;5;132;01m%d\u001b[39;00m\u001b[38;5;124m battles [this is \u001b[39m\u001b[38;5;132;01m%f\u001b[39;00m\u001b[38;5;124m percent and took \u001b[39m\u001b[38;5;132;01m%f\u001b[39;00m\u001b[38;5;124m seconds]\u001b[39m\u001b[38;5;124m\"\u001b[39m\n\u001b[1;32m     10\u001b[0m     \u001b[38;5;241m%\u001b[39m (\n\u001b[0;32m   (...)\u001b[0m\n\u001b[1;32m     17\u001b[0m     )\n\u001b[1;32m     18\u001b[0m )\n",
      "File \u001b[0;32m~/git/other/PokeRL/poke_RL/notebooks/../src/playerMC.py:626\u001b[0m, in \u001b[0;36mPlayer.battle_against\u001b[0;34m(self, opponent, n_battles)\u001b[0m\n\u001b[1;32m    616\u001b[0m \u001b[38;5;28;01masync\u001b[39;00m \u001b[38;5;28;01mdef\u001b[39;00m \u001b[38;5;21mbattle_against\u001b[39m(\u001b[38;5;28mself\u001b[39m, opponent: \u001b[38;5;124m\"\u001b[39m\u001b[38;5;124mPlayer\u001b[39m\u001b[38;5;124m\"\u001b[39m, n_battles: \u001b[38;5;28mint\u001b[39m) \u001b[38;5;241m-\u001b[39m\u001b[38;5;241m>\u001b[39m \u001b[38;5;28;01mNone\u001b[39;00m:\n\u001b[1;32m    617\u001b[0m \u001b[38;5;250m    \u001b[39m\u001b[38;5;124;03m\"\"\"Make the player play n_battles against opponent.\u001b[39;00m\n\u001b[1;32m    618\u001b[0m \n\u001b[1;32m    619\u001b[0m \u001b[38;5;124;03m    This function is a wrapper around send_challenges and accept challenges.\u001b[39;00m\n\u001b[0;32m   (...)\u001b[0m\n\u001b[1;32m    624\u001b[0m \u001b[38;5;124;03m    :type n_battles: int\u001b[39;00m\n\u001b[1;32m    625\u001b[0m \u001b[38;5;124;03m    \"\"\"\u001b[39;00m\n\u001b[0;32m--> 626\u001b[0m     \u001b[38;5;28;01mawait\u001b[39;00m handle_threaded_coroutines(\u001b[38;5;28mself\u001b[39m\u001b[38;5;241m.\u001b[39m_battle_against(opponent, n_battles))\n",
      "File \u001b[0;32m~/anaconda3/envs/poke_env/lib/python3.10/site-packages/poke_env/concurrency.py:64\u001b[0m, in \u001b[0;36mhandle_threaded_coroutines\u001b[0;34m(coro)\u001b[0m\n\u001b[1;32m     62\u001b[0m \u001b[38;5;28;01masync\u001b[39;00m \u001b[38;5;28;01mdef\u001b[39;00m \u001b[38;5;21mhandle_threaded_coroutines\u001b[39m(coro: Any):\n\u001b[1;32m     63\u001b[0m     task \u001b[38;5;241m=\u001b[39m asyncio\u001b[38;5;241m.\u001b[39mrun_coroutine_threadsafe(coro, POKE_LOOP)\n\u001b[0;32m---> 64\u001b[0m     \u001b[38;5;28;01mawait\u001b[39;00m asyncio\u001b[38;5;241m.\u001b[39mwrap_future(task)\n\u001b[1;32m     65\u001b[0m     \u001b[38;5;28;01mreturn\u001b[39;00m task\u001b[38;5;241m.\u001b[39mresult()\n",
      "\u001b[0;31mCancelledError\u001b[0m: "
     ]
    }
   ],
   "source": [
    "for test in tests:\n",
    "    start = time.time()\n",
    "    if use_neptune: run['params'] = test\n",
    "    test['opponent'] = MaxDamagePlayer(battle_format=\"gen8ou\", team=test['against'])\n",
    "    test['player'] = MCPlayer(battle_format=\"gen8ou\", team=test['team'], n0=test['n0'], gamma=test['gamma'])\n",
    "    await test['player'].battle_against(test['opponent'], n_battles=test['n_battles'])\n",
    "    \n",
    "    print(\n",
    "        \"Player with N0=%f and gamma=%f won %d / %d battles [this is %f percent and took %f seconds]\"\n",
    "        % (\n",
    "            round(test['n0'], 8), \n",
    "            round(test['gamma'], 8),\n",
    "            test['player'].n_won_battles,\n",
    "            len(test['player']._reward_buffer),\n",
    "            round(test['player'].n_won_battles/len(test['player']._reward_buffer)*100, 2),\n",
    "            round(time.time() - start, 2)\n",
    "        )\n",
    "    )\n",
    "    \n"
   ]
  },
  {
   "cell_type": "code",
   "execution_count": null,
   "id": "ddcd33d5",
   "metadata": {},
   "outputs": [],
   "source": [
    "if use_neptune: run.stop()"
   ]
  },
  {
   "cell_type": "code",
   "execution_count": null,
   "id": "cf129cfd",
   "metadata": {},
   "outputs": [],
   "source": []
  },
  {
   "cell_type": "code",
   "execution_count": 19,
   "id": "4e366af3",
   "metadata": {},
   "outputs": [],
   "source": [
    "import os\n",
    "import json\n",
    "import re\n",
    "from datetime import date\n",
    "today = date.today()\n"
   ]
  },
  {
   "cell_type": "code",
   "execution_count": 20,
   "id": "cf054928",
   "metadata": {},
   "outputs": [],
   "source": [
    "\n",
    "from py.variables.utils import save_to_json as save_to_json"
   ]
  },
  {
   "cell_type": "code",
   "execution_count": 21,
   "id": "c77074c9",
   "metadata": {},
   "outputs": [
    {
     "ename": "KeyError",
     "evalue": "'player'",
     "output_type": "error",
     "traceback": [
      "\u001b[0;31m---------------------------------------------------------------------------\u001b[0m",
      "\u001b[0;31mKeyError\u001b[0m                                  Traceback (most recent call last)",
      "Cell \u001b[0;32mIn[21], line 3\u001b[0m\n\u001b[1;32m      1\u001b[0m \u001b[38;5;66;03m# Saving Q and N to json files\u001b[39;00m\n\u001b[1;32m      2\u001b[0m \u001b[38;5;28;01mfor\u001b[39;00m params \u001b[38;5;129;01min\u001b[39;00m tests:\n\u001b[0;32m----> 3\u001b[0m     save_to_json(\u001b[38;5;124m\"\u001b[39m\u001b[38;5;124m./dump\u001b[39m\u001b[38;5;124m\"\u001b[39m, params, \u001b[38;5;124m\"\u001b[39m\u001b[38;5;124mQ\u001b[39m\u001b[38;5;124m\"\u001b[39m, \u001b[43mparams\u001b[49m\u001b[43m[\u001b[49m\u001b[38;5;124;43m'\u001b[39;49m\u001b[38;5;124;43mplayer\u001b[39;49m\u001b[38;5;124;43m'\u001b[39;49m\u001b[43m]\u001b[49m\u001b[38;5;241m.\u001b[39mQ)\n\u001b[1;32m      4\u001b[0m     save_to_json(\u001b[38;5;124m\"\u001b[39m\u001b[38;5;124m./dump\u001b[39m\u001b[38;5;124m\"\u001b[39m, params, \u001b[38;5;124m\"\u001b[39m\u001b[38;5;124mN\u001b[39m\u001b[38;5;124m\"\u001b[39m, params[\u001b[38;5;124m'\u001b[39m\u001b[38;5;124mplayer\u001b[39m\u001b[38;5;124m'\u001b[39m]\u001b[38;5;241m.\u001b[39mN)\n",
      "\u001b[0;31mKeyError\u001b[0m: 'player'"
     ]
    }
   ],
   "source": [
    "# Saving Q and N to json files\n",
    "for params in tests:\n",
    "    save_to_json(\"./dump\", params, \"Q\", params['player'].Q)\n",
    "    save_to_json(\"./dump\", params, \"N\", params['player'].N)"
   ]
  },
  {
   "cell_type": "code",
   "execution_count": null,
   "id": "38a97330",
   "metadata": {},
   "outputs": [],
   "source": []
  },
  {
   "cell_type": "code",
   "execution_count": null,
   "id": "fb23a3eb",
   "metadata": {},
   "outputs": [],
   "source": []
  },
  {
   "cell_type": "code",
   "execution_count": 23,
   "id": "56ea426b",
   "metadata": {},
   "outputs": [
    {
     "ename": "FileNotFoundError",
     "evalue": "[Errno 2] No such file or directory: 'path\\\\211029\\\\qvalues'",
     "output_type": "error",
     "traceback": [
      "\u001b[0;31m---------------------------------------------------------------------------\u001b[0m",
      "\u001b[0;31mFileNotFoundError\u001b[0m                         Traceback (most recent call last)",
      "Cell \u001b[0;32mIn[23], line 6\u001b[0m\n\u001b[1;32m      4\u001b[0m Narray \u001b[38;5;241m=\u001b[39m []\n\u001b[1;32m      5\u001b[0m directoryN \u001b[38;5;241m=\u001b[39m \u001b[38;5;124mr\u001b[39m\u001b[38;5;124m'\u001b[39m\u001b[38;5;124mpath\u001b[39m\u001b[38;5;124m\\\u001b[39m\u001b[38;5;124m211029\u001b[39m\u001b[38;5;124m\\\u001b[39m\u001b[38;5;124mnvalues\u001b[39m\u001b[38;5;124m'\u001b[39m\n\u001b[0;32m----> 6\u001b[0m \u001b[38;5;28;01mfor\u001b[39;00m filenameQ \u001b[38;5;129;01min\u001b[39;00m \u001b[43mos\u001b[49m\u001b[38;5;241;43m.\u001b[39;49m\u001b[43mlistdir\u001b[49m\u001b[43m(\u001b[49m\u001b[43mdirectoryQ\u001b[49m\u001b[43m)\u001b[49m:\n\u001b[1;32m      7\u001b[0m     Qjson_file \u001b[38;5;241m=\u001b[39m \u001b[38;5;28mopen\u001b[39m(directoryQ\u001b[38;5;241m+\u001b[39m\u001b[38;5;124m'\u001b[39m\u001b[38;5;124m/\u001b[39m\u001b[38;5;124m'\u001b[39m\u001b[38;5;241m+\u001b[39mfilenameQ,)\n\u001b[1;32m      8\u001b[0m     Qjson \u001b[38;5;241m=\u001b[39m json\u001b[38;5;241m.\u001b[39mload(Qjson_file)\n",
      "\u001b[0;31mFileNotFoundError\u001b[0m: [Errno 2] No such file or directory: 'path\\\\211029\\\\qvalues'"
     ]
    }
   ],
   "source": [
    "# Get values from json files\n",
    "Qarray = []\n",
    "directoryQ = r'path\\211029\\qvalues'\n",
    "Narray = []\n",
    "directoryN = r'path\\211029\\nvalues'\n",
    "for filenameQ in os.listdir(directoryQ):\n",
    "    Qjson_file = open(directoryQ+'/'+filenameQ,)\n",
    "    Qjson = json.load(Qjson_file)\n",
    "    for key in Qjson:\n",
    "        Qjson[key] = np.array(Qjson[key])\n",
    "    Qarray.append(Qjson)\n",
    "\n",
    "for filenameN in os.listdir(directoryN):\n",
    "    Njson_file = open(directoryN+'/'+filenameN,)\n",
    "    Njson = json.load(Njson_file)\n",
    "    for key in Njson:\n",
    "        Njson[key] = np.array(Njson[key])\n",
    "    Narray.append(Njson)\n",
    "    "
   ]
  },
  {
   "cell_type": "code",
   "execution_count": 27,
   "id": "2fc91ea3",
   "metadata": {},
   "outputs": [],
   "source": [
    "from py.agents.ValidationPlayer import ValidationPlayerMC as ValidationPlayer"
   ]
  },
  {
   "cell_type": "code",
   "execution_count": null,
   "id": "e6ec466d",
   "metadata": {},
   "outputs": [],
   "source": []
  },
  {
   "cell_type": "code",
   "execution_count": 31,
   "id": "7bc085f8",
   "metadata": {},
   "outputs": [],
   "source": [
    "# Validate with values from json - vs RandomPlayer\n",
    "for test, qvalue, nvalue in zip(tests, Qarray, Narray):\n",
    "    start = time.time()\n",
    "    test['opponent'] = RandomPlayer(battle_format=\"gen8ou\", team=test['against'])\n",
    "    test['player_val'] = ValidationPlayer(battle_format=\"gen8ou\", team=test['team'], Q=qvalue, N=nvalue, n0=test['n0'])\n",
    "    await test['player_val'].battle_against(test['opponent'], n_battles=int(test['n_battles']/3))\n",
    "    \n",
    "    print(\n",
    "        \"Player with N0=%f and gamma=%f won %d / %d battles [this is %f percent and took %f seconds]\"\n",
    "        % (\n",
    "            round(test['n0'], 8),\n",
    "            round(test['gamma'], 8),\n",
    "            test['player_val'].n_won_battles,\n",
    "            int(test['n_battles']/3),\n",
    "            round(test['player_val'].n_won_battles/int(test['n_battles']/3), 2),\n",
    "            round(time.time() - start, 2)\n",
    "        )\n",
    "    )"
   ]
  },
  {
   "cell_type": "code",
   "execution_count": 29,
   "id": "7aaa948a",
   "metadata": {},
   "outputs": [],
   "source": [
    "# Validate with values from json - vs MaxPlayer\n",
    "for test, qvalue, nvalue in zip(tests, Qarray, Narray):\n",
    "    start = time.time()\n",
    "    test['opponent'] = MaxDamagePlayer(battle_format=\"gen8ou\", team=test['against'])\n",
    "    test['player_val'] = ValidationPlayer(battle_format=\"gen8ou\", team=test['team'], Q=qvalue, N=nvalue, n0=test['n0'])\n",
    "    await test['player_val'].battle_against(test['opponent'], n_battles=int(test['n_battles']/3))\n",
    "    \n",
    "    print(\n",
    "        \"Player with N0=%f and gamma=%f won %d / %d battles [this is %f percent and took %f seconds]\"\n",
    "        % (\n",
    "            round(test['n0'], 8),\n",
    "            round(test['gamma'], 8),\n",
    "            test['player_val'].n_won_battles,\n",
    "            int(test['n_battles']/1000),\n",
    "            round(test['player_val'].n_won_battles/int(test['n_battles']/3), 2),\n",
    "            round(time.time() - start, 2)\n",
    "        )\n",
    "    )"
   ]
  },
  {
   "cell_type": "code",
   "execution_count": null,
   "id": "5074bc57",
   "metadata": {},
   "outputs": [],
   "source": [
    "output_folder = \"images/vfunction\"\n"
   ]
  },
  {
   "cell_type": "code",
   "execution_count": null,
   "id": "9f8574eb",
   "metadata": {},
   "outputs": [],
   "source": [
    "# state is 4 moves_base_power, 4 moves_dmg_multiplier, [remaining_mon_team, remaining_mon_opponent]\n",
    "# 3D graph: X: sum(moves_base_power * moves_dmg_multiplier), Y: remaining_mon_team - remaining_mon_opponent"
   ]
  },
  {
   "cell_type": "code",
   "execution_count": null,
   "id": "9b60182c",
   "metadata": {
    "scrolled": true
   },
   "outputs": [],
   "source": [
    "# Data for plotting: Create value function from action-value function\n",
    "# by picking the best action at each state\n",
    "\n",
    "# x: index_pokemon*20+sum(moves_base_power * moves_dmg_multiplier)\n",
    "# y: remaining_mon_team - remaining_mon_opponent\n",
    "# z: value function\n",
    "\n",
    "v_array = []\n",
    "directoryQ = r'path\\211029\\qvalues'\n",
    "\n",
    "for filenameQ in os.listdir(directoryQ):\n",
    "    Qjson_file = open(directoryQ+'/'+filenameQ,)\n",
    "    Qjson = json.load(Qjson_file)\n",
    "\n",
    "    for key in Qjson:\n",
    "        Qjson[key] = np.array(Qjson[key])\n",
    "        \n",
    "    z_values = []\n",
    "    x_values = []\n",
    "    y_values = []\n",
    "    #for state, actions in test['player_val'].Q.items():\n",
    "    for state, actions in Qjson.items():    \n",
    "        action_value = np.max(actions)\n",
    "        z_values.append(action_value)\n",
    "        state = re.sub(r\"[,!?><:'\\[\\]()@*~#]\",\"\", state)\n",
    "        key_float = [float(k) for k in state.split()]\n",
    "        x_emb = key_float[0]*20+key_float[1]*key_float[5]+key_float[2]*key_float[6]+key_float[3]*key_float[7]+key_float[4]*key_float[8]\n",
    "        x_values.append(x_emb)\n",
    "        y_emb = key_float[8]-key_float[9]\n",
    "        y_values.append(y_emb)\n",
    "        #V[x_emb,y_emb] = action_value\n",
    "    v_array.append((x_values, y_values, z_values))\n"
   ]
  },
  {
   "cell_type": "code",
   "execution_count": null,
   "id": "79dd7d50",
   "metadata": {},
   "outputs": [],
   "source": []
  },
  {
   "cell_type": "code",
   "execution_count": null,
   "id": "1546ca44",
   "metadata": {},
   "outputs": [],
   "source": [
    "import pandas as pd\n",
    "from scipy.interpolate import griddata\n",
    "\n",
    "# x: index_pokemon*20+sum(moves_base_power * moves_dmg_multiplier)\n",
    "# y: remaining_mon_team - remaining_mon_opponent\n",
    "# z: value function\n",
    "\n",
    "for vvalue, filenameQ in zip(v_array, os.listdir(directoryQ)):\n",
    "    print(filenameQ.split('.')[0])\n",
    "    x_values, y_values, z_values = vvalue \n",
    "    z_plot = np.array(z_values).reshape(len(z_values),1)\n",
    "    x_plot = np.array(x_values)\n",
    "    y_plot = np.array(y_values)\n",
    "    xyz = {'x': x_plot, 'y': y_plot, 'z': np.array(z_values)}\n",
    "    df = pd.DataFrame(xyz, index=range(len(xyz['x']))) \n",
    "    x1 = np.linspace(df['x'].min(), df['x'].max(), len(df['x'].unique()))\n",
    "    y1 = np.linspace(df['y'].min(), df['y'].max(), len(df['y'].unique()))\n",
    "    x2, y2 = np.meshgrid(x1, y1)\n",
    "    z2 = griddata((df['x'], df['y']), df['z'], (x2, y2), method='nearest')\n",
    "\n",
    "    fig = plt.figure(figsize=(20, 10))\n",
    "    ax = fig.gca(projection='3d')\n",
    "    ax.set_xlabel('index_pokemon*20+sum(moves_base_power * moves_dmg_multiplier)')\n",
    "    ax.set_ylabel('remaining_mon_team - remaining_mon_opponent')\n",
    "    ax.set_zlabel('Value')\n",
    "    ax.set_title('Value - Index for x axis: 0 venusaur;  1*20 pikachuoriginal; 2*20 tauros, 3*20 sirfetchd, 4*20 blastoise, 5*20 charizard')\n",
    "\n",
    "    surf = ax.plot_surface(x2, y2, z2, rstride=1, cstride=1, cmap=matplotlib.cm.coolwarm,\n",
    "        linewidth=0, antialiased=False)\n",
    "    fig.colorbar(surf)\n",
    "    filename = filenameQ.split('.')[0]+'_Stoc_Index.pdf'\n",
    "    path_plot = output_folder+'/MCControl'\n",
    "    if not os.path.exists(path_plot):\n",
    "        os.makedirs(path_plot)\n",
    "    plt.savefig(path_plot+filename) \n",
    "    plt.show()\n"
   ]
  },
  {
   "cell_type": "code",
   "execution_count": null,
   "id": "40b94537",
   "metadata": {},
   "outputs": [],
   "source": [
    "# x: sum(moves_base_power * moves_dmg_multiplier)\n",
    "# y: remaining_mon_team - remaining_mon_opponent\n",
    "# z: value function\n",
    "\n",
    "v_array = []\n",
    "directoryQ = r'path\\211029\\qvalues'\n",
    "\n",
    "for filenameQ in os.listdir(directoryQ):\n",
    "    Qjson_file = open(directoryQ+'/'+filenameQ,)\n",
    "    Qjson = json.load(Qjson_file)\n",
    "\n",
    "    for key in Qjson:\n",
    "        Qjson[key] = np.array(Qjson[key])\n",
    "        \n",
    "    z_values = []\n",
    "    x_values = []\n",
    "    y_values = []\n",
    "\n",
    "    for state, actions in Qjson.items():    \n",
    "        action_value = np.max(actions)\n",
    "        z_values.append(action_value)\n",
    "        state = re.sub(r\"[,!?><:'\\[\\]()@*~#]\",\"\", state)\n",
    "        key_float = [float(k) for k in state.split()]\n",
    "        x_emb = key_float[1]*key_float[5]+key_float[2]*key_float[6]+key_float[3]*key_float[7]+key_float[4]*key_float[8]\n",
    "        x_values.append(x_emb)\n",
    "        y_emb = key_float[8]-key_float[9]\n",
    "        y_values.append(y_emb)\n",
    "        #V[x_emb,y_emb] = action_value\n",
    "    v_array.append((x_values, y_values, z_values))\n"
   ]
  },
  {
   "cell_type": "code",
   "execution_count": null,
   "id": "6505706a",
   "metadata": {},
   "outputs": [],
   "source": [
    "# x: sum(moves_base_power * moves_dmg_multiplier)\n",
    "# y: remaining_mon_team - remaining_mon_opponent\n",
    "# z: value function\n",
    "\n",
    "import pandas as pd\n",
    "from scipy.interpolate import griddata\n",
    "for vvalue, filenameQ in zip(v_array, os.listdir(directoryQ)):\n",
    "    print(filenameQ)\n",
    "    x_values, y_values, z_values = vvalue \n",
    "    z_plot = np.array(z_values).reshape(len(z_values),1)\n",
    "    x_plot = np.array(x_values)\n",
    "    y_plot = np.array(y_values)\n",
    "    xyz = {'x': x_plot, 'y': y_plot, 'z': np.array(z_values)}\n",
    "    df = pd.DataFrame(xyz, index=range(len(xyz['x']))) \n",
    "    x1 = np.linspace(df['x'].min(), df['x'].max(), len(df['x'].unique()))\n",
    "    y1 = np.linspace(df['y'].min(), df['y'].max(), len(df['y'].unique()))\n",
    "    x2, y2 = np.meshgrid(x1, y1)\n",
    "    z2 = griddata((df['x'], df['y']), df['z'], (x2, y2), method='nearest')\n",
    "\n",
    "    fig = plt.figure(figsize=(20, 10))\n",
    "    ax = fig.gca(projection='3d')\n",
    "    ax.set_xlabel('sum(moves_base_power * moves_dmg_multiplier)')\n",
    "    ax.set_ylabel('remaining_mon_team - remaining_mon_opponent')\n",
    "    ax.set_zlabel('Value')\n",
    "    ax.set_title('Value - No Index')\n",
    "\n",
    "    surf = ax.plot_surface(x2, y2, z2, rstride=1, cstride=1, cmap=matplotlib.cm.coolwarm,\n",
    "        linewidth=0, antialiased=False)\n",
    "    fig.colorbar(surf)\n",
    "    filename = filenameQ.split('.')[0]+'_Stoc_noIndex.pdf'\n",
    "    path_plot = output_folder+'/MCControl'\n",
    "    if not os.path.exists(path_plot):\n",
    "        os.makedirs(path_plot)\n",
    "    plt.savefig(path_plot+filename) \n",
    "    plt.show()"
   ]
  },
  {
   "cell_type": "code",
   "execution_count": null,
   "id": "455d40df",
   "metadata": {},
   "outputs": [],
   "source": [
    "# x: (remaining_mon_team - remaining_mon_opponent)*sum(moves_base_power * moves_dmg_multiplier)\n",
    "# y: action\n",
    "# z: value function\n",
    "\n",
    "v_array = []\n",
    "#for test in tests:\n",
    "directoryQ = r'path\\211029\\qvalues'\n",
    "\n",
    "for filenameQ in os.listdir(directoryQ):\n",
    "    Qjson_file = open(directoryQ+'/'+filenameQ,)\n",
    "    Qjson = json.load(Qjson_file)\n",
    "\n",
    "    for key in Qjson:\n",
    "        Qjson[key] = np.array(Qjson[key])\n",
    "        \n",
    "    z_values = []\n",
    "    x_values = []\n",
    "    y_values = []\n",
    "    for state, actions in Qjson.items(): \n",
    "        \n",
    "        action_value = np.max(actions)\n",
    "        z_values.append(action_value)\n",
    "        state = re.sub(r\"[,!?><:'\\[\\]()@*~#]\",\"\", state)\n",
    "        key_float = [float(k) for k in state.split()]\n",
    "        x_emb = (key_float[8]-key_float[9])*(key_float[1]*key_float[5]+key_float[2]*key_float[6]+key_float[3]*key_float[7]+key_float[4]*key_float[8])\n",
    "        x_values.append(x_emb)\n",
    "        y_emb = np.argmax(actions)\n",
    "        y_values.append(y_emb)\n",
    "        #V[x_emb,y_emb] = action_value\n",
    "    v_array.append((x_values, y_values, z_values))"
   ]
  },
  {
   "cell_type": "code",
   "execution_count": null,
   "id": "c492f37e",
   "metadata": {},
   "outputs": [],
   "source": [
    "# x: (remaining_mon_team - remaining_mon_opponent)*sum(moves_base_power * moves_dmg_multiplier)\n",
    "# y: action\n",
    "# z: value function\n",
    "\n",
    "import pandas as pd\n",
    "from scipy.interpolate import griddata\n",
    "for vvalue, filenameQ in zip(v_array, os.listdir(directoryQ)):\n",
    "    print(filenameQ)\n",
    "    x_values, y_values, z_values = vvalue \n",
    "    z_plot = np.array(z_values).reshape(len(z_values),1)\n",
    "    x_plot = np.array(x_values)\n",
    "    y_plot = np.array(y_values)\n",
    "    xyz = {'x': x_plot, 'y': y_plot, 'z': np.array(z_values)}\n",
    "    df = pd.DataFrame(xyz, index=range(len(xyz['x']))) \n",
    "    x1 = np.linspace(df['x'].min(), df['x'].max(), len(df['x'].unique()))\n",
    "    y1 = np.linspace(df['y'].min(), df['y'].max(), len(df['y'].unique()))\n",
    "    x2, y2 = np.meshgrid(x1, y1)\n",
    "    z2 = griddata((df['x'], df['y']), df['z'], (x2, y2), method='nearest')\n",
    "\n",
    "    fig = plt.figure(figsize=(20, 10))\n",
    "    ax = fig.gca(projection='3d')\n",
    "    ax.set_xlabel('(remaining_mon_team - remaining_mon_opponent)*sum(moves_base_power * moves_dmg_multiplier)')\n",
    "    ax.set_ylabel('action')\n",
    "    ax.set_zlabel('Value')\n",
    "    ax.set_title('Value Function - No index')\n",
    "\n",
    "    surf = ax.plot_surface(x2, y2, z2, rstride=1, cstride=1, cmap=matplotlib.cm.coolwarm,\n",
    "        linewidth=0, antialiased=False)\n",
    "    fig.colorbar(surf)\n",
    "    filename = filenameQ.split('.')[0]+'_Stoc_noIndex_action.pdf'\n",
    "    path_plot = output_folder+'/MCControl'\n",
    "    if not os.path.exists(path_plot):\n",
    "        os.makedirs(path_plot)\n",
    "    plt.savefig(path_plot+filename)     \n",
    "    plt.show()    "
   ]
  },
  {
   "cell_type": "code",
   "execution_count": null,
   "id": "c79c0c5d",
   "metadata": {},
   "outputs": [],
   "source": []
  },
  {
   "cell_type": "code",
   "execution_count": null,
   "id": "563b3d73",
   "metadata": {},
   "outputs": [],
   "source": []
  },
  {
   "cell_type": "code",
   "execution_count": null,
   "id": "6140c4ff",
   "metadata": {},
   "outputs": [],
   "source": []
  },
  {
   "cell_type": "code",
   "execution_count": null,
   "id": "80403d8d",
   "metadata": {},
   "outputs": [],
   "source": []
  },
  {
   "cell_type": "code",
   "execution_count": null,
   "id": "51b5d6b2",
   "metadata": {},
   "outputs": [],
   "source": []
  },
  {
   "cell_type": "code",
   "execution_count": null,
   "id": "109cfa71",
   "metadata": {},
   "outputs": [],
   "source": []
  },
  {
   "cell_type": "code",
   "execution_count": null,
   "id": "f5782d39",
   "metadata": {},
   "outputs": [],
   "source": []
  },
  {
   "cell_type": "code",
   "execution_count": null,
   "id": "9e3ab058",
   "metadata": {},
   "outputs": [],
   "source": []
  },
  {
   "cell_type": "code",
   "execution_count": null,
   "id": "06590a23",
   "metadata": {},
   "outputs": [],
   "source": []
  },
  {
   "cell_type": "code",
   "execution_count": null,
   "id": "f77534cd",
   "metadata": {},
   "outputs": [],
   "source": []
  },
  {
   "cell_type": "code",
   "execution_count": null,
   "id": "c1da790c",
   "metadata": {},
   "outputs": [],
   "source": []
  },
  {
   "cell_type": "code",
   "execution_count": null,
   "id": "7a081198",
   "metadata": {},
   "outputs": [],
   "source": []
  },
  {
   "cell_type": "code",
   "execution_count": null,
   "id": "fe34e200",
   "metadata": {},
   "outputs": [],
   "source": [
    "\n"
   ]
  },
  {
   "cell_type": "code",
   "execution_count": null,
   "id": "1cad0edd",
   "metadata": {},
   "outputs": [],
   "source": []
  },
  {
   "cell_type": "code",
   "execution_count": null,
   "id": "069095c3",
   "metadata": {},
   "outputs": [],
   "source": []
  },
  {
   "cell_type": "code",
   "execution_count": null,
   "id": "a5e8cdfa",
   "metadata": {},
   "outputs": [],
   "source": []
  },
  {
   "cell_type": "code",
   "execution_count": null,
   "id": "bb623a0d",
   "metadata": {},
   "outputs": [],
   "source": []
  },
  {
   "cell_type": "code",
   "execution_count": null,
   "id": "ed27cd46",
   "metadata": {},
   "outputs": [],
   "source": []
  },
  {
   "cell_type": "code",
   "execution_count": null,
   "id": "5176ce50",
   "metadata": {},
   "outputs": [],
   "source": []
  },
  {
   "cell_type": "code",
   "execution_count": null,
   "id": "c081ea45",
   "metadata": {},
   "outputs": [],
   "source": []
  }
 ],
 "metadata": {
  "kernelspec": {
   "display_name": "Python 3 (ipykernel)",
   "language": "python",
   "name": "python3"
  },
  "language_info": {
   "codemirror_mode": {
    "name": "ipython",
    "version": 3
   },
   "file_extension": ".py",
   "mimetype": "text/x-python",
   "name": "python",
   "nbconvert_exporter": "python",
   "pygments_lexer": "ipython3",
   "version": "3.10.13"
  }
 },
 "nbformat": 4,
 "nbformat_minor": 5
}
